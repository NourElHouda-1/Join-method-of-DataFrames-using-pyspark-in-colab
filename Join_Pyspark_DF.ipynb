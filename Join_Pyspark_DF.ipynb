{
  "nbformat": 4,
  "nbformat_minor": 0,
  "metadata": {
    "colab": {
      "name": "ProjectBD.ipynb",
      "provenance": [],
      "collapsed_sections": []
    },
    "kernelspec": {
      "name": "python3",
      "display_name": "Python 3"
    },
    "language_info": {
      "name": "python"
    }
  },
  "cells": [
    {
      "cell_type": "markdown",
      "metadata": {
        "id": "gj9FjtL3Jzy9"
      },
      "source": [
        "**1st part: Install Spark**"
      ]
    },
    {
      "cell_type": "code",
      "metadata": {
        "id": "xh65IOoBHU5q"
      },
      "source": [
        "# Install java\n",
        "!apt-get install openjdk-8-jdk-headless -qq > /dev/null\n",
        "# Install spark (change the version number if needed)\n",
        "!wget -q https://archive.apache.org/dist/spark/spark-3.0.0/spark-3.0.0-bin-hadoop3.2.tgz\n",
        "# Unzip the spark file to the current folder\n",
        "!tar xf spark-3.0.0-bin-hadoop3.2.tgz"
      ],
      "execution_count": 2,
      "outputs": []
    },
    {
      "cell_type": "code",
      "metadata": {
        "id": "U7wrN1A5HwEE"
      },
      "source": [
        "# Set your spark folder to your system path environment\n",
        "import os\n",
        "os.environ[\"JAVA_HOME\"] = \"/usr/lib/jvm/java-8-openjdk-amd64\"\n",
        "os.environ[\"SPARK_HOME\"] = \"/content/spark-3.0.0-bin-hadoop3.2\""
      ],
      "execution_count": 3,
      "outputs": []
    },
    {
      "cell_type": "code",
      "metadata": {
        "id": "0fMS1wuRH295"
      },
      "source": [
        "# Install findspark using pip\n",
        "!pip install -q findspark"
      ],
      "execution_count": 4,
      "outputs": []
    },
    {
      "cell_type": "code",
      "metadata": {
        "colab": {
          "base_uri": "https://localhost:8080/"
        },
        "id": "R1AqhjWLH4-x",
        "outputId": "7f77ce12-f242-4f72-f797-7b40e6d5d32e"
      },
      "source": [
        "# Spark for Python\n",
        "!pip install pyspark"
      ],
      "execution_count": 5,
      "outputs": [
        {
          "output_type": "stream",
          "name": "stdout",
          "text": [
            "Collecting pyspark\n",
            "  Downloading pyspark-3.2.0.tar.gz (281.3 MB)\n",
            "\u001b[K     |████████████████████████████████| 281.3 MB 35 kB/s \n",
            "\u001b[?25hCollecting py4j==0.10.9.2\n",
            "  Downloading py4j-0.10.9.2-py2.py3-none-any.whl (198 kB)\n",
            "\u001b[K     |████████████████████████████████| 198 kB 52.9 MB/s \n",
            "\u001b[?25hBuilding wheels for collected packages: pyspark\n",
            "  Building wheel for pyspark (setup.py) ... \u001b[?25l\u001b[?25hdone\n",
            "  Created wheel for pyspark: filename=pyspark-3.2.0-py2.py3-none-any.whl size=281805912 sha256=8f1d1080c9e7475d0660b4990bd78988c1c08c019adaa84a92ac0104bfc04dbe\n",
            "  Stored in directory: /root/.cache/pip/wheels/0b/de/d2/9be5d59d7331c6c2a7c1b6d1a4f463ce107332b1ecd4e80718\n",
            "Successfully built pyspark\n",
            "Installing collected packages: py4j, pyspark\n",
            "Successfully installed py4j-0.10.9.2 pyspark-3.2.0\n"
          ]
        }
      ]
    },
    {
      "cell_type": "code",
      "metadata": {
        "id": "ebR9AKRwICN2"
      },
      "source": [
        "import findspark \n",
        "findspark.init()"
      ],
      "execution_count": 6,
      "outputs": []
    },
    {
      "cell_type": "code",
      "metadata": {
        "id": "JjLrT05lPspa"
      },
      "source": [
        "from pyspark.sql import SparkSession"
      ],
      "execution_count": 8,
      "outputs": []
    },
    {
      "cell_type": "code",
      "metadata": {
        "id": "oAwrQe7vPvBc"
      },
      "source": [
        "sc = SparkSession.builder.master(\"local[*]\").getOrCreate()"
      ],
      "execution_count": 9,
      "outputs": []
    },
    {
      "cell_type": "markdown",
      "metadata": {
        "id": "DBqOku-BJ-g_"
      },
      "source": [
        "**Second part: Load the data set from my desktop**"
      ]
    },
    {
      "cell_type": "code",
      "metadata": {
        "id": "86Hilh4dC_-c"
      },
      "source": [
        "files.upload() "
      ],
      "execution_count": null,
      "outputs": []
    },
    {
      "cell_type": "code",
      "metadata": {
        "colab": {
          "base_uri": "https://localhost:8080/"
        },
        "id": "BvfhbMuKIB_p",
        "outputId": "e6f52db1-b0f6-4eda-acc2-455a31eed82f"
      },
      "source": [
        "!ls"
      ],
      "execution_count": 10,
      "outputs": [
        {
          "output_type": "stream",
          "name": "stdout",
          "text": [
            "cities.csv  groups_topics.csv  spark-3.0.0-bin-hadoop3.2\ttopics.csv\n",
            "events.csv  members.csv        spark-3.0.0-bin-hadoop3.2.tgz\tvenues.csv\n",
            "groups.csv  sample_data        spark-3.0.0-bin-hadoop3.2.tgz.1\n"
          ]
        }
      ]
    },
    {
      "cell_type": "code",
      "metadata": {
        "id": "EACRFPjoCzD_"
      },
      "source": [
        "data_cities = sc.read.csv (\"cities.csv\", inferSchema= True , header= True) "
      ],
      "execution_count": 12,
      "outputs": []
    },
    {
      "cell_type": "code",
      "metadata": {
        "id": "HV_zj9kJPyNf"
      },
      "source": [
        "data_events = sc.read.csv (\"events.csv\", inferSchema= True , header= True) "
      ],
      "execution_count": 13,
      "outputs": []
    },
    {
      "cell_type": "code",
      "metadata": {
        "id": "j6Sw0aQAQduD"
      },
      "source": [
        "data_groups = sc.read.csv (\"groups.csv\", inferSchema= True , header= True) "
      ],
      "execution_count": 14,
      "outputs": []
    },
    {
      "cell_type": "code",
      "metadata": {
        "id": "UW2KHYyLQhfK"
      },
      "source": [
        "data_groupsTopics = sc.read.csv (\"groups_topics.csv\", inferSchema= True , header= True) "
      ],
      "execution_count": 15,
      "outputs": []
    },
    {
      "cell_type": "code",
      "metadata": {
        "id": "TGcTPDsPQlMj"
      },
      "source": [
        "data_members = sc.read.csv (\"members.csv\", inferSchema= True , header= True) "
      ],
      "execution_count": 16,
      "outputs": []
    },
    {
      "cell_type": "code",
      "metadata": {
        "id": "fKcb3gBmQoPQ"
      },
      "source": [
        "data_topics = sc.read.csv (\"/content/topics.csv\", inferSchema= True , header= True) "
      ],
      "execution_count": 19,
      "outputs": []
    },
    {
      "cell_type": "code",
      "metadata": {
        "id": "1GSVDF4iQroI"
      },
      "source": [
        "data_venues = sc.read.csv (\"venues.csv\", inferSchema= True , header= True) "
      ],
      "execution_count": 21,
      "outputs": []
    },
    {
      "cell_type": "markdown",
      "metadata": {
        "id": "OLmUsdD3RwIp"
      },
      "source": [
        "**Third part: discovering data**"
      ]
    },
    {
      "cell_type": "code",
      "metadata": {
        "colab": {
          "base_uri": "https://localhost:8080/",
          "height": 651
        },
        "id": "TZoOcp-VRkua",
        "outputId": "a152d10f-8928-4970-b0f8-42dc532a8c4e"
      },
      "source": [
        "data_cities.printSchema() #to ensure if spark read correctly the data set\n",
        "data_cities.describe().toPandas().transpose()#use describe and convert the output to Pandas and use transpose to make it more clear \n",
        "                                     #in order to use some statistic values for better understanding and identify any anomalies\n",
        "                                     #statistics are calculated by the describe() function on a dataset in PySpark (mean, max , min...)"
      ],
      "execution_count": 22,
      "outputs": [
        {
          "output_type": "stream",
          "name": "stdout",
          "text": [
            "root\n",
            " |-- city: string (nullable = true)\n",
            " |-- city_id: integer (nullable = true)\n",
            " |-- country: string (nullable = true)\n",
            " |-- distance: double (nullable = true)\n",
            " |-- latitude: double (nullable = true)\n",
            " |-- localized_country_name: string (nullable = true)\n",
            " |-- longitude: double (nullable = true)\n",
            " |-- member_count: integer (nullable = true)\n",
            " |-- ranking: integer (nullable = true)\n",
            " |-- state: string (nullable = true)\n",
            " |-- zip: integer (nullable = true)\n",
            "\n"
          ]
        },
        {
          "output_type": "execute_result",
          "data": {
            "text/html": [
              "<div>\n",
              "<style scoped>\n",
              "    .dataframe tbody tr th:only-of-type {\n",
              "        vertical-align: middle;\n",
              "    }\n",
              "\n",
              "    .dataframe tbody tr th {\n",
              "        vertical-align: top;\n",
              "    }\n",
              "\n",
              "    .dataframe thead th {\n",
              "        text-align: right;\n",
              "    }\n",
              "</style>\n",
              "<table border=\"1\" class=\"dataframe\">\n",
              "  <thead>\n",
              "    <tr style=\"text-align: right;\">\n",
              "      <th></th>\n",
              "      <th>0</th>\n",
              "      <th>1</th>\n",
              "      <th>2</th>\n",
              "      <th>3</th>\n",
              "      <th>4</th>\n",
              "    </tr>\n",
              "  </thead>\n",
              "  <tbody>\n",
              "    <tr>\n",
              "      <th>summary</th>\n",
              "      <td>count</td>\n",
              "      <td>mean</td>\n",
              "      <td>stddev</td>\n",
              "      <td>min</td>\n",
              "      <td>max</td>\n",
              "    </tr>\n",
              "    <tr>\n",
              "      <th>city</th>\n",
              "      <td>13</td>\n",
              "      <td>None</td>\n",
              "      <td>None</td>\n",
              "      <td>Chicago</td>\n",
              "      <td>West New York</td>\n",
              "    </tr>\n",
              "    <tr>\n",
              "      <th>city_id</th>\n",
              "      <td>13</td>\n",
              "      <td>55304.53846153846</td>\n",
              "      <td>30251.68028009735</td>\n",
              "      <td>7093</td>\n",
              "      <td>95712</td>\n",
              "    </tr>\n",
              "    <tr>\n",
              "      <th>country</th>\n",
              "      <td>13</td>\n",
              "      <td>None</td>\n",
              "      <td>None</td>\n",
              "      <td>us</td>\n",
              "      <td>us</td>\n",
              "    </tr>\n",
              "    <tr>\n",
              "      <th>distance</th>\n",
              "      <td>13</td>\n",
              "      <td>1523.7936153846158</td>\n",
              "      <td>894.8365915047038</td>\n",
              "      <td>25.883</td>\n",
              "      <td>2526.837</td>\n",
              "    </tr>\n",
              "    <tr>\n",
              "      <th>latitude</th>\n",
              "      <td>13</td>\n",
              "      <td>41.29769223076922</td>\n",
              "      <td>2.3311693700915854</td>\n",
              "      <td>37.650002</td>\n",
              "      <td>46.689999</td>\n",
              "    </tr>\n",
              "    <tr>\n",
              "      <th>localized_country_name</th>\n",
              "      <td>13</td>\n",
              "      <td>None</td>\n",
              "      <td>None</td>\n",
              "      <td>USA</td>\n",
              "      <td>USA</td>\n",
              "    </tr>\n",
              "    <tr>\n",
              "      <th>longitude</th>\n",
              "      <td>13</td>\n",
              "      <td>-93.15230738461538</td>\n",
              "      <td>17.606069054513878</td>\n",
              "      <td>-122.43</td>\n",
              "      <td>-73.989998</td>\n",
              "    </tr>\n",
              "    <tr>\n",
              "      <th>member_count</th>\n",
              "      <td>13</td>\n",
              "      <td>29411.615384615383</td>\n",
              "      <td>66629.94457641707</td>\n",
              "      <td>4</td>\n",
              "      <td>229371</td>\n",
              "    </tr>\n",
              "    <tr>\n",
              "      <th>ranking</th>\n",
              "      <td>13</td>\n",
              "      <td>53.76923076923077</td>\n",
              "      <td>59.558310148058325</td>\n",
              "      <td>0</td>\n",
              "      <td>178</td>\n",
              "    </tr>\n",
              "    <tr>\n",
              "      <th>state</th>\n",
              "      <td>13</td>\n",
              "      <td>None</td>\n",
              "      <td>None</td>\n",
              "      <td>CA</td>\n",
              "      <td>NY</td>\n",
              "    </tr>\n",
              "    <tr>\n",
              "      <th>zip</th>\n",
              "      <td>13</td>\n",
              "      <td>55280.61538461538</td>\n",
              "      <td>30247.26543986652</td>\n",
              "      <td>7093</td>\n",
              "      <td>95712</td>\n",
              "    </tr>\n",
              "  </tbody>\n",
              "</table>\n",
              "</div>"
            ],
            "text/plain": [
              "                            0                   1  ...          3              4\n",
              "summary                 count                mean  ...        min            max\n",
              "city                       13                None  ...    Chicago  West New York\n",
              "city_id                    13   55304.53846153846  ...       7093          95712\n",
              "country                    13                None  ...         us             us\n",
              "distance                   13  1523.7936153846158  ...     25.883       2526.837\n",
              "latitude                   13   41.29769223076922  ...  37.650002      46.689999\n",
              "localized_country_name     13                None  ...        USA            USA\n",
              "longitude                  13  -93.15230738461538  ...    -122.43     -73.989998\n",
              "member_count               13  29411.615384615383  ...          4         229371\n",
              "ranking                    13   53.76923076923077  ...          0            178\n",
              "state                      13                None  ...         CA             NY\n",
              "zip                        13   55280.61538461538  ...       7093          95712\n",
              "\n",
              "[12 rows x 5 columns]"
            ]
          },
          "metadata": {},
          "execution_count": 22
        }
      ]
    },
    {
      "cell_type": "code",
      "metadata": {
        "colab": {
          "base_uri": "https://localhost:8080/",
          "height": 1000
        },
        "id": "r02tuiJbSInm",
        "outputId": "959e2607-eb03-4332-9624-640508913eb9"
      },
      "source": [
        "data_events.printSchema()\n",
        "data_events.describe().toPandas().transpose()"
      ],
      "execution_count": 23,
      "outputs": [
        {
          "output_type": "stream",
          "name": "stdout",
          "text": [
            "root\n",
            " |-- event_id: string (nullable = true)\n",
            " |-- created: string (nullable = true)\n",
            " |-- description: string (nullable = true)\n",
            " |-- duration: integer (nullable = true)\n",
            " |-- event_url: string (nullable = true)\n",
            " |-- fee.accepts: string (nullable = true)\n",
            " |-- fee.amount: double (nullable = true)\n",
            " |-- fee.currency: string (nullable = true)\n",
            " |-- fee.description: string (nullable = true)\n",
            " |-- fee.label: string (nullable = true)\n",
            " |-- fee.required: integer (nullable = true)\n",
            " |-- group.created: string (nullable = true)\n",
            " |-- group.group_lat: double (nullable = true)\n",
            " |-- group.group_lon: double (nullable = true)\n",
            " |-- group_id: integer (nullable = true)\n",
            " |-- group.join_mode: string (nullable = true)\n",
            " |-- group.name: string (nullable = true)\n",
            " |-- group.urlname: string (nullable = true)\n",
            " |-- group.who: string (nullable = true)\n",
            " |-- headcount: integer (nullable = true)\n",
            " |-- how_to_find_us: string (nullable = true)\n",
            " |-- maybe_rsvp_count: integer (nullable = true)\n",
            " |-- event_name: string (nullable = true)\n",
            " |-- photo_url: string (nullable = true)\n",
            " |-- rating.average: double (nullable = true)\n",
            " |-- rating.count: integer (nullable = true)\n",
            " |-- rsvp_limit: integer (nullable = true)\n",
            " |-- event_status: string (nullable = true)\n",
            " |-- event_time: string (nullable = true)\n",
            " |-- updated: string (nullable = true)\n",
            " |-- utc_offset: integer (nullable = true)\n",
            " |-- venue.address_1: string (nullable = true)\n",
            " |-- venue.address_2: string (nullable = true)\n",
            " |-- venue.city: string (nullable = true)\n",
            " |-- venue.country: string (nullable = true)\n",
            " |-- venue_id: integer (nullable = true)\n",
            " |-- venue.lat: double (nullable = true)\n",
            " |-- venue.localized_country_name: string (nullable = true)\n",
            " |-- venue.lon: double (nullable = true)\n",
            " |-- venue.name: string (nullable = true)\n",
            " |-- venue.phone: long (nullable = true)\n",
            " |-- venue.repinned: integer (nullable = true)\n",
            " |-- venue.state: string (nullable = true)\n",
            " |-- venue.zip: integer (nullable = true)\n",
            " |-- visibility: string (nullable = true)\n",
            " |-- waitlist_count: integer (nullable = true)\n",
            " |-- why: string (nullable = true)\n",
            " |-- yes_rsvp_count: integer (nullable = true)\n",
            "\n"
          ]
        },
        {
          "output_type": "execute_result",
          "data": {
            "text/html": [
              "<div>\n",
              "<style scoped>\n",
              "    .dataframe tbody tr th:only-of-type {\n",
              "        vertical-align: middle;\n",
              "    }\n",
              "\n",
              "    .dataframe tbody tr th {\n",
              "        vertical-align: top;\n",
              "    }\n",
              "\n",
              "    .dataframe thead th {\n",
              "        text-align: right;\n",
              "    }\n",
              "</style>\n",
              "<table border=\"1\" class=\"dataframe\">\n",
              "  <thead>\n",
              "    <tr style=\"text-align: right;\">\n",
              "      <th></th>\n",
              "      <th>0</th>\n",
              "      <th>1</th>\n",
              "      <th>2</th>\n",
              "      <th>3</th>\n",
              "      <th>4</th>\n",
              "    </tr>\n",
              "  </thead>\n",
              "  <tbody>\n",
              "    <tr>\n",
              "      <th>summary</th>\n",
              "      <td>count</td>\n",
              "      <td>mean</td>\n",
              "      <td>stddev</td>\n",
              "      <td>min</td>\n",
              "      <td>max</td>\n",
              "    </tr>\n",
              "    <tr>\n",
              "      <th>event_id</th>\n",
              "      <td>5807</td>\n",
              "      <td>2.432695579964476E8</td>\n",
              "      <td>5073073.18834785</td>\n",
              "      <td>153868222</td>\n",
              "      <td>zzsxdlyxnbtb</td>\n",
              "    </tr>\n",
              "    <tr>\n",
              "      <th>created</th>\n",
              "      <td>5807</td>\n",
              "      <td>None</td>\n",
              "      <td>None</td>\n",
              "      <td>2010-10-02 21:26:11</td>\n",
              "      <td>2017-10-25 22:21:34</td>\n",
              "    </tr>\n",
              "    <tr>\n",
              "      <th>description</th>\n",
              "      <td>5795</td>\n",
              "      <td>None</td>\n",
              "      <td>None</td>\n",
              "      <td>(30+ RSVPs so far https://sbdecin.splashthat.c...</td>\n",
              "      <td>~ FREE WEBINAR ~ In order to receive the Webin...</td>\n",
              "    </tr>\n",
              "    <tr>\n",
              "      <th>duration</th>\n",
              "      <td>5807</td>\n",
              "      <td>10769.002927501291</td>\n",
              "      <td>28220.28444406343</td>\n",
              "      <td>2700</td>\n",
              "      <td>1209600</td>\n",
              "    </tr>\n",
              "    <tr>\n",
              "      <th>event_url</th>\n",
              "      <td>5807</td>\n",
              "      <td>None</td>\n",
              "      <td>None</td>\n",
              "      <td>https://www.meetup.com/1001-Books-SF/events/24...</td>\n",
              "      <td>https://www.meetup.com/www-womensprosperitynet...</td>\n",
              "    </tr>\n",
              "    <tr>\n",
              "      <th>fee.accepts</th>\n",
              "      <td>5807</td>\n",
              "      <td>None</td>\n",
              "      <td>None</td>\n",
              "      <td>cash</td>\n",
              "      <td>wepay</td>\n",
              "    </tr>\n",
              "    <tr>\n",
              "      <th>fee.amount</th>\n",
              "      <td>5807</td>\n",
              "      <td>3.6688066127088</td>\n",
              "      <td>11.840787396296024</td>\n",
              "      <td>0.0</td>\n",
              "      <td>95.0</td>\n",
              "    </tr>\n",
              "    <tr>\n",
              "      <th>fee.currency</th>\n",
              "      <td>5807</td>\n",
              "      <td>None</td>\n",
              "      <td>None</td>\n",
              "      <td>USD</td>\n",
              "      <td>not_found</td>\n",
              "    </tr>\n",
              "    <tr>\n",
              "      <th>fee.description</th>\n",
              "      <td>5807</td>\n",
              "      <td>None</td>\n",
              "      <td>None</td>\n",
              "      <td>per person</td>\n",
              "      <td>per person</td>\n",
              "    </tr>\n",
              "    <tr>\n",
              "      <th>fee.label</th>\n",
              "      <td>5807</td>\n",
              "      <td>None</td>\n",
              "      <td>None</td>\n",
              "      <td>Price</td>\n",
              "      <td>price</td>\n",
              "    </tr>\n",
              "    <tr>\n",
              "      <th>fee.required</th>\n",
              "      <td>5807</td>\n",
              "      <td>0.056827966247632165</td>\n",
              "      <td>0.23153353985747374</td>\n",
              "      <td>0</td>\n",
              "      <td>1</td>\n",
              "    </tr>\n",
              "    <tr>\n",
              "      <th>group.created</th>\n",
              "      <td>5807</td>\n",
              "      <td>None</td>\n",
              "      <td>None</td>\n",
              "      <td>2002-10-08 17:22:23</td>\n",
              "      <td>2017-10-21 02:41:04</td>\n",
              "    </tr>\n",
              "    <tr>\n",
              "      <th>group.group_lat</th>\n",
              "      <td>5807</td>\n",
              "      <td>40.32792284880341</td>\n",
              "      <td>1.72473097951966</td>\n",
              "      <td>37.720001</td>\n",
              "      <td>42.009998</td>\n",
              "    </tr>\n",
              "    <tr>\n",
              "      <th>group.group_lon</th>\n",
              "      <td>5807</td>\n",
              "      <td>-93.74263037472029</td>\n",
              "      <td>19.441047946376997</td>\n",
              "      <td>-122.489998</td>\n",
              "      <td>-73.919998</td>\n",
              "    </tr>\n",
              "    <tr>\n",
              "      <th>group_id</th>\n",
              "      <td>5807</td>\n",
              "      <td>1.0904481630446013E7</td>\n",
              "      <td>8524724.535941534</td>\n",
              "      <td>23713</td>\n",
              "      <td>26333051</td>\n",
              "    </tr>\n",
              "    <tr>\n",
              "      <th>group.join_mode</th>\n",
              "      <td>5807</td>\n",
              "      <td>None</td>\n",
              "      <td>None</td>\n",
              "      <td>approval</td>\n",
              "      <td>open</td>\n",
              "    </tr>\n",
              "    <tr>\n",
              "      <th>group.name</th>\n",
              "      <td>5807</td>\n",
              "      <td>None</td>\n",
              "      <td>None</td>\n",
              "      <td>1001 Books You Must Read Before You Die - San ...</td>\n",
              "      <td>iShare Content for Digital Publishers Meetup</td>\n",
              "    </tr>\n",
              "    <tr>\n",
              "      <th>group.urlname</th>\n",
              "      <td>5807</td>\n",
              "      <td>None</td>\n",
              "      <td>None</td>\n",
              "      <td>1001-Books-SF</td>\n",
              "      <td>www-womensprosperitynetwork-com-nyc</td>\n",
              "    </tr>\n",
              "    <tr>\n",
              "      <th>group.who</th>\n",
              "      <td>5807</td>\n",
              "      <td>None</td>\n",
              "      <td>None</td>\n",
              "      <td>$Million Dollar Leaders</td>\n",
              "      <td>wisegals</td>\n",
              "    </tr>\n",
              "    <tr>\n",
              "      <th>headcount</th>\n",
              "      <td>5807</td>\n",
              "      <td>0.0</td>\n",
              "      <td>0.0</td>\n",
              "      <td>0</td>\n",
              "      <td>0</td>\n",
              "    </tr>\n",
              "    <tr>\n",
              "      <th>how_to_find_us</th>\n",
              "      <td>5807</td>\n",
              "      <td>None</td>\n",
              "      <td>None</td>\n",
              "      <td>#SocialMediaNYC #DigitalMarketingNYC #socialme...</td>\n",
              "      <td>take the Clark Bus Route 22 to Farwell and wal...</td>\n",
              "    </tr>\n",
              "    <tr>\n",
              "      <th>maybe_rsvp_count</th>\n",
              "      <td>5807</td>\n",
              "      <td>0.0</td>\n",
              "      <td>0.0</td>\n",
              "      <td>0</td>\n",
              "      <td>0</td>\n",
              "    </tr>\n",
              "    <tr>\n",
              "      <th>event_name</th>\n",
              "      <td>5757</td>\n",
              "      <td>None</td>\n",
              "      <td>None</td>\n",
              "      <td>$3.00 Happy Hr - NYC Small Business Owners, Sa...</td>\n",
              "      <td>every Thursday  ARTSAVESLIVES Gallery  6-900  ...</td>\n",
              "    </tr>\n",
              "    <tr>\n",
              "      <th>photo_url</th>\n",
              "      <td>5807</td>\n",
              "      <td>None</td>\n",
              "      <td>None</td>\n",
              "      <td>not_found</td>\n",
              "      <td>not_found</td>\n",
              "    </tr>\n",
              "    <tr>\n",
              "      <th>rating.average</th>\n",
              "      <td>5807</td>\n",
              "      <td>0.0</td>\n",
              "      <td>0.0</td>\n",
              "      <td>0.0</td>\n",
              "      <td>0.0</td>\n",
              "    </tr>\n",
              "    <tr>\n",
              "      <th>rating.count</th>\n",
              "      <td>5807</td>\n",
              "      <td>-1.0</td>\n",
              "      <td>0.0</td>\n",
              "      <td>-1</td>\n",
              "      <td>-1</td>\n",
              "    </tr>\n",
              "    <tr>\n",
              "      <th>rsvp_limit</th>\n",
              "      <td>5807</td>\n",
              "      <td>3.6039262958498366</td>\n",
              "      <td>21.141515166476438</td>\n",
              "      <td>-1</td>\n",
              "      <td>200</td>\n",
              "    </tr>\n",
              "    <tr>\n",
              "      <th>event_status</th>\n",
              "      <td>5807</td>\n",
              "      <td>None</td>\n",
              "      <td>None</td>\n",
              "      <td>upcoming</td>\n",
              "      <td>upcoming</td>\n",
              "    </tr>\n",
              "    <tr>\n",
              "      <th>event_time</th>\n",
              "      <td>5807</td>\n",
              "      <td>None</td>\n",
              "      <td>None</td>\n",
              "      <td>2017-10-24 11:00:00</td>\n",
              "      <td>2018-10-25 23:00:00</td>\n",
              "    </tr>\n",
              "    <tr>\n",
              "      <th>updated</th>\n",
              "      <td>5807</td>\n",
              "      <td>None</td>\n",
              "      <td>None</td>\n",
              "      <td>2012-06-21 01:00:57</td>\n",
              "      <td>2017-10-25 22:59:56</td>\n",
              "    </tr>\n",
              "    <tr>\n",
              "      <th>utc_offset</th>\n",
              "      <td>5807</td>\n",
              "      <td>-20336.559324952643</td>\n",
              "      <td>4643.756683728174</td>\n",
              "      <td>-28800</td>\n",
              "      <td>-14400</td>\n",
              "    </tr>\n",
              "    <tr>\n",
              "      <th>venue.address_1</th>\n",
              "      <td>5807</td>\n",
              "      <td>None</td>\n",
              "      <td>None</td>\n",
              "      <td>1 Bryant Park</td>\n",
              "      <td>telephone</td>\n",
              "    </tr>\n",
              "    <tr>\n",
              "      <th>venue.address_2</th>\n",
              "      <td>5807</td>\n",
              "      <td>None</td>\n",
              "      <td>None</td>\n",
              "      <td>(@ 156th Street)</td>\n",
              "      <td>not_found</td>\n",
              "    </tr>\n",
              "    <tr>\n",
              "      <th>venue.city</th>\n",
              "      <td>5807</td>\n",
              "      <td>None</td>\n",
              "      <td>None</td>\n",
              "      <td>Chicago</td>\n",
              "      <td>san francisco</td>\n",
              "    </tr>\n",
              "    <tr>\n",
              "      <th>venue.country</th>\n",
              "      <td>5807</td>\n",
              "      <td>None</td>\n",
              "      <td>None</td>\n",
              "      <td>US</td>\n",
              "      <td>us</td>\n",
              "    </tr>\n",
              "    <tr>\n",
              "      <th>venue_id</th>\n",
              "      <td>5807</td>\n",
              "      <td>1.697753103409678E7</td>\n",
              "      <td>9638308.86741173</td>\n",
              "      <td>11898</td>\n",
              "      <td>25573631</td>\n",
              "    </tr>\n",
              "    <tr>\n",
              "      <th>venue.lat</th>\n",
              "      <td>5807</td>\n",
              "      <td>38.56530817582247</td>\n",
              "      <td>8.54807602850102</td>\n",
              "      <td>0.0</td>\n",
              "      <td>42.056324</td>\n",
              "    </tr>\n",
              "    <tr>\n",
              "      <th>venue.localized_country_name</th>\n",
              "      <td>5807</td>\n",
              "      <td>None</td>\n",
              "      <td>None</td>\n",
              "      <td>USA</td>\n",
              "      <td>USA</td>\n",
              "    </tr>\n",
              "    <tr>\n",
              "      <th>venue.lon</th>\n",
              "      <td>5807</td>\n",
              "      <td>-89.09214285414112</td>\n",
              "      <td>26.90066061205996</td>\n",
              "      <td>-122.500839</td>\n",
              "      <td>0.0</td>\n",
              "    </tr>\n",
              "    <tr>\n",
              "      <th>venue.name</th>\n",
              "      <td>5807</td>\n",
              "      <td>None</td>\n",
              "      <td>None</td>\n",
              "      <td>1 California St #200</td>\n",
              "      <td>wework</td>\n",
              "    </tr>\n",
              "    <tr>\n",
              "      <th>venue.phone</th>\n",
              "      <td>5807</td>\n",
              "      <td>2.8016734139417946E8</td>\n",
              "      <td>1.14334585798405E9</td>\n",
              "      <td>-1</td>\n",
              "      <td>9142638484</td>\n",
              "    </tr>\n",
              "    <tr>\n",
              "      <th>venue.repinned</th>\n",
              "      <td>5807</td>\n",
              "      <td>8.610297916307905E-4</td>\n",
              "      <td>0.029333199478348018</td>\n",
              "      <td>0</td>\n",
              "      <td>1</td>\n",
              "    </tr>\n",
              "    <tr>\n",
              "      <th>venue.state</th>\n",
              "      <td>5807</td>\n",
              "      <td>None</td>\n",
              "      <td>None</td>\n",
              "      <td>CA</td>\n",
              "      <td>not_found</td>\n",
              "    </tr>\n",
              "    <tr>\n",
              "      <th>venue.zip</th>\n",
              "      <td>5807</td>\n",
              "      <td>-1.0</td>\n",
              "      <td>0.0</td>\n",
              "      <td>-1</td>\n",
              "      <td>-1</td>\n",
              "    </tr>\n",
              "    <tr>\n",
              "      <th>visibility</th>\n",
              "      <td>5807</td>\n",
              "      <td>None</td>\n",
              "      <td>None</td>\n",
              "      <td>public</td>\n",
              "      <td>public</td>\n",
              "    </tr>\n",
              "    <tr>\n",
              "      <th>waitlist_count</th>\n",
              "      <td>5807</td>\n",
              "      <td>0.0053383847081109005</td>\n",
              "      <td>0.22458079372412232</td>\n",
              "      <td>0</td>\n",
              "      <td>15</td>\n",
              "    </tr>\n",
              "    <tr>\n",
              "      <th>why</th>\n",
              "      <td>5807</td>\n",
              "      <td>None</td>\n",
              "      <td>None</td>\n",
              "      <td>not_found</td>\n",
              "      <td>not_found</td>\n",
              "    </tr>\n",
              "    <tr>\n",
              "      <th>yes_rsvp_count</th>\n",
              "      <td>5807</td>\n",
              "      <td>3.1320819700361633</td>\n",
              "      <td>10.310338589694052</td>\n",
              "      <td>0</td>\n",
              "      <td>198</td>\n",
              "    </tr>\n",
              "  </tbody>\n",
              "</table>\n",
              "</div>"
            ],
            "text/plain": [
              "                                  0  ...                                                  4\n",
              "summary                       count  ...                                                max\n",
              "event_id                       5807  ...                                       zzsxdlyxnbtb\n",
              "created                        5807  ...                                2017-10-25 22:21:34\n",
              "description                    5795  ...  ~ FREE WEBINAR ~ In order to receive the Webin...\n",
              "duration                       5807  ...                                            1209600\n",
              "event_url                      5807  ...  https://www.meetup.com/www-womensprosperitynet...\n",
              "fee.accepts                    5807  ...                                              wepay\n",
              "fee.amount                     5807  ...                                               95.0\n",
              "fee.currency                   5807  ...                                          not_found\n",
              "fee.description                5807  ...                                         per person\n",
              "fee.label                      5807  ...                                              price\n",
              "fee.required                   5807  ...                                                  1\n",
              "group.created                  5807  ...                                2017-10-21 02:41:04\n",
              "group.group_lat                5807  ...                                          42.009998\n",
              "group.group_lon                5807  ...                                         -73.919998\n",
              "group_id                       5807  ...                                           26333051\n",
              "group.join_mode                5807  ...                                               open\n",
              "group.name                     5807  ...       iShare Content for Digital Publishers Meetup\n",
              "group.urlname                  5807  ...                www-womensprosperitynetwork-com-nyc\n",
              "group.who                      5807  ...                                           wisegals\n",
              "headcount                      5807  ...                                                  0\n",
              "how_to_find_us                 5807  ...  take the Clark Bus Route 22 to Farwell and wal...\n",
              "maybe_rsvp_count               5807  ...                                                  0\n",
              "event_name                     5757  ...  every Thursday  ARTSAVESLIVES Gallery  6-900  ...\n",
              "photo_url                      5807  ...                                          not_found\n",
              "rating.average                 5807  ...                                                0.0\n",
              "rating.count                   5807  ...                                                 -1\n",
              "rsvp_limit                     5807  ...                                                200\n",
              "event_status                   5807  ...                                           upcoming\n",
              "event_time                     5807  ...                                2018-10-25 23:00:00\n",
              "updated                        5807  ...                                2017-10-25 22:59:56\n",
              "utc_offset                     5807  ...                                             -14400\n",
              "venue.address_1                5807  ...                                          telephone\n",
              "venue.address_2                5807  ...                                          not_found\n",
              "venue.city                     5807  ...                                      san francisco\n",
              "venue.country                  5807  ...                                                 us\n",
              "venue_id                       5807  ...                                           25573631\n",
              "venue.lat                      5807  ...                                          42.056324\n",
              "venue.localized_country_name   5807  ...                                                USA\n",
              "venue.lon                      5807  ...                                                0.0\n",
              "venue.name                     5807  ...                                             wework\n",
              "venue.phone                    5807  ...                                         9142638484\n",
              "venue.repinned                 5807  ...                                                  1\n",
              "venue.state                    5807  ...                                          not_found\n",
              "venue.zip                      5807  ...                                                 -1\n",
              "visibility                     5807  ...                                             public\n",
              "waitlist_count                 5807  ...                                                 15\n",
              "why                            5807  ...                                          not_found\n",
              "yes_rsvp_count                 5807  ...                                                198\n",
              "\n",
              "[49 rows x 5 columns]"
            ]
          },
          "metadata": {},
          "execution_count": 23
        }
      ]
    },
    {
      "cell_type": "code",
      "metadata": {
        "colab": {
          "base_uri": "https://localhost:8080/",
          "height": 1000
        },
        "id": "-jCkFhrMSSw9",
        "outputId": "5c8b1ab9-7035-44e0-e93f-bdae4a56fc55"
      },
      "source": [
        "data_groups.printSchema()\n",
        "data_groups.describe().toPandas().transpose()"
      ],
      "execution_count": 24,
      "outputs": [
        {
          "output_type": "stream",
          "name": "stdout",
          "text": [
            "root\n",
            " |-- group_id: integer (nullable = true)\n",
            " |-- category_id: integer (nullable = true)\n",
            " |-- category.name: string (nullable = true)\n",
            " |-- category.shortname: string (nullable = true)\n",
            " |-- city_id: integer (nullable = true)\n",
            " |-- city: string (nullable = true)\n",
            " |-- country: string (nullable = true)\n",
            " |-- created: string (nullable = true)\n",
            " |-- description: string (nullable = true)\n",
            " |-- group_photo.base_url: string (nullable = true)\n",
            " |-- group_photo.highres_link: string (nullable = true)\n",
            " |-- group_photo.photo_id: integer (nullable = true)\n",
            " |-- group_photo.photo_link: string (nullable = true)\n",
            " |-- group_photo.thumb_link: string (nullable = true)\n",
            " |-- group_photo.type: string (nullable = true)\n",
            " |-- join_mode: string (nullable = true)\n",
            " |-- lat: double (nullable = true)\n",
            " |-- link: string (nullable = true)\n",
            " |-- lon: double (nullable = true)\n",
            " |-- members: integer (nullable = true)\n",
            " |-- group_name: string (nullable = true)\n",
            " |-- organizer.member_id: integer (nullable = true)\n",
            " |-- organizer.name: string (nullable = true)\n",
            " |-- organizer.photo.base_url: string (nullable = true)\n",
            " |-- organizer.photo.highres_link: string (nullable = true)\n",
            " |-- organizer.photo.photo_id: integer (nullable = true)\n",
            " |-- organizer.photo.photo_link: string (nullable = true)\n",
            " |-- organizer.photo.thumb_link: string (nullable = true)\n",
            " |-- organizer.photo.type: string (nullable = true)\n",
            " |-- rating: double (nullable = true)\n",
            " |-- state: string (nullable = true)\n",
            " |-- timezone: string (nullable = true)\n",
            " |-- urlname: string (nullable = true)\n",
            " |-- utc_offset: integer (nullable = true)\n",
            " |-- visibility: string (nullable = true)\n",
            " |-- who: string (nullable = true)\n",
            "\n"
          ]
        },
        {
          "output_type": "execute_result",
          "data": {
            "text/html": [
              "<div>\n",
              "<style scoped>\n",
              "    .dataframe tbody tr th:only-of-type {\n",
              "        vertical-align: middle;\n",
              "    }\n",
              "\n",
              "    .dataframe tbody tr th {\n",
              "        vertical-align: top;\n",
              "    }\n",
              "\n",
              "    .dataframe thead th {\n",
              "        text-align: right;\n",
              "    }\n",
              "</style>\n",
              "<table border=\"1\" class=\"dataframe\">\n",
              "  <thead>\n",
              "    <tr style=\"text-align: right;\">\n",
              "      <th></th>\n",
              "      <th>0</th>\n",
              "      <th>1</th>\n",
              "      <th>2</th>\n",
              "      <th>3</th>\n",
              "      <th>4</th>\n",
              "    </tr>\n",
              "  </thead>\n",
              "  <tbody>\n",
              "    <tr>\n",
              "      <th>summary</th>\n",
              "      <td>count</td>\n",
              "      <td>mean</td>\n",
              "      <td>stddev</td>\n",
              "      <td>min</td>\n",
              "      <td>max</td>\n",
              "    </tr>\n",
              "    <tr>\n",
              "      <th>group_id</th>\n",
              "      <td>16330</td>\n",
              "      <td>1.5533966074709125E7</td>\n",
              "      <td>8812990.24423391</td>\n",
              "      <td>6388</td>\n",
              "      <td>26378470</td>\n",
              "    </tr>\n",
              "    <tr>\n",
              "      <th>category_id</th>\n",
              "      <td>16330</td>\n",
              "      <td>19.603000612369872</td>\n",
              "      <td>12.373332128736868</td>\n",
              "      <td>1</td>\n",
              "      <td>36</td>\n",
              "    </tr>\n",
              "    <tr>\n",
              "      <th>category.name</th>\n",
              "      <td>16330</td>\n",
              "      <td>None</td>\n",
              "      <td>None</td>\n",
              "      <td>LGBT</td>\n",
              "      <td>writing</td>\n",
              "    </tr>\n",
              "    <tr>\n",
              "      <th>category.shortname</th>\n",
              "      <td>16330</td>\n",
              "      <td>None</td>\n",
              "      <td>None</td>\n",
              "      <td>arts-culture</td>\n",
              "      <td>writing</td>\n",
              "    </tr>\n",
              "    <tr>\n",
              "      <th>city_id</th>\n",
              "      <td>16330</td>\n",
              "      <td>43408.562890385794</td>\n",
              "      <td>36927.85005299721</td>\n",
              "      <td>7093</td>\n",
              "      <td>94101</td>\n",
              "    </tr>\n",
              "    <tr>\n",
              "      <th>city</th>\n",
              "      <td>16330</td>\n",
              "      <td>None</td>\n",
              "      <td>None</td>\n",
              "      <td>Chicago</td>\n",
              "      <td>West New York</td>\n",
              "    </tr>\n",
              "    <tr>\n",
              "      <th>country</th>\n",
              "      <td>16330</td>\n",
              "      <td>None</td>\n",
              "      <td>None</td>\n",
              "      <td>US</td>\n",
              "      <td>US</td>\n",
              "    </tr>\n",
              "    <tr>\n",
              "      <th>created</th>\n",
              "      <td>16330</td>\n",
              "      <td>None</td>\n",
              "      <td>None</td>\n",
              "      <td>2002-10-08 17:22:11</td>\n",
              "      <td>2017-10-25 05:08:23</td>\n",
              "    </tr>\n",
              "    <tr>\n",
              "      <th>description</th>\n",
              "      <td>16328</td>\n",
              "      <td>None</td>\n",
              "      <td>None</td>\n",
              "      <td>!    - -     Midtown.  :        Wine &amp; cheese ...</td>\n",
              "      <td>~~~ What your Meetup Group is about:\\nJoin us ...</td>\n",
              "    </tr>\n",
              "    <tr>\n",
              "      <th>group_photo.base_url</th>\n",
              "      <td>16330</td>\n",
              "      <td>None</td>\n",
              "      <td>None</td>\n",
              "      <td>https://secure.meetupstatic.com</td>\n",
              "      <td>not_found</td>\n",
              "    </tr>\n",
              "    <tr>\n",
              "      <th>group_photo.highres_link</th>\n",
              "      <td>16330</td>\n",
              "      <td>None</td>\n",
              "      <td>None</td>\n",
              "      <td>https://secure.meetupstatic.com/photos/event/1...</td>\n",
              "      <td>not_found</td>\n",
              "    </tr>\n",
              "    <tr>\n",
              "      <th>group_photo.photo_id</th>\n",
              "      <td>16330</td>\n",
              "      <td>2.0596185114690754E8</td>\n",
              "      <td>2.1119901787742242E8</td>\n",
              "      <td>-1</td>\n",
              "      <td>465610979</td>\n",
              "    </tr>\n",
              "    <tr>\n",
              "      <th>group_photo.photo_link</th>\n",
              "      <td>16330</td>\n",
              "      <td>None</td>\n",
              "      <td>None</td>\n",
              "      <td>https://secure.meetupstatic.com/photos/event/1...</td>\n",
              "      <td>not_found</td>\n",
              "    </tr>\n",
              "    <tr>\n",
              "      <th>group_photo.thumb_link</th>\n",
              "      <td>16330</td>\n",
              "      <td>None</td>\n",
              "      <td>None</td>\n",
              "      <td>https://secure.meetupstatic.com/photos/event/1...</td>\n",
              "      <td>not_found</td>\n",
              "    </tr>\n",
              "    <tr>\n",
              "      <th>group_photo.type</th>\n",
              "      <td>16330</td>\n",
              "      <td>None</td>\n",
              "      <td>None</td>\n",
              "      <td>event</td>\n",
              "      <td>others</td>\n",
              "    </tr>\n",
              "    <tr>\n",
              "      <th>join_mode</th>\n",
              "      <td>16330</td>\n",
              "      <td>None</td>\n",
              "      <td>None</td>\n",
              "      <td>approval</td>\n",
              "      <td>open</td>\n",
              "    </tr>\n",
              "    <tr>\n",
              "      <th>lat</th>\n",
              "      <td>16330</td>\n",
              "      <td>40.14064593968208</td>\n",
              "      <td>1.5373012891894837</td>\n",
              "      <td>37.610001</td>\n",
              "      <td>42.330002</td>\n",
              "    </tr>\n",
              "    <tr>\n",
              "      <th>link</th>\n",
              "      <td>16330</td>\n",
              "      <td>None</td>\n",
              "      <td>None</td>\n",
              "      <td>https://www.meetup.com/%E6%97%A5%E7%B3%BB%E4%B...</td>\n",
              "      <td>https://www.meetup.com/zettabyte/</td>\n",
              "    </tr>\n",
              "    <tr>\n",
              "      <th>lon</th>\n",
              "      <td>16330</td>\n",
              "      <td>-90.21280856919616</td>\n",
              "      <td>20.73956987567195</td>\n",
              "      <td>-122.489998</td>\n",
              "      <td>-73.919998</td>\n",
              "    </tr>\n",
              "    <tr>\n",
              "      <th>members</th>\n",
              "      <td>16330</td>\n",
              "      <td>684.7994488671158</td>\n",
              "      <td>1500.76909713642</td>\n",
              "      <td>1</td>\n",
              "      <td>31215</td>\n",
              "    </tr>\n",
              "    <tr>\n",
              "      <th>group_name</th>\n",
              "      <td>16330</td>\n",
              "      <td>None</td>\n",
              "      <td>None</td>\n",
              "      <td></td>\n",
              "      <td>~Art, Truth &amp; Beauty~</td>\n",
              "    </tr>\n",
              "    <tr>\n",
              "      <th>organizer.member_id</th>\n",
              "      <td>16330</td>\n",
              "      <td>9.739235026834048E7</td>\n",
              "      <td>8.743709317712198E7</td>\n",
              "      <td>-1</td>\n",
              "      <td>239665148</td>\n",
              "    </tr>\n",
              "    <tr>\n",
              "      <th>organizer.name</th>\n",
              "      <td>16330</td>\n",
              "      <td>None</td>\n",
              "      <td>None</td>\n",
              "      <td></td>\n",
              "      <td>~Kathy~</td>\n",
              "    </tr>\n",
              "    <tr>\n",
              "      <th>organizer.photo.base_url</th>\n",
              "      <td>16330</td>\n",
              "      <td>None</td>\n",
              "      <td>None</td>\n",
              "      <td>https://secure.meetupstatic.com</td>\n",
              "      <td>not_found</td>\n",
              "    </tr>\n",
              "    <tr>\n",
              "      <th>organizer.photo.highres_link</th>\n",
              "      <td>16330</td>\n",
              "      <td>None</td>\n",
              "      <td>None</td>\n",
              "      <td>https://secure.meetupstatic.com/photos/member/...</td>\n",
              "      <td>not_found</td>\n",
              "    </tr>\n",
              "    <tr>\n",
              "      <th>organizer.photo.photo_id</th>\n",
              "      <td>16330</td>\n",
              "      <td>1.794146783556032E8</td>\n",
              "      <td>1.0390240035088518E8</td>\n",
              "      <td>-1</td>\n",
              "      <td>271835126</td>\n",
              "    </tr>\n",
              "    <tr>\n",
              "      <th>organizer.photo.photo_link</th>\n",
              "      <td>16330</td>\n",
              "      <td>None</td>\n",
              "      <td>None</td>\n",
              "      <td>https://secure.meetupstatic.com/photos/member/...</td>\n",
              "      <td>not_found</td>\n",
              "    </tr>\n",
              "    <tr>\n",
              "      <th>organizer.photo.thumb_link</th>\n",
              "      <td>16330</td>\n",
              "      <td>None</td>\n",
              "      <td>None</td>\n",
              "      <td>https://secure.meetupstatic.com/photos/member/...</td>\n",
              "      <td>not_found</td>\n",
              "    </tr>\n",
              "    <tr>\n",
              "      <th>organizer.photo.type</th>\n",
              "      <td>16330</td>\n",
              "      <td>None</td>\n",
              "      <td>None</td>\n",
              "      <td>member</td>\n",
              "      <td>others</td>\n",
              "    </tr>\n",
              "    <tr>\n",
              "      <th>rating</th>\n",
              "      <td>16330</td>\n",
              "      <td>2.9652786282914816</td>\n",
              "      <td>2.3052107084180555</td>\n",
              "      <td>0.0</td>\n",
              "      <td>5.0</td>\n",
              "    </tr>\n",
              "    <tr>\n",
              "      <th>state</th>\n",
              "      <td>16330</td>\n",
              "      <td>None</td>\n",
              "      <td>None</td>\n",
              "      <td>CA</td>\n",
              "      <td>NY</td>\n",
              "    </tr>\n",
              "    <tr>\n",
              "      <th>timezone</th>\n",
              "      <td>16330</td>\n",
              "      <td>None</td>\n",
              "      <td>None</td>\n",
              "      <td>US/Central</td>\n",
              "      <td>US/Pacific</td>\n",
              "    </tr>\n",
              "    <tr>\n",
              "      <th>urlname</th>\n",
              "      <td>16329</td>\n",
              "      <td>None</td>\n",
              "      <td>None</td>\n",
              "      <td>-</td>\n",
              "      <td>zettabyte</td>\n",
              "    </tr>\n",
              "    <tr>\n",
              "      <th>utc_offset</th>\n",
              "      <td>16330</td>\n",
              "      <td>-18126.099203919166</td>\n",
              "      <td>4616.4776390778125</td>\n",
              "      <td>-25200</td>\n",
              "      <td>-14400</td>\n",
              "    </tr>\n",
              "    <tr>\n",
              "      <th>visibility</th>\n",
              "      <td>16330</td>\n",
              "      <td>None</td>\n",
              "      <td>None</td>\n",
              "      <td>members</td>\n",
              "      <td>public_limited</td>\n",
              "    </tr>\n",
              "    <tr>\n",
              "      <th>who</th>\n",
              "      <td>16313</td>\n",
              "      <td>None</td>\n",
              "      <td>None</td>\n",
              "      <td></td>\n",
              "      <td>{{developers}}</td>\n",
              "    </tr>\n",
              "  </tbody>\n",
              "</table>\n",
              "</div>"
            ],
            "text/plain": [
              "                                  0  ...                                                  4\n",
              "summary                       count  ...                                                max\n",
              "group_id                      16330  ...                                           26378470\n",
              "category_id                   16330  ...                                                 36\n",
              "category.name                 16330  ...                                            writing\n",
              "category.shortname            16330  ...                                            writing\n",
              "city_id                       16330  ...                                              94101\n",
              "city                          16330  ...                                      West New York\n",
              "country                       16330  ...                                                 US\n",
              "created                       16330  ...                                2017-10-25 05:08:23\n",
              "description                   16328  ...  ~~~ What your Meetup Group is about:\\nJoin us ...\n",
              "group_photo.base_url          16330  ...                                          not_found\n",
              "group_photo.highres_link      16330  ...                                          not_found\n",
              "group_photo.photo_id          16330  ...                                          465610979\n",
              "group_photo.photo_link        16330  ...                                          not_found\n",
              "group_photo.thumb_link        16330  ...                                          not_found\n",
              "group_photo.type              16330  ...                                             others\n",
              "join_mode                     16330  ...                                               open\n",
              "lat                           16330  ...                                          42.330002\n",
              "link                          16330  ...                  https://www.meetup.com/zettabyte/\n",
              "lon                           16330  ...                                         -73.919998\n",
              "members                       16330  ...                                              31215\n",
              "group_name                    16330  ...                              ~Art, Truth & Beauty~\n",
              "organizer.member_id           16330  ...                                          239665148\n",
              "organizer.name                16330  ...                                            ~Kathy~\n",
              "organizer.photo.base_url      16330  ...                                          not_found\n",
              "organizer.photo.highres_link  16330  ...                                          not_found\n",
              "organizer.photo.photo_id      16330  ...                                          271835126\n",
              "organizer.photo.photo_link    16330  ...                                          not_found\n",
              "organizer.photo.thumb_link    16330  ...                                          not_found\n",
              "organizer.photo.type          16330  ...                                             others\n",
              "rating                        16330  ...                                                5.0\n",
              "state                         16330  ...                                                 NY\n",
              "timezone                      16330  ...                                         US/Pacific\n",
              "urlname                       16329  ...                                          zettabyte\n",
              "utc_offset                    16330  ...                                             -14400\n",
              "visibility                    16330  ...                                     public_limited\n",
              "who                           16313  ...                                     {{developers}}\n",
              "\n",
              "[37 rows x 5 columns]"
            ]
          },
          "metadata": {},
          "execution_count": 24
        }
      ]
    },
    {
      "cell_type": "code",
      "metadata": {
        "colab": {
          "base_uri": "https://localhost:8080/",
          "height": 310
        },
        "id": "BCtZntCYSXT-",
        "outputId": "959b74c6-08d1-46ed-8122-e06bd516d861"
      },
      "source": [
        "data_groupsTopics.printSchema()\n",
        "data_groupsTopics.describe().toPandas().transpose()"
      ],
      "execution_count": 25,
      "outputs": [
        {
          "output_type": "stream",
          "name": "stdout",
          "text": [
            "root\n",
            " |-- topic_id: integer (nullable = true)\n",
            " |-- topic_key: string (nullable = true)\n",
            " |-- topic_name: string (nullable = true)\n",
            " |-- group_id: integer (nullable = true)\n",
            "\n"
          ]
        },
        {
          "output_type": "execute_result",
          "data": {
            "text/html": [
              "<div>\n",
              "<style scoped>\n",
              "    .dataframe tbody tr th:only-of-type {\n",
              "        vertical-align: middle;\n",
              "    }\n",
              "\n",
              "    .dataframe tbody tr th {\n",
              "        vertical-align: top;\n",
              "    }\n",
              "\n",
              "    .dataframe thead th {\n",
              "        text-align: right;\n",
              "    }\n",
              "</style>\n",
              "<table border=\"1\" class=\"dataframe\">\n",
              "  <thead>\n",
              "    <tr style=\"text-align: right;\">\n",
              "      <th></th>\n",
              "      <th>0</th>\n",
              "      <th>1</th>\n",
              "      <th>2</th>\n",
              "      <th>3</th>\n",
              "      <th>4</th>\n",
              "    </tr>\n",
              "  </thead>\n",
              "  <tbody>\n",
              "    <tr>\n",
              "      <th>summary</th>\n",
              "      <td>count</td>\n",
              "      <td>mean</td>\n",
              "      <td>stddev</td>\n",
              "      <td>min</td>\n",
              "      <td>max</td>\n",
              "    </tr>\n",
              "    <tr>\n",
              "      <th>topic_id</th>\n",
              "      <td>31212</td>\n",
              "      <td>23627.311771113673</td>\n",
              "      <td>72216.63950699117</td>\n",
              "      <td>83</td>\n",
              "      <td>1514434</td>\n",
              "    </tr>\n",
              "    <tr>\n",
              "      <th>topic_key</th>\n",
              "      <td>31212</td>\n",
              "      <td>None</td>\n",
              "      <td>None</td>\n",
              "      <td>20s-30s-social</td>\n",
              "      <td>youth-outdoor-education</td>\n",
              "    </tr>\n",
              "    <tr>\n",
              "      <th>topic_name</th>\n",
              "      <td>31212</td>\n",
              "      <td>None</td>\n",
              "      <td>None</td>\n",
              "      <td>20's &amp; 30's Social</td>\n",
              "      <td>write</td>\n",
              "    </tr>\n",
              "    <tr>\n",
              "      <th>group_id</th>\n",
              "      <td>31212</td>\n",
              "      <td>1.519229923490965E7</td>\n",
              "      <td>8964537.806022385</td>\n",
              "      <td>6388</td>\n",
              "      <td>26378470</td>\n",
              "    </tr>\n",
              "  </tbody>\n",
              "</table>\n",
              "</div>"
            ],
            "text/plain": [
              "                0  ...                        4\n",
              "summary     count  ...                      max\n",
              "topic_id    31212  ...                  1514434\n",
              "topic_key   31212  ...  youth-outdoor-education\n",
              "topic_name  31212  ...                    write\n",
              "group_id    31212  ...                 26378470\n",
              "\n",
              "[5 rows x 5 columns]"
            ]
          },
          "metadata": {},
          "execution_count": 25
        }
      ]
    },
    {
      "cell_type": "code",
      "metadata": {
        "colab": {
          "base_uri": "https://localhost:8080/",
          "height": 798
        },
        "id": "UO0t6ijDSdS_",
        "outputId": "7a620684-4494-4c6e-ed2e-ff48e152e7fa"
      },
      "source": [
        "data_members.printSchema()\n",
        "data_members.describe().toPandas().transpose()"
      ],
      "execution_count": 26,
      "outputs": [
        {
          "output_type": "stream",
          "name": "stdout",
          "text": [
            "root\n",
            " |-- member_id: integer (nullable = true)\n",
            " |-- bio: string (nullable = true)\n",
            " |-- city: string (nullable = true)\n",
            " |-- country: string (nullable = true)\n",
            " |-- hometown: string (nullable = true)\n",
            " |-- joined: string (nullable = true)\n",
            " |-- lat: double (nullable = true)\n",
            " |-- link: string (nullable = true)\n",
            " |-- lon: double (nullable = true)\n",
            " |-- member_name: string (nullable = true)\n",
            " |-- state: string (nullable = true)\n",
            " |-- member_status: string (nullable = true)\n",
            " |-- visited: string (nullable = true)\n",
            " |-- group_id: integer (nullable = true)\n",
            "\n"
          ]
        },
        {
          "output_type": "execute_result",
          "data": {
            "text/html": [
              "<div>\n",
              "<style scoped>\n",
              "    .dataframe tbody tr th:only-of-type {\n",
              "        vertical-align: middle;\n",
              "    }\n",
              "\n",
              "    .dataframe tbody tr th {\n",
              "        vertical-align: top;\n",
              "    }\n",
              "\n",
              "    .dataframe thead th {\n",
              "        text-align: right;\n",
              "    }\n",
              "</style>\n",
              "<table border=\"1\" class=\"dataframe\">\n",
              "  <thead>\n",
              "    <tr style=\"text-align: right;\">\n",
              "      <th></th>\n",
              "      <th>0</th>\n",
              "      <th>1</th>\n",
              "      <th>2</th>\n",
              "      <th>3</th>\n",
              "      <th>4</th>\n",
              "    </tr>\n",
              "  </thead>\n",
              "  <tbody>\n",
              "    <tr>\n",
              "      <th>summary</th>\n",
              "      <td>count</td>\n",
              "      <td>mean</td>\n",
              "      <td>stddev</td>\n",
              "      <td>min</td>\n",
              "      <td>max</td>\n",
              "    </tr>\n",
              "    <tr>\n",
              "      <th>member_id</th>\n",
              "      <td>134868</td>\n",
              "      <td>1962362.3070187145</td>\n",
              "      <td>922994.7202380324</td>\n",
              "      <td>3</td>\n",
              "      <td>3164984</td>\n",
              "    </tr>\n",
              "    <tr>\n",
              "      <th>bio</th>\n",
              "      <td>134863</td>\n",
              "      <td>3.25</td>\n",
              "      <td>1.7677669529663689</td>\n",
              "      <td>!</td>\n",
              "      <td>~[masked]2011~WebbtraxRubymruby^^;; #startup</td>\n",
              "    </tr>\n",
              "    <tr>\n",
              "      <th>city</th>\n",
              "      <td>134868</td>\n",
              "      <td>None</td>\n",
              "      <td>None</td>\n",
              "      <td>Chicago</td>\n",
              "      <td>West New York</td>\n",
              "    </tr>\n",
              "    <tr>\n",
              "      <th>country</th>\n",
              "      <td>134868</td>\n",
              "      <td>None</td>\n",
              "      <td>None</td>\n",
              "      <td>us</td>\n",
              "      <td>us</td>\n",
              "    </tr>\n",
              "    <tr>\n",
              "      <th>hometown</th>\n",
              "      <td>134849</td>\n",
              "      <td>94332.46296296296</td>\n",
              "      <td>12205.924846059765</td>\n",
              "      <td>-</td>\n",
              "      <td>utica</td>\n",
              "    </tr>\n",
              "    <tr>\n",
              "      <th>joined</th>\n",
              "      <td>134867</td>\n",
              "      <td>None</td>\n",
              "      <td>None</td>\n",
              "      <td>2002-06-16 17:10:32</td>\n",
              "      <td>2017-11-09 15:39:25</td>\n",
              "    </tr>\n",
              "    <tr>\n",
              "      <th>lat</th>\n",
              "      <td>134867</td>\n",
              "      <td>40.33500937960494</td>\n",
              "      <td>1.362873900988254</td>\n",
              "      <td>37.61</td>\n",
              "      <td>42.01</td>\n",
              "    </tr>\n",
              "    <tr>\n",
              "      <th>link</th>\n",
              "      <td>134867</td>\n",
              "      <td>None</td>\n",
              "      <td>None</td>\n",
              "      <td>http://www.meetup.com/members/1000015</td>\n",
              "      <td>http://www.meetup.com/members/999921</td>\n",
              "    </tr>\n",
              "    <tr>\n",
              "      <th>lon</th>\n",
              "      <td>134867</td>\n",
              "      <td>-86.10917756016715</td>\n",
              "      <td>19.040619863590397</td>\n",
              "      <td>-122.51</td>\n",
              "      <td>-73.92</td>\n",
              "    </tr>\n",
              "    <tr>\n",
              "      <th>member_name</th>\n",
              "      <td>134864</td>\n",
              "      <td>NaN</td>\n",
              "      <td>NaN</td>\n",
              "      <td>*)Serafina(*</td>\n",
              "      <td>~Seleee~</td>\n",
              "    </tr>\n",
              "    <tr>\n",
              "      <th>state</th>\n",
              "      <td>134867</td>\n",
              "      <td>None</td>\n",
              "      <td>None</td>\n",
              "      <td>CA</td>\n",
              "      <td>NY</td>\n",
              "    </tr>\n",
              "    <tr>\n",
              "      <th>member_status</th>\n",
              "      <td>134867</td>\n",
              "      <td>None</td>\n",
              "      <td>None</td>\n",
              "      <td>active</td>\n",
              "      <td>active</td>\n",
              "    </tr>\n",
              "    <tr>\n",
              "      <th>visited</th>\n",
              "      <td>134867</td>\n",
              "      <td>None</td>\n",
              "      <td>None</td>\n",
              "      <td>2004-08-05 02:48:10</td>\n",
              "      <td>2017-11-09 18:16:09</td>\n",
              "    </tr>\n",
              "    <tr>\n",
              "      <th>group_id</th>\n",
              "      <td>134867</td>\n",
              "      <td>6092174.021814084</td>\n",
              "      <td>7680418.538280899</td>\n",
              "      <td>6388</td>\n",
              "      <td>26378128</td>\n",
              "    </tr>\n",
              "  </tbody>\n",
              "</table>\n",
              "</div>"
            ],
            "text/plain": [
              "                    0  ...                                             4\n",
              "summary         count  ...                                           max\n",
              "member_id      134868  ...                                       3164984\n",
              "bio            134863  ...  ~[masked]2011~WebbtraxRubymruby^^;; #startup\n",
              "city           134868  ...                                 West New York\n",
              "country        134868  ...                                            us\n",
              "hometown       134849  ...                                         utica\n",
              "joined         134867  ...                           2017-11-09 15:39:25\n",
              "lat            134867  ...                                         42.01\n",
              "link           134867  ...          http://www.meetup.com/members/999921\n",
              "lon            134867  ...                                        -73.92\n",
              "member_name    134864  ...                                      ~Seleee~\n",
              "state          134867  ...                                            NY\n",
              "member_status  134867  ...                                        active\n",
              "visited        134867  ...                           2017-11-09 18:16:09\n",
              "group_id       134867  ...                                      26378128\n",
              "\n",
              "[15 rows x 5 columns]"
            ]
          },
          "metadata": {},
          "execution_count": 26
        }
      ]
    },
    {
      "cell_type": "code",
      "metadata": {
        "colab": {
          "base_uri": "https://localhost:8080/",
          "height": 456
        },
        "id": "LsDuFstzSmeb",
        "outputId": "b9a2a1a6-dcc6-4aea-ece8-8ec9eb843f04"
      },
      "source": [
        "data_topics.printSchema()\n",
        "data_topics.describe().toPandas().transpose()"
      ],
      "execution_count": 27,
      "outputs": [
        {
          "output_type": "stream",
          "name": "stdout",
          "text": [
            "root\n",
            " |-- topic_id: integer (nullable = true)\n",
            " |-- description: string (nullable = true)\n",
            " |-- link: string (nullable = true)\n",
            " |-- members: integer (nullable = true)\n",
            " |-- topic_name: string (nullable = true)\n",
            " |-- urlkey: string (nullable = true)\n",
            " |-- main_topic_id: integer (nullable = true)\n",
            "\n"
          ]
        },
        {
          "output_type": "execute_result",
          "data": {
            "text/html": [
              "<div>\n",
              "<style scoped>\n",
              "    .dataframe tbody tr th:only-of-type {\n",
              "        vertical-align: middle;\n",
              "    }\n",
              "\n",
              "    .dataframe tbody tr th {\n",
              "        vertical-align: top;\n",
              "    }\n",
              "\n",
              "    .dataframe thead th {\n",
              "        text-align: right;\n",
              "    }\n",
              "</style>\n",
              "<table border=\"1\" class=\"dataframe\">\n",
              "  <thead>\n",
              "    <tr style=\"text-align: right;\">\n",
              "      <th></th>\n",
              "      <th>0</th>\n",
              "      <th>1</th>\n",
              "      <th>2</th>\n",
              "      <th>3</th>\n",
              "      <th>4</th>\n",
              "    </tr>\n",
              "  </thead>\n",
              "  <tbody>\n",
              "    <tr>\n",
              "      <th>summary</th>\n",
              "      <td>count</td>\n",
              "      <td>mean</td>\n",
              "      <td>stddev</td>\n",
              "      <td>min</td>\n",
              "      <td>max</td>\n",
              "    </tr>\n",
              "    <tr>\n",
              "      <th>topic_id</th>\n",
              "      <td>2509</td>\n",
              "      <td>118549.33359904344</td>\n",
              "      <td>265078.31565299357</td>\n",
              "      <td>83</td>\n",
              "      <td>1515654</td>\n",
              "    </tr>\n",
              "    <tr>\n",
              "      <th>description</th>\n",
              "      <td>2509</td>\n",
              "      <td>None</td>\n",
              "      <td>None</td>\n",
              "      <td>Are you a Knitter who wants to learn embroider...</td>\n",
              "      <td>not_found</td>\n",
              "    </tr>\n",
              "    <tr>\n",
              "      <th>link</th>\n",
              "      <td>2509</td>\n",
              "      <td>None</td>\n",
              "      <td>None</td>\n",
              "      <td>http://20s-30s-social.meetup.com/</td>\n",
              "      <td>http://zumba-wellness.meetup.com/</td>\n",
              "    </tr>\n",
              "    <tr>\n",
              "      <th>members</th>\n",
              "      <td>2509</td>\n",
              "      <td>125568.71821442805</td>\n",
              "      <td>945687.9915579193</td>\n",
              "      <td>0</td>\n",
              "      <td>25318915</td>\n",
              "    </tr>\n",
              "    <tr>\n",
              "      <th>topic_name</th>\n",
              "      <td>2509</td>\n",
              "      <td>None</td>\n",
              "      <td>None</td>\n",
              "      <td>20's &amp; 30's Social</td>\n",
              "      <td>write</td>\n",
              "    </tr>\n",
              "    <tr>\n",
              "      <th>urlkey</th>\n",
              "      <td>2509</td>\n",
              "      <td>None</td>\n",
              "      <td>None</td>\n",
              "      <td>20s-30s-social</td>\n",
              "      <td>zumba-wellness</td>\n",
              "    </tr>\n",
              "    <tr>\n",
              "      <th>main_topic_id</th>\n",
              "      <td>2509</td>\n",
              "      <td>11254.623355918693</td>\n",
              "      <td>10351.523131981216</td>\n",
              "      <td>223</td>\n",
              "      <td>53052</td>\n",
              "    </tr>\n",
              "  </tbody>\n",
              "</table>\n",
              "</div>"
            ],
            "text/plain": [
              "                   0  ...                                  4\n",
              "summary        count  ...                                max\n",
              "topic_id        2509  ...                            1515654\n",
              "description     2509  ...                          not_found\n",
              "link            2509  ...  http://zumba-wellness.meetup.com/\n",
              "members         2509  ...                           25318915\n",
              "topic_name      2509  ...                              write\n",
              "urlkey          2509  ...                     zumba-wellness\n",
              "main_topic_id   2509  ...                              53052\n",
              "\n",
              "[8 rows x 5 columns]"
            ]
          },
          "metadata": {},
          "execution_count": 27
        }
      ]
    },
    {
      "cell_type": "code",
      "metadata": {
        "colab": {
          "base_uri": "https://localhost:8080/",
          "height": 798
        },
        "id": "Zi2TaxesSvz9",
        "outputId": "01e97f4f-b825-47e2-914e-328a615c4f24"
      },
      "source": [
        "data_venues.printSchema()\n",
        "data_venues.describe().toPandas().transpose()"
      ],
      "execution_count": 28,
      "outputs": [
        {
          "output_type": "stream",
          "name": "stdout",
          "text": [
            "root\n",
            " |-- venue_id: integer (nullable = true)\n",
            " |-- address_1: string (nullable = true)\n",
            " |-- city: string (nullable = true)\n",
            " |-- country: string (nullable = true)\n",
            " |-- distance: double (nullable = true)\n",
            " |-- lat: double (nullable = true)\n",
            " |-- localized_country_name: string (nullable = true)\n",
            " |-- lon: double (nullable = true)\n",
            " |-- venue_name: string (nullable = true)\n",
            " |-- rating: double (nullable = true)\n",
            " |-- rating_count: double (nullable = true)\n",
            " |-- state: string (nullable = true)\n",
            " |-- zip: integer (nullable = true)\n",
            " |-- normalised_rating: double (nullable = true)\n",
            "\n"
          ]
        },
        {
          "output_type": "execute_result",
          "data": {
            "text/html": [
              "<div>\n",
              "<style scoped>\n",
              "    .dataframe tbody tr th:only-of-type {\n",
              "        vertical-align: middle;\n",
              "    }\n",
              "\n",
              "    .dataframe tbody tr th {\n",
              "        vertical-align: top;\n",
              "    }\n",
              "\n",
              "    .dataframe thead th {\n",
              "        text-align: right;\n",
              "    }\n",
              "</style>\n",
              "<table border=\"1\" class=\"dataframe\">\n",
              "  <thead>\n",
              "    <tr style=\"text-align: right;\">\n",
              "      <th></th>\n",
              "      <th>0</th>\n",
              "      <th>1</th>\n",
              "      <th>2</th>\n",
              "      <th>3</th>\n",
              "      <th>4</th>\n",
              "    </tr>\n",
              "  </thead>\n",
              "  <tbody>\n",
              "    <tr>\n",
              "      <th>summary</th>\n",
              "      <td>count</td>\n",
              "      <td>mean</td>\n",
              "      <td>stddev</td>\n",
              "      <td>min</td>\n",
              "      <td>max</td>\n",
              "    </tr>\n",
              "    <tr>\n",
              "      <th>venue_id</th>\n",
              "      <td>107093</td>\n",
              "      <td>1.5442661460777082E7</td>\n",
              "      <td>9790935.807771338</td>\n",
              "      <td>5286</td>\n",
              "      <td>25594988</td>\n",
              "    </tr>\n",
              "    <tr>\n",
              "      <th>address_1</th>\n",
              "      <td>107091</td>\n",
              "      <td>4569406.135802469</td>\n",
              "      <td>2.329223685602843E7</td>\n",
              "      <td>! Battery Park Plaza,24 State Street(Between P...</td>\n",
              "      <td>zoom 740-571-690</td>\n",
              "    </tr>\n",
              "    <tr>\n",
              "      <th>city</th>\n",
              "      <td>107093</td>\n",
              "      <td>None</td>\n",
              "      <td>None</td>\n",
              "      <td>(Not necessarily) San Francisco</td>\n",
              "      <td>west chicago</td>\n",
              "    </tr>\n",
              "    <tr>\n",
              "      <th>country</th>\n",
              "      <td>107093</td>\n",
              "      <td>None</td>\n",
              "      <td>None</td>\n",
              "      <td>US</td>\n",
              "      <td>us</td>\n",
              "    </tr>\n",
              "    <tr>\n",
              "      <th>distance</th>\n",
              "      <td>107093</td>\n",
              "      <td>0.0</td>\n",
              "      <td>0.0</td>\n",
              "      <td>0.0</td>\n",
              "      <td>0.0</td>\n",
              "    </tr>\n",
              "    <tr>\n",
              "      <th>lat</th>\n",
              "      <td>107093</td>\n",
              "      <td>38.47720467961378</td>\n",
              "      <td>8.624403919627765</td>\n",
              "      <td>-45.100449</td>\n",
              "      <td>64.25995</td>\n",
              "    </tr>\n",
              "    <tr>\n",
              "      <th>localized_country_name</th>\n",
              "      <td>107093</td>\n",
              "      <td>None</td>\n",
              "      <td>None</td>\n",
              "      <td>USA</td>\n",
              "      <td>USA</td>\n",
              "    </tr>\n",
              "    <tr>\n",
              "      <th>lon</th>\n",
              "      <td>107093</td>\n",
              "      <td>-84.3384349957889</td>\n",
              "      <td>26.668502712548403</td>\n",
              "      <td>-123.082466</td>\n",
              "      <td>170.969421</td>\n",
              "    </tr>\n",
              "    <tr>\n",
              "      <th>venue_name</th>\n",
              "      <td>107075</td>\n",
              "      <td>8.309859154929577E58</td>\n",
              "      <td>7.002011783343734E59</td>\n",
              "      <td># 1 TRAIN STATION ON 207TH STREET</td>\n",
              "      <td>{Q} Cloud Innovation Hub</td>\n",
              "    </tr>\n",
              "    <tr>\n",
              "      <th>rating</th>\n",
              "      <td>107093</td>\n",
              "      <td>2.448126208062167</td>\n",
              "      <td>2.2878276612041706</td>\n",
              "      <td>0.0</td>\n",
              "      <td>5.0</td>\n",
              "    </tr>\n",
              "    <tr>\n",
              "      <th>rating_count</th>\n",
              "      <td>107093</td>\n",
              "      <td>5.177537187304492</td>\n",
              "      <td>20.34134382079642</td>\n",
              "      <td>0.0</td>\n",
              "      <td>999.99</td>\n",
              "    </tr>\n",
              "    <tr>\n",
              "      <th>state</th>\n",
              "      <td>107093</td>\n",
              "      <td>None</td>\n",
              "      <td>None</td>\n",
              "      <td>AL</td>\n",
              "      <td>not_found</td>\n",
              "    </tr>\n",
              "    <tr>\n",
              "      <th>zip</th>\n",
              "      <td>107093</td>\n",
              "      <td>350858.4863716583</td>\n",
              "      <td>1.4545804319380973E7</td>\n",
              "      <td>-1</td>\n",
              "      <td>941331022</td>\n",
              "    </tr>\n",
              "    <tr>\n",
              "      <th>normalised_rating</th>\n",
              "      <td>107093</td>\n",
              "      <td>1.7994094852137383</td>\n",
              "      <td>1.7620826484375285</td>\n",
              "      <td>0.0</td>\n",
              "      <td>4.91</td>\n",
              "    </tr>\n",
              "  </tbody>\n",
              "</table>\n",
              "</div>"
            ],
            "text/plain": [
              "                             0  ...                         4\n",
              "summary                  count  ...                       max\n",
              "venue_id                107093  ...                  25594988\n",
              "address_1               107091  ...          zoom 740-571-690\n",
              "city                    107093  ...              west chicago\n",
              "country                 107093  ...                        us\n",
              "distance                107093  ...                       0.0\n",
              "lat                     107093  ...                  64.25995\n",
              "localized_country_name  107093  ...                       USA\n",
              "lon                     107093  ...                170.969421\n",
              "venue_name              107075  ...  {Q} Cloud Innovation Hub\n",
              "rating                  107093  ...                       5.0\n",
              "rating_count            107093  ...                    999.99\n",
              "state                   107093  ...                 not_found\n",
              "zip                     107093  ...                 941331022\n",
              "normalised_rating       107093  ...                      4.91\n",
              "\n",
              "[15 rows x 5 columns]"
            ]
          },
          "metadata": {},
          "execution_count": 28
        }
      ]
    },
    {
      "cell_type": "markdown",
      "metadata": {
        "id": "N601Y4-lUHSx"
      },
      "source": [
        "**Fourth part: pre-cleaning**"
      ]
    },
    {
      "cell_type": "code",
      "metadata": {
        "colab": {
          "base_uri": "https://localhost:8080/"
        },
        "id": "XklbMhZWTF5V",
        "outputId": "b5462ef2-2788-4bcc-ae92-ba1a4ec26bde"
      },
      "source": [
        "data_cities.show()"
      ],
      "execution_count": 33,
      "outputs": [
        {
          "output_type": "stream",
          "name": "stdout",
          "text": [
            "+-------------------+-------+-------+--------+---------+----------------------+-----------+------------+-------+-----+-----+\n",
            "|               city|city_id|country|distance| latitude|localized_country_name|  longitude|member_count|ranking|state|  zip|\n",
            "+-------------------+-------+-------+--------+---------+----------------------+-----------+------------+-------+-----+-----+\n",
            "|      West New York|   7093|     us|2524.541|40.790001|                   USA| -74.010002|         661|     32|   NJ| 7093|\n",
            "|           New York|  10001|     us|2526.837|    40.75|                   USA| -73.989998|      229371|      0|   NY|10001|\n",
            "|     New York Mills|  13417|     us|2392.162|43.099998|                   USA| -75.290001|          22|    109|   NY|13417|\n",
            "|       East Chicago|  46312|     us|1810.371|41.639999|                   USA| -87.459999|          31|     90|   IN|46312|\n",
            "|     New York Mills|  56567|     us|1418.834|46.689999|                   USA| -95.349998|           5|      1|   MN|56567|\n",
            "|      North Chicago|  60064|     us|1779.682|42.330002|                   USA| -87.860001|          45|     32|   IL|60064|\n",
            "|       West Chicago|  60185|     us|1768.894|41.889999|                   USA| -88.199997|         214|     95|   IL|60185|\n",
            "|    Chicago Heights|  60411|     us|1804.834|41.509998|                   USA| -87.610001|         141|    128|   IL|60411|\n",
            "|      Chicago Ridge|  60415|     us|1793.115|41.700001|                   USA| -87.779999|          77|    178|   IL|60415|\n",
            "|            Chicago|  60601|     us|1798.434|41.880001|                   USA| -87.620003|       90918|      0|   IL|60290|\n",
            "|South San Francisco|  94080|     us|  25.883|37.650002|                   USA|    -122.43|         511|      0|   CA|94080|\n",
            "|      San Francisco|  94101|     us|  31.839|37.779999|                   USA|-122.419998|       60351|      2|   CA|94101|\n",
            "|       Chicago Park|  95712|     us| 133.891|    39.16|                   USA|-120.959999|           4|     32|   CA|95712|\n",
            "+-------------------+-------+-------+--------+---------+----------------------+-----------+------------+-------+-----+-----+\n",
            "\n"
          ]
        }
      ]
    },
    {
      "cell_type": "code",
      "metadata": {
        "colab": {
          "base_uri": "https://localhost:8080/"
        },
        "id": "kyBHu4TwW6o5",
        "outputId": "ccd2ca04-c59b-46bf-e6b5-a61320d1f6a2"
      },
      "source": [
        "print ((data_cities.count() , len (data_cities.columns)))\n",
        "#Drop not performed"
      ],
      "execution_count": 34,
      "outputs": [
        {
          "output_type": "stream",
          "name": "stdout",
          "text": [
            "(13, 11)\n"
          ]
        }
      ]
    },
    {
      "cell_type": "code",
      "metadata": {
        "colab": {
          "base_uri": "https://localhost:8080/"
        },
        "id": "N_rWRoXdW_gz",
        "outputId": "98cbb012-5a34-4d1d-8006-bab93c9ea0fa"
      },
      "source": [
        "#Events\n",
        "print ((data_events.count() , len (data_events.columns)))"
      ],
      "execution_count": 35,
      "outputs": [
        {
          "output_type": "stream",
          "name": "stdout",
          "text": [
            "(5807, 48)\n"
          ]
        }
      ]
    },
    {
      "cell_type": "code",
      "metadata": {
        "colab": {
          "base_uri": "https://localhost:8080/"
        },
        "id": "N2EjRxuVXO9D",
        "outputId": "021ef30d-cb02-49cb-c196-f2d57bc7836f"
      },
      "source": [
        "data_events.show()"
      ],
      "execution_count": 36,
      "outputs": [
        {
          "output_type": "stream",
          "name": "stdout",
          "text": [
            "+---------+-------------------+--------------------+--------+--------------------+-----------+----------+------------+---------------+---------+------------+-------------------+---------------+---------------+--------+---------------+--------------------+--------------------+-------------+---------+--------------------+----------------+--------------------+---------+--------------+------------+----------+------------+-------------------+-------------------+----------+--------------------+-----------------+-------------+-------------+--------+---------+----------------------------+-----------+--------------------+-----------+--------------+-----------+---------+----------+--------------+---------+--------------+\n",
            "| event_id|            created|         description|duration|           event_url|fee.accepts|fee.amount|fee.currency|fee.description|fee.label|fee.required|      group.created|group.group_lat|group.group_lon|group_id|group.join_mode|          group.name|       group.urlname|    group.who|headcount|      how_to_find_us|maybe_rsvp_count|          event_name|photo_url|rating.average|rating.count|rsvp_limit|event_status|         event_time|            updated|utc_offset|     venue.address_1|  venue.address_2|   venue.city|venue.country|venue_id|venue.lat|venue.localized_country_name|  venue.lon|          venue.name|venue.phone|venue.repinned|venue.state|venue.zip|visibility|waitlist_count|      why|yes_rsvp_count|\n",
            "+---------+-------------------+--------------------+--------+--------------------+-----------+----------+------------+---------------+---------+------------+-------------------+---------------+---------------+--------+---------------+--------------------+--------------------+-------------+---------+--------------------+----------------+--------------------+---------+--------------+------------+----------+------------+-------------------+-------------------+----------+--------------------+-----------------+-------------+-------------+--------+---------+----------------------------+-----------+--------------------+-----------+--------------+-----------+---------+----------+--------------+---------+--------------+\n",
            "|153868222|2013-12-03 21:24:29|Solve the murder ...|   20700|https://www.meetu...|     others|       0.0|   not_found|     per person|    Price|           0|2012-11-12 21:29:23|      37.790001|    -122.419998| 5817262|           open|San Francisco Sta...|SanFranciscoStart...|      Members|        0|We will be meetin...|               0|Murder Mystery Di...|not_found|           0.0|          -1|        -1|    upcoming|2017-10-30 02:30:00|2017-10-23 03:26:49|    -25200|    505 Broadway St.|        not_found|San Francisco|           us|23729697| 37.79795|                         USA| -122.40569|     Little Szechuan|         -1|             1|         CA|       -1|    public|             0|not_found|            72|\n",
            "|184167702|2014-05-20 18:52:00|NOTE: This event ...|   77400|https://www.meetu...|     others|       0.0|   not_found|     per person|    Price|           0|2010-04-07 21:26:22|          37.77|    -122.410004| 1627081|           open|        HR & Tech SF|      hr-and-tech-sf|      Members|        0|           not_found|               0|Friday Night Drin...|not_found|           0.0|          -1|        -1|    upcoming|2017-10-28 04:00:00|2017-10-21 06:10:49|    -25200|     498 Broadway St|        not_found|San Francisco|           us|16948982|37.798172|                         USA|-122.405457|      Horizon Lounge|         -1|             0|         CA|       -1|    public|             0|not_found|           179|\n",
            "|215200502|2014-10-23 16:18:44|We'll be heading ...|   37800|https://www.meetu...|     others|       0.0|   not_found|     per person|    Price|           0|2010-04-07 21:26:22|          37.77|    -122.410004| 1627081|           open|        HR & Tech SF|      hr-and-tech-sf|      Members|        0|           not_found|               0|Dinner, Comedy, 1...|not_found|           0.0|          -1|        -1|    upcoming|2017-10-27 03:00:00|2017-10-20 03:48:29|    -25200|    631 broadway st.|        not_found|San Francisco|           us|24717469|37.797516|                         USA|-122.407394|taste of vietnam ...|         -1|             0|         CA|       -1|    public|             0|not_found|            45|\n",
            "|220826782|2015-02-28 19:27:32|NOTE: This event ...|  113400|https://www.meetu...|     others|       0.0|   not_found|     per person|    Price|           0|2012-11-12 21:29:23|      37.790001|    -122.419998| 5817262|           open|San Francisco Sta...|SanFranciscoStart...|      Members|        0|           not_found|               0| Friday Night Drinks|not_found|           0.0|          -1|        -1|    upcoming|2017-10-28 04:00:00|2017-10-21 06:11:09|    -25200|        498 Broadway|        not_found|San Francisco|           us|  724783|37.798036|                         USA|-122.405442|             Horizon| 4155761118|             0|         CA|       -1|    public|             0|not_found|           198|\n",
            "|227948102|2016-01-08 21:35:40|Aussie Aussie Aus...|   36000|https://www.meetu...|     others|       0.0|   not_found|     per person|    Price|           0|2010-04-07 21:26:22|          37.77|    -122.410004| 1627081|           open|        HR & Tech SF|      hr-and-tech-sf|      Members|        0|           not_found|               0|AUSTRALIA DAY PAR...|not_found|           0.0|          -1|        -1|    upcoming|2018-01-26 01:00:00|2017-01-26 07:40:31|    -28800|        490 Broadway|        not_found|San Francisco|           US|20984572| 37.79805|                         USA|-122.405251|Score! Bar and Lo...|         -1|             0|  not_found|       -1|    public|             0|not_found|            24|\n",
            "|227967930|2016-01-09 20:41:06|Aussie Aussie Aus...|   36000|https://www.meetu...|     others|       0.0|   not_found|     per person|    Price|           0|2012-11-12 21:29:23|      37.790001|    -122.419998| 5817262|           open|San Francisco Sta...|SanFranciscoStart...|      Members|        0|           not_found|               0|AUSTRALIA DAY PAR...|not_found|           0.0|          -1|        -1|    upcoming|2018-01-26 01:00:00|2017-01-26 07:49:57|    -28800|     490 Broadway St|        not_found|San Francisco|           us|14982352|37.798084|                         USA|-122.405144|  Score Bar & Lounge|         -1|             0|         CA|       -1|    public|             0|not_found|            22|\n",
            "|230034070|2016-04-01 01:20:15|We'll be heading ...|   37800|https://www.meetu...|     others|       0.0|   not_found|     per person|    Price|           0|2012-11-12 21:29:23|      37.790001|    -122.419998| 5817262|           open|San Francisco Sta...|SanFranciscoStart...|      Members|        0|           not_found|               0|Dinner, Comedy Sh...|not_found|           0.0|          -1|        -1|    upcoming|2017-10-27 03:00:00|2017-10-20 03:49:11|    -25200|    631 broadway st.|        not_found|San Francisco|           us|24717469|37.797516|                         USA|-122.407394|taste of vietnam ...|         -1|             0|         CA|       -1|    public|             0|not_found|            26|\n",
            "|231934675|2016-06-16 10:09:51|NOTE: This event ...|   34200|https://www.meetu...|     others|       0.0|   not_found|     per person|    Price|           0|2010-04-07 21:26:22|          37.77|    -122.410004| 1627081|           open|        HR & Tech SF|      hr-and-tech-sf|      Members|        0|           not_found|               0|Drinks with Inter...|not_found|           0.0|          -1|        -1|    upcoming|2017-10-26 04:00:00|2017-10-19 06:05:11|    -25200|      1560 Powell St|        not_found|San Francisco|           US|17568982|37.799217|                         USA|-122.410538|      Northstar Cafe|         -1|             0|  not_found|       -1|    public|             0|not_found|            28|\n",
            "|233755101|2016-08-31 02:39:33|She's baaaaaaack!...|   10800|https://www.meetu...|      wepay|      10.0|         USD|     per person|    price|           1|2009-03-23 00:02:21|      41.919998|     -87.699997| 1415286|           open|The Founding Moms...|        FoundingMoms|Founding Moms|        0|           not_found|               0|The Founding Moms...|not_found|           0.0|          -1|        -1|    upcoming|2017-11-14 16:00:00|2017-04-05 02:09:39|    -21600|2141 W. North Ave...|        not_found|      Chicago|           us|16276832|41.910385|                         USA| -87.681648|   Free Range Office|         -1|             0|         IL|       -1|    public|             0|not_found|             2|\n",
            "|234227980|2016-09-18 23:44:15|In Virginia Woolf...|    5400|https://www.meetu...|     others|       0.0|   not_found|     per person|    Price|           0|2016-01-03 21:19:12|      37.759998|    -122.459999|19270969|           open|World Literature ...|World-Literature-...|      Readers|        0|Meeting takes pla...|               0|The Waves by Virg...|not_found|           0.0|          -1|        -1|    upcoming|2017-12-08 02:00:00|2017-10-18 17:49:51|    -28800|   100 Larkin Street|        not_found|San Francisco|           us|25559451|      0.0|                         USA|        0.0|San Francisco Pub...|         -1|             0|         CA|       -1|    public|             0|not_found|             3|\n",
            "|236780948|2017-01-09 00:37:41|From Wikipedia: W...|    7200|https://www.meetu...|     others|       0.0|   not_found|     per person|    Price|           0|2007-06-11 01:59:29|      41.919998|     -87.650002|  523869|           open|Read the Classics...|           1001books| Book Readers|        0|           not_found|               0|Watt by Samuel Be...|not_found|           0.0|          -1|        -1|    upcoming|2017-11-12 21:00:00|2017-03-29 03:29:16|    -21600| 2442 N Clark Street|        not_found|      Chicago|           us| 1111215|41.926679|                         USA| -87.641359|         Galway Arms|         -1|             0|         IL|       -1|    public|             0|not_found|            11|\n",
            "|236780962|2017-01-09 00:38:16|Under the Skin wa...|    7200|https://www.meetu...|     others|       0.0|   not_found|     per person|    Price|           0|2007-06-11 01:59:29|      41.919998|     -87.650002|  523869|           open|Read the Classics...|           1001books| Book Readers|        0|           not_found|               0|Under the Skin - ...|not_found|           0.0|          -1|        -1|    upcoming|2017-12-17 21:00:00|2017-10-07 19:59:14|    -21600| 2442 N Clark Street|        not_found|      Chicago|           us| 1111215|41.926679|                         USA| -87.641359|         Galway Arms|         -1|             0|         IL|       -1|    public|             0|not_found|            10|\n",
            "|236927642|2017-01-14 20:51:19|Sketch in a subwa...|   10800|https://www.meetu...|     others|       0.0|   not_found|     per person|    Price|           0|2007-02-08 23:04:05|          40.73|     -73.989998|  424879|           open|Central Park Sket...|           sketching|      Members|        0|           not_found|               0|Sketch the 2nd Av...|not_found|           0.0|          -1|        -1|    upcoming|2017-11-11 16:00:00|2017-01-14 20:51:19|    -18000|86th st and 2nd a...|        not_found|     New York|           us|24990880|40.777889|                         USA|  -73.95179|86th st and 2nd a...|         -1|             0|         NY|       -1|    public|             0|not_found|            73|\n",
            "|236956770|2017-01-16 04:24:26|From Goodreads:  ...|   10800|https://www.meetu...|     others|       0.0|   not_found|     per person|    Price|           0|2007-06-11 01:59:29|      41.919998|     -87.650002|  523869|           open|Read the Classics...|           1001books| Book Readers|        0|           not_found|               0|A Confederacy of ...|not_found|           0.0|          -1|        -1|    upcoming|2017-10-29 20:00:00|2017-03-29 03:21:03|    -18000| 2442 N Clark Street|        not_found|      Chicago|           us| 1111215|41.926679|                         USA| -87.641359|         Galway Arms|         -1|             0|         IL|       -1|    public|             0|not_found|            20|\n",
            "|236956804|2017-01-16 04:28:46|From Goodreads: C...|   10800|https://www.meetu...|     others|       0.0|   not_found|     per person|    Price|           0|2007-06-11 01:59:29|      41.919998|     -87.650002|  523869|           open|Read the Classics...|           1001books| Book Readers|        0|           not_found|               0|The Underground R...|not_found|           0.0|          -1|        -1|    upcoming|2017-12-03 21:00:00|2017-01-16 04:28:46|    -21600| 2442 N Clark Street|        not_found|      Chicago|           us| 1111215|41.926679|                         USA| -87.641359|         Galway Arms|         -1|             0|         IL|       -1|    public|             0|not_found|            16|\n",
            "|238267737|2017-03-08 16:15:48|Location & Agenda...|   10800|https://www.meetu...|     others|       0.0|   not_found|     per person|    Price|           0|2014-12-07 16:49:21|          40.75|     -73.980003|18238001|           open|Entrepreneurial A...|EntrepreneurialAc...|      Members|        0|           not_found|               0|Buying a Small Co...|not_found|           0.0|          -1|        -1|    upcoming|2017-12-06 23:30:00|2017-09-16 14:41:56|    -18000|58 E 34th St, New...|        not_found|     New York|           us|24256636|40.747162|                         USA| -73.982277|       The Long Hall|         -1|             0|         NY|       -1|    public|             0|not_found|            20|\n",
            "|239961844|2017-05-13 18:20:06|From Wikipedia: T...|   10800|https://www.meetu...|     others|       0.0|   not_found|     per person|    Price|           0|2014-04-27 12:44:16|      40.759998|     -73.989998|14132062|           open|NYC Russian Novel...|      russian-novels|      Readers|        0|           not_found|               0|Read: The Foundat...|not_found|           0.0|          -1|        20|    upcoming|2017-10-30 23:00:00|2017-05-13 18:20:06|    -14400|       315 W 54th St|        not_found|     New York|           US|20454792|40.765285|                         USA| -73.985199|         Uncle Vanya|         -1|             0|  not_found|       -1|    public|             5|not_found|            20|\n",
            "|239961885|2017-05-13 18:22:43|From Goodreads: A...|   10800|https://www.meetu...|     others|       0.0|   not_found|     per person|    Price|           0|2014-04-27 12:44:16|      40.759998|     -73.989998|14132062|           open|NYC Russian Novel...|      russian-novels|      Readers|        0|           not_found|               0|Read: The Big Gre...|not_found|           0.0|          -1|        20|    upcoming|2017-11-28 00:00:00|2017-05-13 18:22:43|    -18000|       315 W 54th St|        not_found|     New York|           US|20454792|40.765285|                         USA| -73.985199|         Uncle Vanya|         -1|             0|  not_found|       -1|    public|             1|not_found|            20|\n",
            "|240004759|2017-05-15 16:45:03|Because our norma...|   10800|https://www.meetu...|     others|       0.0|   not_found|     per person|    Price|           0|2014-04-27 12:44:16|      40.759998|     -73.989998|14132062|           open|NYC Russian Novel...|      russian-novels|      Readers|        0|           not_found|               0|Read Haji Murad a...|not_found|           0.0|          -1|        20|    upcoming|2017-12-19 00:00:00|2017-05-15 17:02:07|    -18000|       315 W 54th St|        not_found|     New York|           US|20454792|40.765285|                         USA| -73.985199|         Uncle Vanya|         -1|             0|  not_found|       -1|    public|             5|not_found|            20|\n",
            "|240507712|2017-06-03 16:14:50|The Amazing Adven...|   10800|https://www.meetu...|     others|       0.0|   not_found|     per person|    Price|           0|2010-01-03 18:43:38|      40.720001|     -73.980003| 1576459|           open|Bucket List Book ...|  BucketListBooksNYC|      Readers|        0|           not_found|               0|The Amazing Adven...|not_found|           0.0|          -1|        -1|    upcoming|2018-01-29 00:00:00|2017-10-14 14:51:01|    -18000|         140 2nd Ave|bet 8th / 9th Sts|     New York|           us|  725010| 40.72884|                         USA|  -73.98703|Ukrainian East Vi...| 2125295024|             0|         NY|       -1|    public|             0|not_found|            50|\n",
            "+---------+-------------------+--------------------+--------+--------------------+-----------+----------+------------+---------------+---------+------------+-------------------+---------------+---------------+--------+---------------+--------------------+--------------------+-------------+---------+--------------------+----------------+--------------------+---------+--------------+------------+----------+------------+-------------------+-------------------+----------+--------------------+-----------------+-------------+-------------+--------+---------+----------------------------+-----------+--------------------+-----------+--------------+-----------+---------+----------+--------------+---------+--------------+\n",
            "only showing top 20 rows\n",
            "\n"
          ]
        }
      ]
    },
    {
      "cell_type": "code",
      "metadata": {
        "id": "Q5bckXAkYv82"
      },
      "source": [
        "#Remove some columns\n",
        "data_events = data_events.drop(\"event_url\",\"photo_url\" )"
      ],
      "execution_count": 40,
      "outputs": []
    },
    {
      "cell_type": "code",
      "metadata": {
        "colab": {
          "base_uri": "https://localhost:8080/"
        },
        "id": "yilMBGtrY2s6",
        "outputId": "92a2f834-ab06-445f-96b2-a7d5af622299"
      },
      "source": [
        "data_events.show()"
      ],
      "execution_count": 41,
      "outputs": [
        {
          "output_type": "stream",
          "name": "stdout",
          "text": [
            "+---------+-------------------+--------------------+--------+-----------+----------+------------+---------------+---------+------------+-------------------+---------------+---------------+--------+---------------+--------------------+--------------------+-------------+---------+--------------------+----------------+--------------------+--------------+------------+----------+------------+-------------------+-------------------+----------+--------------------+-----------------+-------------+-------------+--------+---------+----------------------------+-----------+--------------------+-----------+--------------+-----------+---------+----------+--------------+---------+--------------+\n",
            "| event_id|            created|         description|duration|fee.accepts|fee.amount|fee.currency|fee.description|fee.label|fee.required|      group.created|group.group_lat|group.group_lon|group_id|group.join_mode|          group.name|       group.urlname|    group.who|headcount|      how_to_find_us|maybe_rsvp_count|          event_name|rating.average|rating.count|rsvp_limit|event_status|         event_time|            updated|utc_offset|     venue.address_1|  venue.address_2|   venue.city|venue.country|venue_id|venue.lat|venue.localized_country_name|  venue.lon|          venue.name|venue.phone|venue.repinned|venue.state|venue.zip|visibility|waitlist_count|      why|yes_rsvp_count|\n",
            "+---------+-------------------+--------------------+--------+-----------+----------+------------+---------------+---------+------------+-------------------+---------------+---------------+--------+---------------+--------------------+--------------------+-------------+---------+--------------------+----------------+--------------------+--------------+------------+----------+------------+-------------------+-------------------+----------+--------------------+-----------------+-------------+-------------+--------+---------+----------------------------+-----------+--------------------+-----------+--------------+-----------+---------+----------+--------------+---------+--------------+\n",
            "|153868222|2013-12-03 21:24:29|Solve the murder ...|   20700|     others|       0.0|   not_found|     per person|    Price|           0|2012-11-12 21:29:23|      37.790001|    -122.419998| 5817262|           open|San Francisco Sta...|SanFranciscoStart...|      Members|        0|We will be meetin...|               0|Murder Mystery Di...|           0.0|          -1|        -1|    upcoming|2017-10-30 02:30:00|2017-10-23 03:26:49|    -25200|    505 Broadway St.|        not_found|San Francisco|           us|23729697| 37.79795|                         USA| -122.40569|     Little Szechuan|         -1|             1|         CA|       -1|    public|             0|not_found|            72|\n",
            "|184167702|2014-05-20 18:52:00|NOTE: This event ...|   77400|     others|       0.0|   not_found|     per person|    Price|           0|2010-04-07 21:26:22|          37.77|    -122.410004| 1627081|           open|        HR & Tech SF|      hr-and-tech-sf|      Members|        0|           not_found|               0|Friday Night Drin...|           0.0|          -1|        -1|    upcoming|2017-10-28 04:00:00|2017-10-21 06:10:49|    -25200|     498 Broadway St|        not_found|San Francisco|           us|16948982|37.798172|                         USA|-122.405457|      Horizon Lounge|         -1|             0|         CA|       -1|    public|             0|not_found|           179|\n",
            "|215200502|2014-10-23 16:18:44|We'll be heading ...|   37800|     others|       0.0|   not_found|     per person|    Price|           0|2010-04-07 21:26:22|          37.77|    -122.410004| 1627081|           open|        HR & Tech SF|      hr-and-tech-sf|      Members|        0|           not_found|               0|Dinner, Comedy, 1...|           0.0|          -1|        -1|    upcoming|2017-10-27 03:00:00|2017-10-20 03:48:29|    -25200|    631 broadway st.|        not_found|San Francisco|           us|24717469|37.797516|                         USA|-122.407394|taste of vietnam ...|         -1|             0|         CA|       -1|    public|             0|not_found|            45|\n",
            "|220826782|2015-02-28 19:27:32|NOTE: This event ...|  113400|     others|       0.0|   not_found|     per person|    Price|           0|2012-11-12 21:29:23|      37.790001|    -122.419998| 5817262|           open|San Francisco Sta...|SanFranciscoStart...|      Members|        0|           not_found|               0| Friday Night Drinks|           0.0|          -1|        -1|    upcoming|2017-10-28 04:00:00|2017-10-21 06:11:09|    -25200|        498 Broadway|        not_found|San Francisco|           us|  724783|37.798036|                         USA|-122.405442|             Horizon| 4155761118|             0|         CA|       -1|    public|             0|not_found|           198|\n",
            "|227948102|2016-01-08 21:35:40|Aussie Aussie Aus...|   36000|     others|       0.0|   not_found|     per person|    Price|           0|2010-04-07 21:26:22|          37.77|    -122.410004| 1627081|           open|        HR & Tech SF|      hr-and-tech-sf|      Members|        0|           not_found|               0|AUSTRALIA DAY PAR...|           0.0|          -1|        -1|    upcoming|2018-01-26 01:00:00|2017-01-26 07:40:31|    -28800|        490 Broadway|        not_found|San Francisco|           US|20984572| 37.79805|                         USA|-122.405251|Score! Bar and Lo...|         -1|             0|  not_found|       -1|    public|             0|not_found|            24|\n",
            "|227967930|2016-01-09 20:41:06|Aussie Aussie Aus...|   36000|     others|       0.0|   not_found|     per person|    Price|           0|2012-11-12 21:29:23|      37.790001|    -122.419998| 5817262|           open|San Francisco Sta...|SanFranciscoStart...|      Members|        0|           not_found|               0|AUSTRALIA DAY PAR...|           0.0|          -1|        -1|    upcoming|2018-01-26 01:00:00|2017-01-26 07:49:57|    -28800|     490 Broadway St|        not_found|San Francisco|           us|14982352|37.798084|                         USA|-122.405144|  Score Bar & Lounge|         -1|             0|         CA|       -1|    public|             0|not_found|            22|\n",
            "|230034070|2016-04-01 01:20:15|We'll be heading ...|   37800|     others|       0.0|   not_found|     per person|    Price|           0|2012-11-12 21:29:23|      37.790001|    -122.419998| 5817262|           open|San Francisco Sta...|SanFranciscoStart...|      Members|        0|           not_found|               0|Dinner, Comedy Sh...|           0.0|          -1|        -1|    upcoming|2017-10-27 03:00:00|2017-10-20 03:49:11|    -25200|    631 broadway st.|        not_found|San Francisco|           us|24717469|37.797516|                         USA|-122.407394|taste of vietnam ...|         -1|             0|         CA|       -1|    public|             0|not_found|            26|\n",
            "|231934675|2016-06-16 10:09:51|NOTE: This event ...|   34200|     others|       0.0|   not_found|     per person|    Price|           0|2010-04-07 21:26:22|          37.77|    -122.410004| 1627081|           open|        HR & Tech SF|      hr-and-tech-sf|      Members|        0|           not_found|               0|Drinks with Inter...|           0.0|          -1|        -1|    upcoming|2017-10-26 04:00:00|2017-10-19 06:05:11|    -25200|      1560 Powell St|        not_found|San Francisco|           US|17568982|37.799217|                         USA|-122.410538|      Northstar Cafe|         -1|             0|  not_found|       -1|    public|             0|not_found|            28|\n",
            "|233755101|2016-08-31 02:39:33|She's baaaaaaack!...|   10800|      wepay|      10.0|         USD|     per person|    price|           1|2009-03-23 00:02:21|      41.919998|     -87.699997| 1415286|           open|The Founding Moms...|        FoundingMoms|Founding Moms|        0|           not_found|               0|The Founding Moms...|           0.0|          -1|        -1|    upcoming|2017-11-14 16:00:00|2017-04-05 02:09:39|    -21600|2141 W. North Ave...|        not_found|      Chicago|           us|16276832|41.910385|                         USA| -87.681648|   Free Range Office|         -1|             0|         IL|       -1|    public|             0|not_found|             2|\n",
            "|234227980|2016-09-18 23:44:15|In Virginia Woolf...|    5400|     others|       0.0|   not_found|     per person|    Price|           0|2016-01-03 21:19:12|      37.759998|    -122.459999|19270969|           open|World Literature ...|World-Literature-...|      Readers|        0|Meeting takes pla...|               0|The Waves by Virg...|           0.0|          -1|        -1|    upcoming|2017-12-08 02:00:00|2017-10-18 17:49:51|    -28800|   100 Larkin Street|        not_found|San Francisco|           us|25559451|      0.0|                         USA|        0.0|San Francisco Pub...|         -1|             0|         CA|       -1|    public|             0|not_found|             3|\n",
            "|236780948|2017-01-09 00:37:41|From Wikipedia: W...|    7200|     others|       0.0|   not_found|     per person|    Price|           0|2007-06-11 01:59:29|      41.919998|     -87.650002|  523869|           open|Read the Classics...|           1001books| Book Readers|        0|           not_found|               0|Watt by Samuel Be...|           0.0|          -1|        -1|    upcoming|2017-11-12 21:00:00|2017-03-29 03:29:16|    -21600| 2442 N Clark Street|        not_found|      Chicago|           us| 1111215|41.926679|                         USA| -87.641359|         Galway Arms|         -1|             0|         IL|       -1|    public|             0|not_found|            11|\n",
            "|236780962|2017-01-09 00:38:16|Under the Skin wa...|    7200|     others|       0.0|   not_found|     per person|    Price|           0|2007-06-11 01:59:29|      41.919998|     -87.650002|  523869|           open|Read the Classics...|           1001books| Book Readers|        0|           not_found|               0|Under the Skin - ...|           0.0|          -1|        -1|    upcoming|2017-12-17 21:00:00|2017-10-07 19:59:14|    -21600| 2442 N Clark Street|        not_found|      Chicago|           us| 1111215|41.926679|                         USA| -87.641359|         Galway Arms|         -1|             0|         IL|       -1|    public|             0|not_found|            10|\n",
            "|236927642|2017-01-14 20:51:19|Sketch in a subwa...|   10800|     others|       0.0|   not_found|     per person|    Price|           0|2007-02-08 23:04:05|          40.73|     -73.989998|  424879|           open|Central Park Sket...|           sketching|      Members|        0|           not_found|               0|Sketch the 2nd Av...|           0.0|          -1|        -1|    upcoming|2017-11-11 16:00:00|2017-01-14 20:51:19|    -18000|86th st and 2nd a...|        not_found|     New York|           us|24990880|40.777889|                         USA|  -73.95179|86th st and 2nd a...|         -1|             0|         NY|       -1|    public|             0|not_found|            73|\n",
            "|236956770|2017-01-16 04:24:26|From Goodreads:  ...|   10800|     others|       0.0|   not_found|     per person|    Price|           0|2007-06-11 01:59:29|      41.919998|     -87.650002|  523869|           open|Read the Classics...|           1001books| Book Readers|        0|           not_found|               0|A Confederacy of ...|           0.0|          -1|        -1|    upcoming|2017-10-29 20:00:00|2017-03-29 03:21:03|    -18000| 2442 N Clark Street|        not_found|      Chicago|           us| 1111215|41.926679|                         USA| -87.641359|         Galway Arms|         -1|             0|         IL|       -1|    public|             0|not_found|            20|\n",
            "|236956804|2017-01-16 04:28:46|From Goodreads: C...|   10800|     others|       0.0|   not_found|     per person|    Price|           0|2007-06-11 01:59:29|      41.919998|     -87.650002|  523869|           open|Read the Classics...|           1001books| Book Readers|        0|           not_found|               0|The Underground R...|           0.0|          -1|        -1|    upcoming|2017-12-03 21:00:00|2017-01-16 04:28:46|    -21600| 2442 N Clark Street|        not_found|      Chicago|           us| 1111215|41.926679|                         USA| -87.641359|         Galway Arms|         -1|             0|         IL|       -1|    public|             0|not_found|            16|\n",
            "|238267737|2017-03-08 16:15:48|Location & Agenda...|   10800|     others|       0.0|   not_found|     per person|    Price|           0|2014-12-07 16:49:21|          40.75|     -73.980003|18238001|           open|Entrepreneurial A...|EntrepreneurialAc...|      Members|        0|           not_found|               0|Buying a Small Co...|           0.0|          -1|        -1|    upcoming|2017-12-06 23:30:00|2017-09-16 14:41:56|    -18000|58 E 34th St, New...|        not_found|     New York|           us|24256636|40.747162|                         USA| -73.982277|       The Long Hall|         -1|             0|         NY|       -1|    public|             0|not_found|            20|\n",
            "|239961844|2017-05-13 18:20:06|From Wikipedia: T...|   10800|     others|       0.0|   not_found|     per person|    Price|           0|2014-04-27 12:44:16|      40.759998|     -73.989998|14132062|           open|NYC Russian Novel...|      russian-novels|      Readers|        0|           not_found|               0|Read: The Foundat...|           0.0|          -1|        20|    upcoming|2017-10-30 23:00:00|2017-05-13 18:20:06|    -14400|       315 W 54th St|        not_found|     New York|           US|20454792|40.765285|                         USA| -73.985199|         Uncle Vanya|         -1|             0|  not_found|       -1|    public|             5|not_found|            20|\n",
            "|239961885|2017-05-13 18:22:43|From Goodreads: A...|   10800|     others|       0.0|   not_found|     per person|    Price|           0|2014-04-27 12:44:16|      40.759998|     -73.989998|14132062|           open|NYC Russian Novel...|      russian-novels|      Readers|        0|           not_found|               0|Read: The Big Gre...|           0.0|          -1|        20|    upcoming|2017-11-28 00:00:00|2017-05-13 18:22:43|    -18000|       315 W 54th St|        not_found|     New York|           US|20454792|40.765285|                         USA| -73.985199|         Uncle Vanya|         -1|             0|  not_found|       -1|    public|             1|not_found|            20|\n",
            "|240004759|2017-05-15 16:45:03|Because our norma...|   10800|     others|       0.0|   not_found|     per person|    Price|           0|2014-04-27 12:44:16|      40.759998|     -73.989998|14132062|           open|NYC Russian Novel...|      russian-novels|      Readers|        0|           not_found|               0|Read Haji Murad a...|           0.0|          -1|        20|    upcoming|2017-12-19 00:00:00|2017-05-15 17:02:07|    -18000|       315 W 54th St|        not_found|     New York|           US|20454792|40.765285|                         USA| -73.985199|         Uncle Vanya|         -1|             0|  not_found|       -1|    public|             5|not_found|            20|\n",
            "|240507712|2017-06-03 16:14:50|The Amazing Adven...|   10800|     others|       0.0|   not_found|     per person|    Price|           0|2010-01-03 18:43:38|      40.720001|     -73.980003| 1576459|           open|Bucket List Book ...|  BucketListBooksNYC|      Readers|        0|           not_found|               0|The Amazing Adven...|           0.0|          -1|        -1|    upcoming|2018-01-29 00:00:00|2017-10-14 14:51:01|    -18000|         140 2nd Ave|bet 8th / 9th Sts|     New York|           us|  725010| 40.72884|                         USA|  -73.98703|Ukrainian East Vi...| 2125295024|             0|         NY|       -1|    public|             0|not_found|            50|\n",
            "+---------+-------------------+--------------------+--------+-----------+----------+------------+---------------+---------+------------+-------------------+---------------+---------------+--------+---------------+--------------------+--------------------+-------------+---------+--------------------+----------------+--------------------+--------------+------------+----------+------------+-------------------+-------------------+----------+--------------------+-----------------+-------------+-------------+--------+---------+----------------------------+-----------+--------------------+-----------+--------------+-----------+---------+----------+--------------+---------+--------------+\n",
            "only showing top 20 rows\n",
            "\n"
          ]
        }
      ]
    },
    {
      "cell_type": "code",
      "metadata": {
        "colab": {
          "base_uri": "https://localhost:8080/"
        },
        "id": "tEcYwgOeZJqM",
        "outputId": "2ac7974b-0fb3-4a81-d4af-081bec290502"
      },
      "source": [
        "print ((data_events.count() , len (data_events.columns)))"
      ],
      "execution_count": 42,
      "outputs": [
        {
          "output_type": "stream",
          "name": "stdout",
          "text": [
            "(5807, 46)\n"
          ]
        }
      ]
    },
    {
      "cell_type": "code",
      "metadata": {
        "colab": {
          "base_uri": "https://localhost:8080/"
        },
        "id": "4pnHmWY8ZJgQ",
        "outputId": "bd90e7a1-2a7c-4a13-b046-76f66a6d51e7"
      },
      "source": [
        "#Groups\n",
        "print ((data_groups.count() , len (data_groups.columns)))"
      ],
      "execution_count": 43,
      "outputs": [
        {
          "output_type": "stream",
          "name": "stdout",
          "text": [
            "(16330, 36)\n"
          ]
        }
      ]
    },
    {
      "cell_type": "code",
      "metadata": {
        "colab": {
          "base_uri": "https://localhost:8080/"
        },
        "id": "uHNaqLtqaFsW",
        "outputId": "773480b8-d43f-4fd7-9014-811b2783745a"
      },
      "source": [
        "data_groups.show()"
      ],
      "execution_count": 44,
      "outputs": [
        {
          "output_type": "stream",
          "name": "stdout",
          "text": [
            "+--------+-----------+--------------------+--------------------+-------+--------+-------+-------------------+--------------------+--------------------+------------------------+--------------------+----------------------+----------------------+----------------+---------+---------+--------------------+----------+-------+--------------------+-------------------+--------------------+------------------------+----------------------------+------------------------+--------------------------+--------------------------+--------------------+------+-----+----------+--------------------+----------+--------------+--------------------+\n",
            "|group_id|category_id|       category.name|  category.shortname|city_id|    city|country|            created|         description|group_photo.base_url|group_photo.highres_link|group_photo.photo_id|group_photo.photo_link|group_photo.thumb_link|group_photo.type|join_mode|      lat|                link|       lon|members|          group_name|organizer.member_id|      organizer.name|organizer.photo.base_url|organizer.photo.highres_link|organizer.photo.photo_id|organizer.photo.photo_link|organizer.photo.thumb_link|organizer.photo.type|rating|state|  timezone|             urlname|utc_offset|    visibility|                 who|\n",
            "+--------+-----------+--------------------+--------------------+-------+--------+-------+-------------------+--------------------+--------------------+------------------------+--------------------+----------------------+----------------------+----------------+---------+---------+--------------------+----------+-------+--------------------+-------------------+--------------------+------------------------+----------------------------+------------------------+--------------------------+--------------------------+--------------------+------+-----+----------+--------------------+----------+--------------+--------------------+\n",
            "|    6388|         14|    health/wellbeing|    health-wellbeing|  10001|New York|     US|2002-11-21 16:50:46|Those who practic...|https://secure.me...|    https://secure.me...|            61087482|  https://secure.me...|  https://secure.me...|           event|     open|    40.75|https://www.meetu...|-73.989998|   1440|Alternative Healt...|            1513133|             Joel E.|    https://secure.me...|        https://secure.me...|                 3982960|      https://secure.me...|      https://secure.me...|              member|  4.39|   NY|US/Eastern|alternative-healt...|    -14400|        public| Explorers of Health|\n",
            "|    6510|          4|community/environ...|community-environ...|  10001|New York|     US|2003-05-20 14:48:54|The New York Alte...|https://secure.me...|    https://secure.me...|           462764217|  https://secure.me...|  https://secure.me...|           event|     open|    40.75|https://www.meetu...|-73.989998|    969|Alternative Energ...|            3955940|      Yair Greenbaum|    https://secure.me...|        https://secure.me...|                 7966960|      https://secure.me...|      https://secure.me...|              member|  4.31|   NY|US/Eastern|alternative-energ...|    -14400|        public|Clean Energy Supp...|\n",
            "|    8458|         26|        pets/animals|        pets-animals|  10001|New York|     US|2004-03-27 09:55:41|           not_found|https://secure.me...|    https://secure.me...|           431422360|  https://secure.me...|  https://secure.me...|           event|     open|    40.73|https://www.meetu...|-73.989998|   2930|   NYC Animal Rights|            1809940|              Santos|    https://secure.me...|        https://secure.me...|               259015234|      https://secure.me...|      https://secure.me...|              member|  4.84|   NY|US/Eastern|             Animals|    -14400|        public|       Animal Voices|\n",
            "|    8940|         29|      sci-fi/fantasy|      sci-fi-fantasy|  10001|New York|     US|2002-11-16 04:49:16|Welcome to the Th...|https://secure.me...|    https://secure.me...|             2424355|  https://secure.me...|  https://secure.me...|           event|     open|    40.75|https://www.meetu...|-73.989998|   5080|The New York City...|            2548151|           Al Mejias|    https://secure.me...|        https://secure.me...|                 1920491|      https://secure.me...|      https://secure.me...|              member|  4.46|   NY|US/Eastern|           NYC-Anime|    -14400|        public|          Anime Fans|\n",
            "|   10104|         26|        pets/animals|        pets-animals|  10001|New York|     US|2003-10-22 21:39:49|We welcome those ...|https://secure.me...|    https://secure.me...|            12940295|  https://secure.me...|  https://secure.me...|           event|     open|40.720001|https://www.meetu...|     -74.0|   2097|  NYC Pit Bull Group|            1929168|                 Amy|    https://secure.me...|        https://secure.me...|                 1659284|      https://secure.me...|      https://secure.me...|              member|  4.09|   NY|US/Eastern|         NYC-Pitbull|    -14400|public_limited|NYC Pits & People...|\n",
            "|   10359|         16|language/ethnic i...|            language|  10001|New York|     US|2003-05-22 14:19:52|Hello!  Michael K...|https://secure.me...|    https://secure.me...|            21615822|  https://secure.me...|  https://secure.me...|           event| approval|40.759998|https://www.meetu...|-73.989998|   1171|NYC International...|            1766230|Michael Kim Jamal...|    https://secure.me...|        https://secure.me...|               242829900|      https://secure.me...|      https://secure.me...|              member|  4.58|   NY|US/Eastern|       NYCArabicClub|    -14400|public_limited|        Arabophiles!|\n",
            "|   12111|         16|language/ethnic i...|            language|  10001|New York|     US|2002-10-08 17:22:28|NYC ASL is a soci...|https://secure.me...|    https://secure.me...|           464971104|  https://secure.me...|  https://secure.me...|           event|     open|    40.75|https://www.meetu...|-73.989998|    140|The New York City...|            1208717|             Timothy|    https://secure.me...|        https://secure.me...|                  561252|      https://secure.me...|      https://secure.me...|              member|  4.46|   NY|US/Eastern|              NYCASL|    -14400|public_limited|      NYC ASL Member|\n",
            "|   12542|         22|new age/spirituality|new-age-spirituality|  10001|New York|     US|2002-10-08 17:22:23|Astrology is an a...|https://secure.me...|    https://secure.me...|            13585779|  https://secure.me...|  https://secure.me...|           event|     open|    40.75|https://www.meetu...|-73.989998|   1738|The New York City...|              93086|           Kirk Kahn|    https://secure.me...|                   not_found|                73436672|      https://secure.me...|      https://secure.me...|              member|  4.59|   NY|US/Eastern|       nyc-astrology|    -14400|        public|     Astrology Buffs|\n",
            "|   12907|         28|    religion/beliefs|    religion-beliefs|  10001|New York|     US|2002-10-30 03:09:34|WEB: WWW.NYC-ATHE...|https://secure.me...|    https://secure.me...|            21771345|  https://secure.me...|  https://secure.me...|           event|     open|40.759998|https://www.meetu...|-73.970001|   2454|New York City Ath...|             187628|   KENNETH BRONSTEIN|    https://secure.me...|        https://secure.me...|                 5712872|      https://secure.me...|      https://secure.me...|              member|  4.63|   NY|US/Eastern|         atheists-24|    -14400|        public|            Atheists|\n",
            "|   14573|         13|  movements/politics| government-politics|  10001|New York|     US|2003-04-14 17:20:41|           not_found|https://secure.me...|    https://secure.me...|              100233|  https://secure.me...|  https://secure.me...|           event|     open|    40.75|https://www.meetu...|-73.989998|    557|The New York City...|             696532|        Benny Pollak|    https://secure.me...|        https://secure.me...|                 3141227|      https://secure.me...|      https://secure.me...|              member|  4.56|   NY|US/Eastern|           aynrand-8|    -14400|        public|        Objectivists|\n",
            "|   15217|         31|         socializing|         socializing|  10001|New York|     US|2003-02-05 02:32:46|This is a freewhe...|           not_found|               not_found|                  -1|             not_found|             not_found|          others|     open|40.740002|https://www.meetu...|-73.989998|    350|The New York City...|            2911816|             Deborah|    https://secure.me...|        https://secure.me...|                  811651|      https://secure.me...|      https://secure.me...|              member|  4.34|   NY|US/Eastern|TheGreatNYCBackga...|    -14400|public_limited|       Happy Rollers|\n",
            "|   15324|         23|  outdoors/adventure|  outdoors-adventure|  60601| Chicago|     US|2003-10-22 21:39:49|Welcome to the Ch...|https://secure.me...|    https://secure.me...|           461261231|  https://secure.me...|  https://secure.me...|           event|     open|41.889999|https://www.meetu...|-87.629997|   1369|The Chicago Backp...|           10175045|             Mary R.|    https://secure.me...|        https://secure.me...|               267795659|      https://secure.me...|      https://secure.me...|              member|  4.79|   IL|US/Central| Chicago-Backpackers|    -18000|        public|         Backpackers|\n",
            "|   16620|         26|        pets/animals|        pets-animals|  10001|New York|     US|2004-08-23 17:18:59|JOIN US for good ...|https://secure.me...|    https://secure.me...|           276373032|  https://secure.me...|  https://secure.me...|           event| approval|    40.73|https://www.meetu...|-74.010002|    231|New York City Bas...|           13231563|Rob & Stacie John...|    https://secure.me...|        https://secure.me...|               252916848|      https://secure.me...|      https://secure.me...|              member|  4.85|   NY|US/Eastern|         basenji-nyc|    -14400|        public|      Basenji Lovers|\n",
            "|   17183|         31|         socializing|         socializing|  10001|New York|     US|2003-05-30 02:47:56|BBFP and Admirers...|https://secure.me...|    https://secure.me...|            10763886|  https://secure.me...|  https://secure.me...|           event| approval|    40.75|https://www.meetu...|-73.989998|     42|The NYC Big Beaut...|             999921|                 lyn|    https://secure.me...|        https://secure.me...|                 2892906|      https://secure.me...|      https://secure.me...|              member|  4.58|   NY|US/Eastern|             bbfp-68|    -14400|public_limited|BBFP & Those Who ...|\n",
            "|   17921|         26|        pets/animals|        pets-animals|  10001|New York|     US|2002-12-23 16:48:09|The Beagle is an ...|https://secure.me...|    https://secure.me...|            46825091|  https://secure.me...|  https://secure.me...|           event|     open|    40.75|https://www.meetu...|-73.980003|    648|    The Beagle Pack!|            5365038|Jeffrey Altman (S...|    https://secure.me...|        https://secure.me...|                 9895486|      https://secure.me...|      https://secure.me...|              member|  4.73|   NY|US/Eastern|         beagle-pack|    -14400|        public|       Beagle Lovers|\n",
            "|   18843|          5|             dancing|             dancing|  10001|New York|     US|2003-06-19 09:53:09|The NYC Bellydanc...|           not_found|               not_found|                  -1|             not_found|             not_found|          others|     open|40.759998|https://www.meetu...|-73.989998|    420|NYC Bellydance Me...|            5429250|             Tandava|    https://secure.me...|        https://secure.me...|                 2727067|      https://secure.me...|      https://secure.me...|              member|  4.71|   NY|US/Eastern|     NYCBellydancers|    -14400|        public|Bellydancers/Shim...|\n",
            "|   20517|         33|             support|             support|  10001|New York|     US|2003-05-20 01:14:27|So lonely is the ...|https://secure.me...|    https://secure.me...|              858069|  https://secure.me...|  https://secure.me...|           event| approval|    40.75|https://www.meetu...|-73.989998|    550|The NYC Bipolar M...|           10550279|               Chris|    https://secure.me...|        https://secure.me...|                18804611|      https://secure.me...|      https://secure.me...|              member|  4.66|   NY|US/Eastern|          bipolar-10|    -14400|public_limited|      Merry Lunatics|\n",
            "|   22211|         11|               games|               games|  60601| Chicago|     US|2003-04-17 19:31:25|The Chicagoland a...|https://secure.me...|    https://secure.me...|           432152102|  https://secure.me...|  https://secure.me...|           event|     open|41.889999|https://www.meetu...|-87.629997|   4146| Chicago Game Lovers|            9470872|          Jeff Engel|    https://secure.me...|        https://secure.me...|                 6517214|      https://secure.me...|      https://secure.me...|              member|  4.72|   IL|US/Central|        chicagogames|    -18000|        public|              Gamers|\n",
            "|   22253|         11|               games|               games|  10001|New York|     US|2003-02-02 22:47:36|We are dedicated ...|https://secure.me...|    https://secure.me...|              298779|  https://secure.me...|  https://secure.me...|           event|     open|40.779999|https://www.meetu...|-73.980003|   6369|New York City Boa...|            1677076|      Steef Jacobson|    https://secure.me...|        https://secure.me...|               268534502|      https://secure.me...|      https://secure.me...|              member|  4.51|   NY|US/Eastern|      nyc-boardgames|    -14400|public_limited|              Gamers|\n",
            "|   23713|         18|          book clubs|          book-clubs|  10001|New York|     US|2002-10-08 17:22:23|Come join our boo...|https://secure.me...|    https://secure.me...|             1618976|  https://secure.me...|  https://secure.me...|           event|     open|    40.75|https://www.meetu...|-73.989998|    347|The NYC Bookcross...|            3198499|               Hazel|    https://secure.me...|        https://secure.me...|                36382922|      https://secure.me...|      https://secure.me...|              member|  3.98|   NY|US/Eastern|     bookcrossing-30|    -14400|        public|        BookCrossers|\n",
            "+--------+-----------+--------------------+--------------------+-------+--------+-------+-------------------+--------------------+--------------------+------------------------+--------------------+----------------------+----------------------+----------------+---------+---------+--------------------+----------+-------+--------------------+-------------------+--------------------+------------------------+----------------------------+------------------------+--------------------------+--------------------------+--------------------+------+-----+----------+--------------------+----------+--------------+--------------------+\n",
            "only showing top 20 rows\n",
            "\n"
          ]
        }
      ]
    },
    {
      "cell_type": "code",
      "metadata": {
        "id": "5yDO3C5laQzV"
      },
      "source": [
        "data_groups= data_groups.drop (\"group_photo.base_url\",\"group_photo.highres_link\",\"group_photo.photo_link\",\"group_photo.thumb_link\", \"link\",\"lon\",\"organizer.photo.base_url\",\"organizer.photo.highres_link\",\"organizer.photo.photo_link\",\"organizer.photo.thumb_link\")"
      ],
      "execution_count": 45,
      "outputs": []
    },
    {
      "cell_type": "code",
      "metadata": {
        "colab": {
          "base_uri": "https://localhost:8080/"
        },
        "id": "2EEynN9hbq24",
        "outputId": "b001ce38-670c-4a2a-8ed5-08fbdfde9fab"
      },
      "source": [
        "print ((data_groups.count() , len (data_groups.columns)))"
      ],
      "execution_count": 46,
      "outputs": [
        {
          "output_type": "stream",
          "name": "stdout",
          "text": [
            "(16330, 26)\n"
          ]
        }
      ]
    },
    {
      "cell_type": "code",
      "metadata": {
        "colab": {
          "base_uri": "https://localhost:8080/"
        },
        "id": "_hNcUiFHbyt6",
        "outputId": "27a176ae-12d2-4470-ceb8-dee4ee429734"
      },
      "source": [
        "data_groups.show()"
      ],
      "execution_count": 47,
      "outputs": [
        {
          "output_type": "stream",
          "name": "stdout",
          "text": [
            "+--------+-----------+--------------------+--------------------+-------+--------+-------+-------------------+--------------------+--------------------+----------------+---------+---------+-------+--------------------+-------------------+--------------------+------------------------+--------------------+------+-----+----------+--------------------+----------+--------------+--------------------+\n",
            "|group_id|category_id|       category.name|  category.shortname|city_id|    city|country|            created|         description|group_photo.photo_id|group_photo.type|join_mode|      lat|members|          group_name|organizer.member_id|      organizer.name|organizer.photo.photo_id|organizer.photo.type|rating|state|  timezone|             urlname|utc_offset|    visibility|                 who|\n",
            "+--------+-----------+--------------------+--------------------+-------+--------+-------+-------------------+--------------------+--------------------+----------------+---------+---------+-------+--------------------+-------------------+--------------------+------------------------+--------------------+------+-----+----------+--------------------+----------+--------------+--------------------+\n",
            "|    6388|         14|    health/wellbeing|    health-wellbeing|  10001|New York|     US|2002-11-21 16:50:46|Those who practic...|            61087482|           event|     open|    40.75|   1440|Alternative Healt...|            1513133|             Joel E.|                 3982960|              member|  4.39|   NY|US/Eastern|alternative-healt...|    -14400|        public| Explorers of Health|\n",
            "|    6510|          4|community/environ...|community-environ...|  10001|New York|     US|2003-05-20 14:48:54|The New York Alte...|           462764217|           event|     open|    40.75|    969|Alternative Energ...|            3955940|      Yair Greenbaum|                 7966960|              member|  4.31|   NY|US/Eastern|alternative-energ...|    -14400|        public|Clean Energy Supp...|\n",
            "|    8458|         26|        pets/animals|        pets-animals|  10001|New York|     US|2004-03-27 09:55:41|           not_found|           431422360|           event|     open|    40.73|   2930|   NYC Animal Rights|            1809940|              Santos|               259015234|              member|  4.84|   NY|US/Eastern|             Animals|    -14400|        public|       Animal Voices|\n",
            "|    8940|         29|      sci-fi/fantasy|      sci-fi-fantasy|  10001|New York|     US|2002-11-16 04:49:16|Welcome to the Th...|             2424355|           event|     open|    40.75|   5080|The New York City...|            2548151|           Al Mejias|                 1920491|              member|  4.46|   NY|US/Eastern|           NYC-Anime|    -14400|        public|          Anime Fans|\n",
            "|   10104|         26|        pets/animals|        pets-animals|  10001|New York|     US|2003-10-22 21:39:49|We welcome those ...|            12940295|           event|     open|40.720001|   2097|  NYC Pit Bull Group|            1929168|                 Amy|                 1659284|              member|  4.09|   NY|US/Eastern|         NYC-Pitbull|    -14400|public_limited|NYC Pits & People...|\n",
            "|   10359|         16|language/ethnic i...|            language|  10001|New York|     US|2003-05-22 14:19:52|Hello!  Michael K...|            21615822|           event| approval|40.759998|   1171|NYC International...|            1766230|Michael Kim Jamal...|               242829900|              member|  4.58|   NY|US/Eastern|       NYCArabicClub|    -14400|public_limited|        Arabophiles!|\n",
            "|   12111|         16|language/ethnic i...|            language|  10001|New York|     US|2002-10-08 17:22:28|NYC ASL is a soci...|           464971104|           event|     open|    40.75|    140|The New York City...|            1208717|             Timothy|                  561252|              member|  4.46|   NY|US/Eastern|              NYCASL|    -14400|public_limited|      NYC ASL Member|\n",
            "|   12542|         22|new age/spirituality|new-age-spirituality|  10001|New York|     US|2002-10-08 17:22:23|Astrology is an a...|            13585779|           event|     open|    40.75|   1738|The New York City...|              93086|           Kirk Kahn|                73436672|              member|  4.59|   NY|US/Eastern|       nyc-astrology|    -14400|        public|     Astrology Buffs|\n",
            "|   12907|         28|    religion/beliefs|    religion-beliefs|  10001|New York|     US|2002-10-30 03:09:34|WEB: WWW.NYC-ATHE...|            21771345|           event|     open|40.759998|   2454|New York City Ath...|             187628|   KENNETH BRONSTEIN|                 5712872|              member|  4.63|   NY|US/Eastern|         atheists-24|    -14400|        public|            Atheists|\n",
            "|   14573|         13|  movements/politics| government-politics|  10001|New York|     US|2003-04-14 17:20:41|           not_found|              100233|           event|     open|    40.75|    557|The New York City...|             696532|        Benny Pollak|                 3141227|              member|  4.56|   NY|US/Eastern|           aynrand-8|    -14400|        public|        Objectivists|\n",
            "|   15217|         31|         socializing|         socializing|  10001|New York|     US|2003-02-05 02:32:46|This is a freewhe...|                  -1|          others|     open|40.740002|    350|The New York City...|            2911816|             Deborah|                  811651|              member|  4.34|   NY|US/Eastern|TheGreatNYCBackga...|    -14400|public_limited|       Happy Rollers|\n",
            "|   15324|         23|  outdoors/adventure|  outdoors-adventure|  60601| Chicago|     US|2003-10-22 21:39:49|Welcome to the Ch...|           461261231|           event|     open|41.889999|   1369|The Chicago Backp...|           10175045|             Mary R.|               267795659|              member|  4.79|   IL|US/Central| Chicago-Backpackers|    -18000|        public|         Backpackers|\n",
            "|   16620|         26|        pets/animals|        pets-animals|  10001|New York|     US|2004-08-23 17:18:59|JOIN US for good ...|           276373032|           event| approval|    40.73|    231|New York City Bas...|           13231563|Rob & Stacie John...|               252916848|              member|  4.85|   NY|US/Eastern|         basenji-nyc|    -14400|        public|      Basenji Lovers|\n",
            "|   17183|         31|         socializing|         socializing|  10001|New York|     US|2003-05-30 02:47:56|BBFP and Admirers...|            10763886|           event| approval|    40.75|     42|The NYC Big Beaut...|             999921|                 lyn|                 2892906|              member|  4.58|   NY|US/Eastern|             bbfp-68|    -14400|public_limited|BBFP & Those Who ...|\n",
            "|   17921|         26|        pets/animals|        pets-animals|  10001|New York|     US|2002-12-23 16:48:09|The Beagle is an ...|            46825091|           event|     open|    40.75|    648|    The Beagle Pack!|            5365038|Jeffrey Altman (S...|                 9895486|              member|  4.73|   NY|US/Eastern|         beagle-pack|    -14400|        public|       Beagle Lovers|\n",
            "|   18843|          5|             dancing|             dancing|  10001|New York|     US|2003-06-19 09:53:09|The NYC Bellydanc...|                  -1|          others|     open|40.759998|    420|NYC Bellydance Me...|            5429250|             Tandava|                 2727067|              member|  4.71|   NY|US/Eastern|     NYCBellydancers|    -14400|        public|Bellydancers/Shim...|\n",
            "|   20517|         33|             support|             support|  10001|New York|     US|2003-05-20 01:14:27|So lonely is the ...|              858069|           event| approval|    40.75|    550|The NYC Bipolar M...|           10550279|               Chris|                18804611|              member|  4.66|   NY|US/Eastern|          bipolar-10|    -14400|public_limited|      Merry Lunatics|\n",
            "|   22211|         11|               games|               games|  60601| Chicago|     US|2003-04-17 19:31:25|The Chicagoland a...|           432152102|           event|     open|41.889999|   4146| Chicago Game Lovers|            9470872|          Jeff Engel|                 6517214|              member|  4.72|   IL|US/Central|        chicagogames|    -18000|        public|              Gamers|\n",
            "|   22253|         11|               games|               games|  10001|New York|     US|2003-02-02 22:47:36|We are dedicated ...|              298779|           event|     open|40.779999|   6369|New York City Boa...|            1677076|      Steef Jacobson|               268534502|              member|  4.51|   NY|US/Eastern|      nyc-boardgames|    -14400|public_limited|              Gamers|\n",
            "|   23713|         18|          book clubs|          book-clubs|  10001|New York|     US|2002-10-08 17:22:23|Come join our boo...|             1618976|           event|     open|    40.75|    347|The NYC Bookcross...|            3198499|               Hazel|                36382922|              member|  3.98|   NY|US/Eastern|     bookcrossing-30|    -14400|        public|        BookCrossers|\n",
            "+--------+-----------+--------------------+--------------------+-------+--------+-------+-------------------+--------------------+--------------------+----------------+---------+---------+-------+--------------------+-------------------+--------------------+------------------------+--------------------+------+-----+----------+--------------------+----------+--------------+--------------------+\n",
            "only showing top 20 rows\n",
            "\n"
          ]
        }
      ]
    },
    {
      "cell_type": "code",
      "metadata": {
        "colab": {
          "base_uri": "https://localhost:8080/"
        },
        "id": "We28SbW1b7fP",
        "outputId": "424771b0-730f-4419-dfb5-3df7f5e1ed50"
      },
      "source": [
        "#groupsTopics\n",
        "print ((data_groupsTopics.count() , len (data_groupsTopics.columns)))"
      ],
      "execution_count": 48,
      "outputs": [
        {
          "output_type": "stream",
          "name": "stdout",
          "text": [
            "(31212, 4)\n"
          ]
        }
      ]
    },
    {
      "cell_type": "code",
      "metadata": {
        "colab": {
          "base_uri": "https://localhost:8080/"
        },
        "id": "YYC7bZ_kb7Pd",
        "outputId": "dc7c59b3-0860-490b-f529-edb5cc3bd9cb"
      },
      "source": [
        "data_groupsTopics.show()"
      ],
      "execution_count": 49,
      "outputs": [
        {
          "output_type": "stream",
          "name": "stdout",
          "text": [
            "+--------+----------+----------+--------+\n",
            "|topic_id| topic_key|topic_name|group_id|\n",
            "+--------+----------+----------+--------+\n",
            "|      83|sportsfans|Sports Fan|  241031|\n",
            "|      83|sportsfans|Sports Fan|  289172|\n",
            "|      83|sportsfans|Sports Fan|  295444|\n",
            "|      83|sportsfans|Sports Fan| 1040320|\n",
            "|      83|sportsfans|Sports Fan| 1403055|\n",
            "|      83|sportsfans|Sports Fan| 1426482|\n",
            "|      83|sportsfans|Sports Fan| 1491757|\n",
            "|      83|sportsfans|Sports Fan| 1492775|\n",
            "|      83|sportsfans|Sports Fan| 1621920|\n",
            "|      83|sportsfans|Sports Fan| 1683009|\n",
            "|      83|sportsfans|Sports Fan| 1714061|\n",
            "|      83|sportsfans|Sports Fan| 1733916|\n",
            "|      83|sportsfans|Sports Fan| 3546292|\n",
            "|      83|sportsfans|Sports Fan| 3680352|\n",
            "|      83|sportsfans|Sports Fan| 3785922|\n",
            "|      83|sportsfans|Sports Fan| 3884992|\n",
            "|      83|sportsfans|Sports Fan| 4021122|\n",
            "|      83|sportsfans|Sports Fan| 4274282|\n",
            "|      83|sportsfans|Sports Fan| 4286742|\n",
            "|      83|sportsfans|Sports Fan| 4316032|\n",
            "+--------+----------+----------+--------+\n",
            "only showing top 20 rows\n",
            "\n"
          ]
        }
      ]
    },
    {
      "cell_type": "code",
      "metadata": {
        "colab": {
          "base_uri": "https://localhost:8080/"
        },
        "id": "WNMqfAPhb67o",
        "outputId": "328317bf-4e20-4711-b0a7-0d2b708ab95a"
      },
      "source": [
        "#members\n",
        "print ((data_members.count() , len (data_members.columns)))"
      ],
      "execution_count": 50,
      "outputs": [
        {
          "output_type": "stream",
          "name": "stdout",
          "text": [
            "(134868, 14)\n"
          ]
        }
      ]
    },
    {
      "cell_type": "code",
      "metadata": {
        "colab": {
          "base_uri": "https://localhost:8080/"
        },
        "id": "XkxWjacWcWJp",
        "outputId": "14cc196b-27e1-4851-f743-52e89e5c35cc"
      },
      "source": [
        "data_members.show()"
      ],
      "execution_count": 51,
      "outputs": [
        {
          "output_type": "stream",
          "name": "stdout",
          "text": [
            "+---------+--------------------+--------+-------+------------+-------------------+-----+--------------------+-----+---------------+-----+-------------+-------------------+--------+\n",
            "|member_id|                 bio|    city|country|    hometown|             joined|  lat|                link|  lon|    member_name|state|member_status|            visited|group_id|\n",
            "+---------+--------------------+--------+-------+------------+-------------------+-----+--------------------+-----+---------------+-----+-------------+-------------------+--------+\n",
            "|        3|           not_found|New York|     us|New York, NY|2007-05-01 22:04:37|40.72|http://www.meetup...|-74.0|    Matt Meeker|   NY|       active|2009-09-18 18:32:23|  490552|\n",
            "|        3|           not_found|New York|     us|New York, NY|2011-01-23 14:13:17|40.72|http://www.meetup...|-74.0|    Matt Meeker|   NY|       active|2011-03-20 01:02:11| 1474611|\n",
            "|        3|Hi, I'm Matt. I'm...|New York|     us|New York, NY|2010-12-30 18:47:34|40.72|http://www.meetup...|-74.0|    Matt Meeker|   NY|       active|2011-01-18 20:37:23| 1490492|\n",
            "|        3|Hi, I'm Matt. I'm...|New York|     us|New York, NY|2011-01-03 14:45:21|40.72|http://www.meetup...|-74.0|    Matt Meeker|   NY|       active|2011-07-23 03:42:28| 1515830|\n",
            "|        3|Hi, I'm Matt. I'm...|New York|     us|New York, NY|2010-12-30 18:34:50|40.72|http://www.meetup...|-74.0|    Matt Meeker|   NY|       active|2011-06-13 18:33:23| 1574965|\n",
            "|        3|Hi, I'm Matt. I'm...|New York|     us|New York, NY|2011-01-26 19:37:57|40.72|http://www.meetup...|-74.0|    Matt Meeker|   NY|       active|2012-02-09 20:42:38| 1669000|\n",
            "|        3|Hi, I'm Matt.  I'...|New York|     us|New York, NY|2010-12-30 01:37:39|40.72|http://www.meetup...|-74.0|    Matt Meeker|   NY|       active|2011-01-08 18:02:35| 1751326|\n",
            "|        3|           not_found|New York|     us|New York, NY|2012-06-14 15:38:11|40.72|http://www.meetup...|-74.0|    Matt Meeker|   NY|       active|2012-06-14 15:14:17| 1753252|\n",
            "|        3|Hi, I'm Matt. I'm...|New York|     us|New York, NY|2011-01-10 19:49:53|40.72|http://www.meetup...|-74.0|    Matt Meeker|   NY|       active|2011-01-10 19:49:53| 1761388|\n",
            "|        3|I'm co-founder of...|New York|     us|New York, NY|2014-03-04 19:51:52|40.72|http://www.meetup...|-74.0|    Matt Meeker|   NY|       active|2014-03-05 16:12:42|12967842|\n",
            "|        6| Community organizer|New York|     us|   not_found|2013-09-11 00:42:06|40.73|http://www.meetup...|-74.0|Scott Heiferman|   NY|       active|2014-09-20 12:28:38|  113455|\n",
            "|        6|Hi, I'm the Organ...|New York|     us|   not_found|2006-03-08 16:33:41|40.73|http://www.meetup...|-74.0|Scott Heiferman|   NY|       active|2013-12-04 15:21:59|  225219|\n",
            "|        6|           not_found|New York|     us|   not_found|2010-03-29 22:08:42|40.73|http://www.meetup...|-74.0|Scott Heiferman|   NY|       active|2016-11-07 20:07:34|  306773|\n",
            "|        6|           not_found|New York|     us|   not_found|2009-11-05 19:30:08|40.73|http://www.meetup...|-74.0|Scott Heiferman|   NY|       active|2015-05-04 22:27:22|  366067|\n",
            "|        6|           not_found|New York|     us|   not_found|2012-12-30 19:52:02|40.73|http://www.meetup...|-74.0|Scott Heiferman|   NY|       active|2017-03-11 18:14:10|  431480|\n",
            "|        6|i love the music ...|New York|     us|   not_found|2013-04-23 19:38:23|40.73|http://www.meetup...|-74.0|Scott Heiferman|   NY|       active|2016-09-12 20:56:35|  976696|\n",
            "|        6|           not_found|New York|     us|   not_found|2012-04-12 14:35:15|40.73|http://www.meetup...|-74.0|Scott Heiferman|   NY|       active|2016-04-19 22:17:13| 1183598|\n",
            "|        6|I help people meetup|New York|     us|   not_found|2013-01-16 02:44:38|40.73|http://www.meetup...|-74.0|Scott Heiferman|   NY|       active|2016-07-20 18:35:09| 1282709|\n",
            "|        6|           not_found|New York|     us|   not_found|2014-10-16 00:30:36|40.73|http://www.meetup...|-74.0|Scott Heiferman|   NY|       active|2015-01-04 16:42:42| 1290254|\n",
            "|        6|Dad of Lila Jane,...|New York|     us|   not_found|2011-02-21 19:04:26|40.73|http://www.meetup...|-74.0|Scott Heiferman|   NY|       active|2017-03-16 20:39:20| 1327312|\n",
            "+---------+--------------------+--------+-------+------------+-------------------+-----+--------------------+-----+---------------+-----+-------------+-------------------+--------+\n",
            "only showing top 20 rows\n",
            "\n"
          ]
        }
      ]
    },
    {
      "cell_type": "code",
      "metadata": {
        "id": "4Dgwa5iRcWA8"
      },
      "source": [
        " data_members= data_members.drop (\"link\",\"lon\")"
      ],
      "execution_count": 52,
      "outputs": []
    },
    {
      "cell_type": "code",
      "metadata": {
        "colab": {
          "base_uri": "https://localhost:8080/"
        },
        "id": "9uWjRDCfc79n",
        "outputId": "8059ea32-9a58-4733-d6ee-bb341f576876"
      },
      "source": [
        "data_members.show()"
      ],
      "execution_count": 53,
      "outputs": [
        {
          "output_type": "stream",
          "name": "stdout",
          "text": [
            "+---------+--------------------+--------+-------+------------+-------------------+-----+---------------+-----+-------------+-------------------+--------+\n",
            "|member_id|                 bio|    city|country|    hometown|             joined|  lat|    member_name|state|member_status|            visited|group_id|\n",
            "+---------+--------------------+--------+-------+------------+-------------------+-----+---------------+-----+-------------+-------------------+--------+\n",
            "|        3|           not_found|New York|     us|New York, NY|2007-05-01 22:04:37|40.72|    Matt Meeker|   NY|       active|2009-09-18 18:32:23|  490552|\n",
            "|        3|           not_found|New York|     us|New York, NY|2011-01-23 14:13:17|40.72|    Matt Meeker|   NY|       active|2011-03-20 01:02:11| 1474611|\n",
            "|        3|Hi, I'm Matt. I'm...|New York|     us|New York, NY|2010-12-30 18:47:34|40.72|    Matt Meeker|   NY|       active|2011-01-18 20:37:23| 1490492|\n",
            "|        3|Hi, I'm Matt. I'm...|New York|     us|New York, NY|2011-01-03 14:45:21|40.72|    Matt Meeker|   NY|       active|2011-07-23 03:42:28| 1515830|\n",
            "|        3|Hi, I'm Matt. I'm...|New York|     us|New York, NY|2010-12-30 18:34:50|40.72|    Matt Meeker|   NY|       active|2011-06-13 18:33:23| 1574965|\n",
            "|        3|Hi, I'm Matt. I'm...|New York|     us|New York, NY|2011-01-26 19:37:57|40.72|    Matt Meeker|   NY|       active|2012-02-09 20:42:38| 1669000|\n",
            "|        3|Hi, I'm Matt.  I'...|New York|     us|New York, NY|2010-12-30 01:37:39|40.72|    Matt Meeker|   NY|       active|2011-01-08 18:02:35| 1751326|\n",
            "|        3|           not_found|New York|     us|New York, NY|2012-06-14 15:38:11|40.72|    Matt Meeker|   NY|       active|2012-06-14 15:14:17| 1753252|\n",
            "|        3|Hi, I'm Matt. I'm...|New York|     us|New York, NY|2011-01-10 19:49:53|40.72|    Matt Meeker|   NY|       active|2011-01-10 19:49:53| 1761388|\n",
            "|        3|I'm co-founder of...|New York|     us|New York, NY|2014-03-04 19:51:52|40.72|    Matt Meeker|   NY|       active|2014-03-05 16:12:42|12967842|\n",
            "|        6| Community organizer|New York|     us|   not_found|2013-09-11 00:42:06|40.73|Scott Heiferman|   NY|       active|2014-09-20 12:28:38|  113455|\n",
            "|        6|Hi, I'm the Organ...|New York|     us|   not_found|2006-03-08 16:33:41|40.73|Scott Heiferman|   NY|       active|2013-12-04 15:21:59|  225219|\n",
            "|        6|           not_found|New York|     us|   not_found|2010-03-29 22:08:42|40.73|Scott Heiferman|   NY|       active|2016-11-07 20:07:34|  306773|\n",
            "|        6|           not_found|New York|     us|   not_found|2009-11-05 19:30:08|40.73|Scott Heiferman|   NY|       active|2015-05-04 22:27:22|  366067|\n",
            "|        6|           not_found|New York|     us|   not_found|2012-12-30 19:52:02|40.73|Scott Heiferman|   NY|       active|2017-03-11 18:14:10|  431480|\n",
            "|        6|i love the music ...|New York|     us|   not_found|2013-04-23 19:38:23|40.73|Scott Heiferman|   NY|       active|2016-09-12 20:56:35|  976696|\n",
            "|        6|           not_found|New York|     us|   not_found|2012-04-12 14:35:15|40.73|Scott Heiferman|   NY|       active|2016-04-19 22:17:13| 1183598|\n",
            "|        6|I help people meetup|New York|     us|   not_found|2013-01-16 02:44:38|40.73|Scott Heiferman|   NY|       active|2016-07-20 18:35:09| 1282709|\n",
            "|        6|           not_found|New York|     us|   not_found|2014-10-16 00:30:36|40.73|Scott Heiferman|   NY|       active|2015-01-04 16:42:42| 1290254|\n",
            "|        6|Dad of Lila Jane,...|New York|     us|   not_found|2011-02-21 19:04:26|40.73|Scott Heiferman|   NY|       active|2017-03-16 20:39:20| 1327312|\n",
            "+---------+--------------------+--------+-------+------------+-------------------+-----+---------------+-----+-------------+-------------------+--------+\n",
            "only showing top 20 rows\n",
            "\n"
          ]
        }
      ]
    },
    {
      "cell_type": "code",
      "metadata": {
        "colab": {
          "base_uri": "https://localhost:8080/"
        },
        "id": "Qrk2HeX7c_jb",
        "outputId": "681bc684-cc73-4739-904c-cf66e58fa507"
      },
      "source": [
        "print ((data_members.count() , len (data_members.columns)))"
      ],
      "execution_count": 54,
      "outputs": [
        {
          "output_type": "stream",
          "name": "stdout",
          "text": [
            "(134868, 12)\n"
          ]
        }
      ]
    },
    {
      "cell_type": "code",
      "metadata": {
        "colab": {
          "base_uri": "https://localhost:8080/"
        },
        "id": "Qvmx1myudJbY",
        "outputId": "35f3056e-05c6-4f58-d6e9-f1e1242398f8"
      },
      "source": [
        "#topics\n",
        "print ((data_topics.count() , len (data_topics.columns)))"
      ],
      "execution_count": 55,
      "outputs": [
        {
          "output_type": "stream",
          "name": "stdout",
          "text": [
            "(2509, 7)\n"
          ]
        }
      ]
    },
    {
      "cell_type": "code",
      "metadata": {
        "colab": {
          "base_uri": "https://localhost:8080/"
        },
        "id": "SSapcF8mdJXb",
        "outputId": "140dfa6b-5699-49e3-85ef-617089fcdee9"
      },
      "source": [
        "data_topics.show()"
      ],
      "execution_count": 56,
      "outputs": [
        {
          "output_type": "stream",
          "name": "stdout",
          "text": [
            "+--------+--------------------+--------------------+-------+--------------------+----------+-------------+\n",
            "|topic_id|         description|                link|members|          topic_name|    urlkey|main_topic_id|\n",
            "+--------+--------------------+--------------------+-------+--------------------+----------+-------------+\n",
            "|      83|Meet with others ...|http://sportsfans...| 471594|          Sports Fan|sportsfans|        10451|\n",
            "|     130|Meet with Latin M...|http://latinmusic...| 759757|         Latin Music|latinmusic|        15018|\n",
            "|     182|Want to practice ...|http://esl.meetup...|3176752|English as a Seco...|       esl|        10454|\n",
            "|     183|Meet local Spanis...|http://spanish.me...|1618673|    Spanish Language|   spanish|        10454|\n",
            "|     184|Meet and mingle w...|http://italian.me...| 465231|    Italian Language|   italian|        10454|\n",
            "|     185|Meet local French...|http://french.mee...|1409448|     French Language|    french|        10454|\n",
            "|     206|Meet other local ...|http://digcam.mee...|2054003| Digital Photography|    digcam|          223|\n",
            "|     223|Meet fellow shutt...|http://photo.meet...|3277025|         Photography|     photo|          223|\n",
            "|     225|Meet other local ...|http://ceramic.me...|  31895|        Ceramic Arts|   ceramic|         1502|\n",
            "|     387|Meet other theate...|http://theaterind...|  85226|    Theater Industry|theaterind|         1924|\n",
            "|     496|Meet with local p...|http://gamedev.me...| 455404|    Game Development|   gamedev|        15992|\n",
            "|     505|Meet others in yo...|http://aussie.mee...|  30913|  Australian Culture|    aussie|        10454|\n",
            "|     594|Meet other local ...|http://digitalart...| 154045|         Digital Art|digitalart|         1502|\n",
            "|     611|Meet fellow Wine ...|http://wine.meetu...|4514816|                Wine|      wine|        19227|\n",
            "|     644|Meet and mingle w...|http://german.mee...| 588791|     German Language|    german|        10454|\n",
            "|     681|Meet others in yo...|http://martial.me...| 213559|        Martial Arts|   martial|         1502|\n",
            "|     702|Meet other local ...|http://industrial...|   6085|          Industrial|industrial|         1924|\n",
            "|     708|Join with the wit...|http://foundart.m...|   1156|           Found Art|  foundart|         1502|\n",
            "|     728|Meet other enthus...|http://ddr.meetup...|   5736|Dance Dance Revol...|       ddr|          491|\n",
            "|     763|Meet other local ...|http://sportbikes...| 140140|         Sport Bikes|sportbikes|        10451|\n",
            "+--------+--------------------+--------------------+-------+--------------------+----------+-------------+\n",
            "only showing top 20 rows\n",
            "\n"
          ]
        }
      ]
    },
    {
      "cell_type": "code",
      "metadata": {
        "id": "hIvxebwAdJQa"
      },
      "source": [
        "data_topics=data_topics.drop(\"link\",)"
      ],
      "execution_count": 57,
      "outputs": []
    },
    {
      "cell_type": "code",
      "metadata": {
        "colab": {
          "base_uri": "https://localhost:8080/"
        },
        "id": "KAtakyWIl-Fn",
        "outputId": "d6bc7fe2-8810-4cd1-bc0c-e1939021fcb4"
      },
      "source": [
        "print ((data_topics.count() , len (data_topics.columns)))\n",
        "data_topics.show()"
      ],
      "execution_count": 59,
      "outputs": [
        {
          "output_type": "stream",
          "name": "stdout",
          "text": [
            "(2509, 6)\n",
            "+--------+--------------------+-------+--------------------+----------+-------------+\n",
            "|topic_id|         description|members|          topic_name|    urlkey|main_topic_id|\n",
            "+--------+--------------------+-------+--------------------+----------+-------------+\n",
            "|      83|Meet with others ...| 471594|          Sports Fan|sportsfans|        10451|\n",
            "|     130|Meet with Latin M...| 759757|         Latin Music|latinmusic|        15018|\n",
            "|     182|Want to practice ...|3176752|English as a Seco...|       esl|        10454|\n",
            "|     183|Meet local Spanis...|1618673|    Spanish Language|   spanish|        10454|\n",
            "|     184|Meet and mingle w...| 465231|    Italian Language|   italian|        10454|\n",
            "|     185|Meet local French...|1409448|     French Language|    french|        10454|\n",
            "|     206|Meet other local ...|2054003| Digital Photography|    digcam|          223|\n",
            "|     223|Meet fellow shutt...|3277025|         Photography|     photo|          223|\n",
            "|     225|Meet other local ...|  31895|        Ceramic Arts|   ceramic|         1502|\n",
            "|     387|Meet other theate...|  85226|    Theater Industry|theaterind|         1924|\n",
            "|     496|Meet with local p...| 455404|    Game Development|   gamedev|        15992|\n",
            "|     505|Meet others in yo...|  30913|  Australian Culture|    aussie|        10454|\n",
            "|     594|Meet other local ...| 154045|         Digital Art|digitalart|         1502|\n",
            "|     611|Meet fellow Wine ...|4514816|                Wine|      wine|        19227|\n",
            "|     644|Meet and mingle w...| 588791|     German Language|    german|        10454|\n",
            "|     681|Meet others in yo...| 213559|        Martial Arts|   martial|         1502|\n",
            "|     702|Meet other local ...|   6085|          Industrial|industrial|         1924|\n",
            "|     708|Join with the wit...|   1156|           Found Art|  foundart|         1502|\n",
            "|     728|Meet other enthus...|   5736|Dance Dance Revol...|       ddr|          491|\n",
            "|     763|Meet other local ...| 140140|         Sport Bikes|sportbikes|        10451|\n",
            "+--------+--------------------+-------+--------------------+----------+-------------+\n",
            "only showing top 20 rows\n",
            "\n"
          ]
        }
      ]
    },
    {
      "cell_type": "code",
      "metadata": {
        "colab": {
          "base_uri": "https://localhost:8080/"
        },
        "id": "NtC_L3BNmKuj",
        "outputId": "8f97e538-fcca-4823-8b27-bf071c03b392"
      },
      "source": [
        "#venues\n",
        "print ((data_venues.count() , len (data_venues.columns)))"
      ],
      "execution_count": 60,
      "outputs": [
        {
          "output_type": "stream",
          "name": "stdout",
          "text": [
            "(107093, 14)\n"
          ]
        }
      ]
    },
    {
      "cell_type": "code",
      "metadata": {
        "colab": {
          "base_uri": "https://localhost:8080/"
        },
        "id": "Su6sWzT5mKoL",
        "outputId": "b3dc6ba4-c0cf-42c8-87dc-f5096313b481"
      },
      "source": [
        "data_venues.show()\n",
        "#Drop not performed"
      ],
      "execution_count": 61,
      "outputs": [
        {
          "output_type": "stream",
          "name": "stdout",
          "text": [
            "+--------+--------------------+--------+-------+--------+---------+----------------------+----------+--------------------+------+------------+-----+-----+-----------------+\n",
            "|venue_id|           address_1|    city|country|distance|      lat|localized_country_name|       lon|          venue_name|rating|rating_count|state|  zip|normalised_rating|\n",
            "+--------+--------------------+--------+-------+--------+---------+----------------------+----------+--------------------+------+------------+-----+-----+-----------------+\n",
            "|    5286|      424 Park Ave S|New York|     us|     0.0|40.744259|                   USA|-73.983749|    Starbucks Coffee|   4.0|        51.0|   NY|10016|             3.92|\n",
            "|    5293|        Union Square|New York|     us|     0.0| 40.73139|                   USA|  -73.9884|Virgin Megastore ...|  2.83|       109.0|   NY|10003|              2.8|\n",
            "|    8356|   141 West 72nd St.|New York|     us|     0.0|40.778275|                   USA|-73.980095|Krispy Kreme Doug...|  2.11|        18.0|   NY|10028|              2.0|\n",
            "|   11898| 7000 North Glenwood| Chicago|     us|     0.0|42.009998|                   USA|-87.669998|      Heartland Cafe|   3.8|       275.0|   IL|60626|             3.79|\n",
            "|   12152| Madison Square Park|New York|     us|     0.0|40.703957|                   USA|-73.904144|Friend of James D...|  3.87|        60.0|   NY|10159|             3.81|\n",
            "|   14522|       2252 Broadway|New York|     us|     0.0|40.785015|                   USA|-73.978973|    Starbucks Coffee|   3.0|        24.0|   NY|10024|             2.88|\n",
            "|   16753|        105 1st Ave.|New York|     us|     0.0|40.726833|                   USA|-73.986336|Counter Vegetaria...|  4.15|        47.0|   NY|10003|             4.06|\n",
            "|   17239|118 Rivington Street|New York|     us|     0.0|40.719864|                   USA|-73.987251|        The Magician|  4.22|        72.0|   NY|10002|             4.16|\n",
            "|   17889|         24 Pell St.|New York|     us|     0.0|40.715019|                   USA|-73.998154| World of Vegetarian|  4.08|        26.0|   NY|10013|             3.93|\n",
            "|   18034| 1767 W. Wilson Ave.| Chicago|     us|     0.0|41.970001|                   USA|-87.699997|         Zephyr Cafe|  4.29|        17.0|   IL|60625|             4.05|\n",
            "|   19711|  2311 W. North Ave.| Chicago|     us|     0.0|41.910152|                   USA|-87.685181|           Handlebar|  4.11|        27.0|   IL|60647|             3.96|\n",
            "|   19729|       2186 Broadway|New York|     us|     0.0|40.782694|                   USA|-73.980461|                Cosi|  4.27|       353.0|   NY|10024|             4.26|\n",
            "|   22137|3109 W. Irving Pa...| Chicago|     us|     0.0|41.953857|                   USA| -87.70589|Dharma Garden Tha...|  4.34|       106.0|   IL|60618|              4.3|\n",
            "|   23118|         30 Mott St.|New York|     us|     0.0| 40.71471|                   USA| -73.99855|     Silk Road Mocha|  4.24|        93.0|   NY|10013|             4.19|\n",
            "|   23199|       101 E. 2nd St|New York|     us|     0.0|40.723694|                   USA|-73.987457|Waikiki Wally's (...|  3.62|       170.0|   NY|10009|              3.6|\n",
            "|   24541|        54 Cooper Sq|New York|     us|     0.0| 40.72886|                   USA|   -73.991|web2zone (Interne...|  3.48|        99.0|   NY|10003|             3.45|\n",
            "|   25359|958 West Armitage...| Chicago|     us|     0.0|41.918373|                   USA|-87.653206|            Argo Tea|  4.07|        15.0|   IL|60614|             3.82|\n",
            "|   25757|       626 10th Ave.|New York|     us|     0.0|40.761295|                   USA|-73.994247|        Hallo Berlin|  4.03|       214.0|   NY|10036|             4.01|\n",
            "|   26739|18 West 18 St.  6...|New York|     us|     0.0|  40.7429|                   USA|-73.992775|      CAP 21 Studios|  4.29|       113.0|   NY|10011|             4.25|\n",
            "|   27542|165 West 72nd Street|New York|     us|     0.0|40.778576|                   USA|-73.980919|Kinoko Japanese R...|   4.0|         9.0|   NY|10023|              3.6|\n",
            "+--------+--------------------+--------+-------+--------+---------+----------------------+----------+--------------------+------+------------+-----+-----+-----------------+\n",
            "only showing top 20 rows\n",
            "\n"
          ]
        }
      ]
    },
    {
      "cell_type": "markdown",
      "metadata": {
        "id": "-bRUaj2-mvy6"
      },
      "source": [
        "**Fith part: Join method** "
      ]
    },
    {
      "cell_type": "code",
      "metadata": {
        "id": "AWHLkW2k4QL5"
      },
      "source": [
        "def join(df1, df2, cond, how='left'):\n",
        "    df = df1.join(df2, cond, how=how)\n",
        "    repeated_columns = [c for c in df1.columns if c in df2.columns]\n",
        "    for col in repeated_columns:\n",
        "        df = df.drop(df2[col])\n",
        "    return df"
      ],
      "execution_count": 89,
      "outputs": []
    },
    {
      "cell_type": "code",
      "metadata": {
        "id": "4gfwKmZ24S32"
      },
      "source": [
        "DF1=join(data_cities, data_groups,cond= ['city_id'],how = 'left')"
      ],
      "execution_count": 101,
      "outputs": []
    },
    {
      "cell_type": "code",
      "metadata": {
        "colab": {
          "base_uri": "https://localhost:8080/"
        },
        "id": "m4n1ACd06tPk",
        "outputId": "f06c27b9-dc89-4a14-9135-42e1438a9bb8"
      },
      "source": [
        "DF1.show()"
      ],
      "execution_count": 102,
      "outputs": [
        {
          "output_type": "stream",
          "name": "stdout",
          "text": [
            "+-------+--------------+-------+--------+---------+----------------------+-----------+------------+-------+-----+-----+--------+-----------+--------------------+------------------+-------------------+--------------------+--------------------+----------------+---------+---------+-------+--------------------+-------------------+--------------------+------------------------+--------------------+------+----------+--------------------+----------+--------------+--------------------+\n",
            "|city_id|          city|country|distance| latitude|localized_country_name|  longitude|member_count|ranking|state|  zip|group_id|category_id|       category.name|category.shortname|            created|         description|group_photo.photo_id|group_photo.type|join_mode|      lat|members|          group_name|organizer.member_id|      organizer.name|organizer.photo.photo_id|organizer.photo.type|rating|  timezone|             urlname|utc_offset|    visibility|                 who|\n",
            "+-------+--------------+-------+--------+---------+----------------------+-----------+------------+-------+-----+-----+--------+-----------+--------------------+------------------+-------------------+--------------------+--------------------+----------------+---------+---------+-------+--------------------+-------------------+--------------------+------------------------+--------------------+------+----------+--------------------+----------+--------------+--------------------+\n",
            "|  56567|New York Mills|     us|1418.834|46.689999|                   USA| -95.349998|           5|      1|   MN|56567|    null|       null|                null|              null|               null|                null|                null|            null|     null|     null|   null|                null|               null|                null|                    null|                null|  null|      null|                null|      null|          null|                null|\n",
            "|  94101| San Francisco|     us|  31.839|37.779999|                   USA|-122.419998|       60351|      2|   CA|94101|   26434|         16|language/ethnic i...|          language|2002-11-20 00:19:28|Are you formerly ...|            10681504|           event|     open|37.720001|   1956|The San Francisco...|          190366273|     Mind The Bridge|               257459385|              member|  4.48|US/Pacific|             brit-92|    -25200|        public|Expat British and...|\n",
            "|  94101| San Francisco|     us|  31.839|37.779999|                   USA|-122.419998|       60351|      2|   CA|94101|   33172|         16|language/ethnic i...|          language|2002-10-10 20:13:14|This is a place f...|           445606866|           event|     open|37.790001|   2123|Bay Area Chinese ...|           93184502|                 Ben|               250831132|              member|  4.73|US/Pacific|            mandarin|    -25200|        public|Chinese Culture L...|\n",
            "|  94101| San Francisco|     us|  31.839|37.779999|                   USA|-122.419998|       60351|      2|   CA|94101|   54356|         26|        pets/animals|      pets-animals|2003-02-19 19:26:55|Our Bulldog Meetu...|           111925292|           event|     open|    37.77|   2397|The San Francisco...|            3138653|               lehua|                 3609497|              member|  4.52|US/Pacific|          sfbulldogs|    -25200|        public|      SF Bulldoggers|\n",
            "|  94101| San Francisco|     us|  31.839|37.779999|                   USA|-122.419998|       60351|      2|   CA|94101|   54659|          2|     career/business|   career-business|2002-11-01 19:02:33|San Francisco & S...|                  -1|          others|     open|37.779999|   3648| Entrepreneurs & VCs|          126222492|             Maureen|               255903027|              member|  3.97|US/Pacific|sanfrancisco-entr...|    -25200|        public|Entrepreneurs and...|\n",
            "|  94101| San Francisco|     us|  31.839|37.779999|                   USA|-122.419998|       60351|      2|   CA|94101|   62769|          3|    cars/motorcycles|  cars-motorcycles|2003-10-22 21:39:49|Welcome to the gr...|            19418227|           event|     open|37.779999|    867|The San Francisco...|          184888684|       Peter Habicht|               267578833|              member|  4.57|US/Pacific|         formula1-10|    -25200|        public|      Formula 1 Fans|\n",
            "|  94101| San Francisco|     us|  31.839|37.779999|                   USA|-122.419998|       60351|      2|   CA|94101|   63891|         16|language/ethnic i...|          language|2003-01-11 22:35:56|Les Amis(es) Fran...|           398404112|           event|     open|37.779999|   3621|LES AMI(E)S FRANC...|             810537|              Rachel|                 9815019|              member|  4.49|US/Pacific|    francophonesdeSF|    -25200|        public|        Francophones|\n",
            "|  94101| San Francisco|     us|  31.839|37.779999|                   USA|-122.419998|       60351|      2|   CA|94101|   65802|          2|     career/business|   career-business|2002-10-08 17:22:21|This is a group f...|           446949223|           event| approval|37.779999|   3980|San Franciso Game...|             569876|         Casey Holtz|               207788292|              member|  4.42|US/Pacific|    sfgamedevelopers|    -25200|        public|Video Game Develo...|\n",
            "|  94101| San Francisco|     us|  31.839|37.779999|                   USA|-122.419998|       60351|      2|   CA|94101|   67805|         16|language/ethnic i...|          language|2002-11-29 06:23:16|Amiable group who...|             3951532|           event|     open|    37.75|   3375|SF German Stammtisch|            3672645|        Johanna Fogl|                 1397977|              member|  4.68|US/Pacific|           german-56|    -25200|public_limited|     German Speakers|\n",
            "|  94101| San Francisco|     us|  31.839|37.779999|                   USA|-122.419998|       60351|      2|   CA|94101|   81368|          2|     career/business|   career-business|2003-08-27 21:12:35|Investors and tra...|           435372542|           event|     open|37.779999|   1832|The San Francisco...|           34068522|Investor's Busine...|                37720332|              member|  4.53|US/Pacific|              ibd-95|    -25200|public_limited|           Investors|\n",
            "|  94101| San Francisco|     us|  31.839|37.779999|                   USA|-122.419998|       60351|      2|   CA|94101|   85450|         16|language/ethnic i...|          language|2003-01-02 19:59:22|Benvenuti, Italia...|            87090982|           event|     open|37.779999|   1813|The San Francisco...|            3136421|               Kelly|                41140982|              member|  4.52|US/Pacific|San-Francisco-Ita...|    -25200|public_limited|          Cari amici|\n",
            "|  94101| San Francisco|     us|  31.839|37.779999|                   USA|-122.419998|       60351|      2|   CA|94101|   90517|         21|               music|             music|2004-07-25 17:54:55|The San Francisco...|               54042|           event|     open|37.759998|   1031|SFBA Karaoke Meet...|             159390|Steve DJ Purple H...|               101942232|              member|  4.76|US/Pacific|          karaoke-88|    -25200|        public|     Karaoke Singers|\n",
            "|  94101| San Francisco|     us|  31.839|37.779999|                   USA|-122.419998|       60351|      2|   CA|94101|  107604|         34|                tech|              tech|2004-03-16 09:45:19|A forum for users...|             2933821|           event|     open|37.790001|   2414|     #SFMySQL Meetup|            2267793|       Mike Tougeron|                44748682|              member|  4.39|US/Pacific|            sf-mysql|    -25200|        public|         MySQL Users|\n",
            "|  94101| San Francisco|     us|  31.839|37.779999|                   USA|-122.419998|       60351|      2|   CA|94101|  120903|         34|                tech|              tech|2002-10-08 17:22:20|The SF PHP Commun...|           432119478|           event|     open|    37.77|   2639|    SF PHP Community|          126468982|      Andre Marigold|               267959392|              member|  4.37|US/Pacific|              sf-php|    -25200|        public|      PHP Developers|\n",
            "|  94101| San Francisco|     us|  31.839|37.779999|                   USA|-122.419998|       60351|      2|   CA|94101|  134063|         34|                tech|              tech|2003-10-28 18:22:32|Learning and meet...|            69652312|           event|     open|37.790001|   6058|The San Francisco...|            2368765|            Bosco So|               244829165|              member|   4.6|US/Pacific|              sfruby|    -25200|        public|    Ruby enthusiasts|\n",
            "|  94101| San Francisco|     us|  31.839|37.779999|                   USA|-122.419998|       60351|      2|   CA|94101|  141141|         26|        pets/animals|      pets-animals|2003-04-07 00:44:08|Hello and welcome...|            21037443|           event|     open|37.779999|    716|The San Francisco...|             357792|               Misha|                   96220|              member|  4.77|US/Pacific|San-Francisco-Shi...|    -25200|        public|Shih Tzu Owners &...|\n",
            "|  94101| San Francisco|     us|  31.839|37.779999|                   USA|-122.419998|       60351|      2|   CA|94101|  145990|         16|language/ethnic i...|          language|2002-10-08 17:22:28|Hola!  We are a g...|            76397382|           event|     open|37.790001|   5322|San Francisco Spa...|             810537|              Rachel|                 9815019|              member|  4.47|US/Pacific|Spanish-Language-...|    -25200|        public|    Spanish Speakers|\n",
            "|  94101| San Francisco|     us|  31.839|37.779999|                   USA|-122.419998|       60351|      2|   CA|94101|  157085|         31|         socializing|       socializing|2003-03-20 08:05:39|Love to travel? L...|           462167144|           event|     open|37.790001|   2566|   SF Travel Addicts|          132277952|           Rebecca M|               256247057|              member|  4.55|US/Pacific|   SF-Travel-Addicts|    -25200|        public|      Travel Addicts|\n",
            "|  94101| San Francisco|     us|  31.839|37.779999|                   USA|-122.419998|       60351|      2|   CA|94101|  170014|         26|        pets/animals|      pets-animals|2003-04-03 21:59:34|Hi Fellow Yorkie ...|             6579325|           event|     open|37.799999|    883|San Francisco Yor...|            2153979|Rodi (In memory o...|                  636881|              member|  4.74|US/Pacific|      sfyorkiemeetup|    -25200|        public|       Yorkie Lovers|\n",
            "|  94101| San Francisco|     us|  31.839|37.779999|                   USA|-122.419998|       60351|      2|   CA|94101|  179249|         31|         socializing|       socializing|2004-10-13 01:23:09|Are you new to Sa...|             3413737|           event|     open|37.799999|   4610|SOCIAL SAN FRANCISCO|           11599890|               Steve|                 9089585|              member|  4.72|US/Pacific|Social-Events-San...|    -25200|        public|           Fun Folks|\n",
            "+-------+--------------+-------+--------+---------+----------------------+-----------+------------+-------+-----+-----+--------+-----------+--------------------+------------------+-------------------+--------------------+--------------------+----------------+---------+---------+-------+--------------------+-------------------+--------------------+------------------------+--------------------+------+----------+--------------------+----------+--------------+--------------------+\n",
            "only showing top 20 rows\n",
            "\n"
          ]
        }
      ]
    },
    {
      "cell_type": "code",
      "metadata": {
        "id": "2gpfdrtv5UA6"
      },
      "source": [
        "DF2=join(data_events, data_venues, cond=['venue_id'], how ='left')"
      ],
      "execution_count": 103,
      "outputs": []
    },
    {
      "cell_type": "code",
      "metadata": {
        "colab": {
          "base_uri": "https://localhost:8080/"
        },
        "id": "OsnpC-eT602e",
        "outputId": "e0a797dc-0e0c-4372-b007-327e827eb056"
      },
      "source": [
        "DF2.show()"
      ],
      "execution_count": 104,
      "outputs": [
        {
          "output_type": "stream",
          "name": "stdout",
          "text": [
            "+--------+------------+-------------------+--------------------+--------+-----------+----------+------------+---------------+---------+------------+-------------------+---------------+---------------+--------+---------------+--------------------+--------------------+--------------+---------+--------------------+----------------+--------------------+--------------+------------+----------+------------+-------------------+-------------------+----------+------------------+---------------+----------+-------------+---------+----------------------------+----------+---------------+-----------+--------------+-----------+---------+----------+--------------+---------+--------------+------------------+-------+-------+--------+---------+----------------------+----------+---------------+------+------------+-----+-----+-----------------+\n",
            "|venue_id|    event_id|            created|         description|duration|fee.accepts|fee.amount|fee.currency|fee.description|fee.label|fee.required|      group.created|group.group_lat|group.group_lon|group_id|group.join_mode|          group.name|       group.urlname|     group.who|headcount|      how_to_find_us|maybe_rsvp_count|          event_name|rating.average|rating.count|rsvp_limit|event_status|         event_time|            updated|utc_offset|   venue.address_1|venue.address_2|venue.city|venue.country|venue.lat|venue.localized_country_name| venue.lon|     venue.name|venue.phone|venue.repinned|venue.state|venue.zip|visibility|waitlist_count|      why|yes_rsvp_count|         address_1|   city|country|distance|      lat|localized_country_name|       lon|     venue_name|rating|rating_count|state|  zip|normalised_rating|\n",
            "+--------+------------+-------------------+--------------------+--------+-----------+----------+------------+---------------+---------+------------+-------------------+---------------+---------------+--------+---------------+--------------------+--------------------+--------------+---------+--------------------+----------------+--------------------+--------------+------------+----------+------------+-------------------+-------------------+----------+------------------+---------------+----------+-------------+---------+----------------------------+----------+---------------+-----------+--------------+-----------+---------+----------+--------------+---------+--------------+------------------+-------+-------+--------+---------+----------------------+----------+---------------+------+------------+-----+-----+-----------------+\n",
            "|  843188|dnkfxlywnbnc|2016-08-19 03:03:51|Whether you're wo...|   10800|     others|       0.0|   not_found|     per person|    Price|           0|2012-12-13 10:00:26|      41.919998|     -87.699997| 6224252|       approval|Chicago Womens Cr...|Chicago-Womens-Cr...|Creative Women|        0|We are almost alw...|               0|CO-WORKING for WR...|           0.0|          -1|         5|    upcoming|2017-10-30 17:00:00|2016-08-19 03:03:51|    -18000|3103 W. Logan Blvd|      not_found|   Chicago|           us|41.927906|                         USA|-87.705089|New Wave Coffee|         -1|             0|         IL|       -1|    public|             0|not_found|             1|3103 W. Logan Blvd|Chicago|     us|     0.0|41.927906|                   USA|-87.705089|New Wave Coffee|  4.53|        34.0|   IL|60647|              4.4|\n",
            "|  843188|dnkfxlywpbbc|2016-08-19 03:03:51|Whether you're wo...|   10800|     others|       0.0|   not_found|     per person|    Price|           0|2012-12-13 10:00:26|      41.919998|     -87.699997| 6224252|       approval|Chicago Womens Cr...|Chicago-Womens-Cr...|Creative Women|        0|We are almost alw...|               0|CO-WORKING for WR...|           0.0|          -1|         5|    upcoming|2017-11-20 18:00:00|2016-08-19 03:03:51|    -21600|3103 W. Logan Blvd|      not_found|   Chicago|           us|41.927906|                         USA|-87.705089|New Wave Coffee|         -1|             0|         IL|       -1|    public|             0|not_found|             1|3103 W. Logan Blvd|Chicago|     us|     0.0|41.927906|                   USA|-87.705089|New Wave Coffee|  4.53|        34.0|   IL|60647|              4.4|\n",
            "|  843188|dnkfxlywpbjb|2016-08-19 03:03:51|Whether you're wo...|   10800|     others|       0.0|   not_found|     per person|    Price|           0|2012-12-13 10:00:26|      41.919998|     -87.699997| 6224252|       approval|Chicago Womens Cr...|Chicago-Womens-Cr...|Creative Women|        0|We are almost alw...|               0|CO-WORKING for WR...|           0.0|          -1|         5|    upcoming|2017-11-06 18:00:00|2016-08-19 03:03:51|    -21600|3103 W. Logan Blvd|      not_found|   Chicago|           us|41.927906|                         USA|-87.705089|New Wave Coffee|         -1|             0|         IL|       -1|    public|             0|not_found|             1|3103 W. Logan Blvd|Chicago|     us|     0.0|41.927906|                   USA|-87.705089|New Wave Coffee|  4.53|        34.0|   IL|60647|              4.4|\n",
            "|  843188|dnkfxlywpbkc|2016-08-19 03:03:51|Whether you're wo...|   10800|     others|       0.0|   not_found|     per person|    Price|           0|2012-12-13 10:00:26|      41.919998|     -87.699997| 6224252|       approval|Chicago Womens Cr...|Chicago-Womens-Cr...|Creative Women|        0|We are almost alw...|               0|CO-WORKING for WR...|           0.0|          -1|         5|    upcoming|2017-11-27 18:00:00|2016-08-19 03:03:51|    -21600|3103 W. Logan Blvd|      not_found|   Chicago|           us|41.927906|                         USA|-87.705089|New Wave Coffee|         -1|             0|         IL|       -1|    public|             0|not_found|             1|3103 W. Logan Blvd|Chicago|     us|     0.0|41.927906|                   USA|-87.705089|New Wave Coffee|  4.53|        34.0|   IL|60647|              4.4|\n",
            "|  843188|dnkfxlywpbrb|2016-08-19 03:03:51|Whether you're wo...|   10800|     others|       0.0|   not_found|     per person|    Price|           0|2012-12-13 10:00:26|      41.919998|     -87.699997| 6224252|       approval|Chicago Womens Cr...|Chicago-Womens-Cr...|Creative Women|        0|We are almost alw...|               0|CO-WORKING for WR...|           0.0|          -1|         5|    upcoming|2017-11-13 18:00:00|2016-08-19 03:03:51|    -21600|3103 W. Logan Blvd|      not_found|   Chicago|           us|41.927906|                         USA|-87.705089|New Wave Coffee|         -1|             0|         IL|       -1|    public|             0|not_found|             1|3103 W. Logan Blvd|Chicago|     us|     0.0|41.927906|                   USA|-87.705089|New Wave Coffee|  4.53|        34.0|   IL|60647|              4.4|\n",
            "|  843188|dnkfxlywqbgb|2016-08-19 03:03:51|Whether you're wo...|   10800|     others|       0.0|   not_found|     per person|    Price|           0|2012-12-13 10:00:26|      41.919998|     -87.699997| 6224252|       approval|Chicago Womens Cr...|Chicago-Womens-Cr...|Creative Women|        0|We are almost alw...|               0|CO-WORKING for WR...|           0.0|          -1|         5|    upcoming|2017-12-04 18:00:00|2016-08-19 03:03:51|    -21600|3103 W. Logan Blvd|      not_found|   Chicago|           us|41.927906|                         USA|-87.705089|New Wave Coffee|         -1|             0|         IL|       -1|    public|             0|not_found|             1|3103 W. Logan Blvd|Chicago|     us|     0.0|41.927906|                   USA|-87.705089|New Wave Coffee|  4.53|        34.0|   IL|60647|              4.4|\n",
            "|  843188|dnkfxlywqbhc|2016-08-19 03:03:51|Whether you're wo...|   10800|     others|       0.0|   not_found|     per person|    Price|           0|2012-12-13 10:00:26|      41.919998|     -87.699997| 6224252|       approval|Chicago Womens Cr...|Chicago-Womens-Cr...|Creative Women|        0|We are almost alw...|               0|CO-WORKING for WR...|           0.0|          -1|         5|    upcoming|2017-12-25 18:00:00|2016-08-19 03:03:51|    -21600|3103 W. Logan Blvd|      not_found|   Chicago|           us|41.927906|                         USA|-87.705089|New Wave Coffee|         -1|             0|         IL|       -1|    public|             0|not_found|             1|3103 W. Logan Blvd|Chicago|     us|     0.0|41.927906|                   USA|-87.705089|New Wave Coffee|  4.53|        34.0|   IL|60647|              4.4|\n",
            "|  843188|dnkfxlywqbpb|2016-08-19 03:03:51|Whether you're wo...|   10800|     others|       0.0|   not_found|     per person|    Price|           0|2012-12-13 10:00:26|      41.919998|     -87.699997| 6224252|       approval|Chicago Womens Cr...|Chicago-Womens-Cr...|Creative Women|        0|We are almost alw...|               0|CO-WORKING for WR...|           0.0|          -1|         5|    upcoming|2017-12-11 18:00:00|2016-08-19 03:03:51|    -21600|3103 W. Logan Blvd|      not_found|   Chicago|           us|41.927906|                         USA|-87.705089|New Wave Coffee|         -1|             0|         IL|       -1|    public|             0|not_found|             1|3103 W. Logan Blvd|Chicago|     us|     0.0|41.927906|                   USA|-87.705089|New Wave Coffee|  4.53|        34.0|   IL|60647|              4.4|\n",
            "|  843188|dnkfxlywqbxb|2016-08-19 03:03:51|Whether you're wo...|   10800|     others|       0.0|   not_found|     per person|    Price|           0|2012-12-13 10:00:26|      41.919998|     -87.699997| 6224252|       approval|Chicago Womens Cr...|Chicago-Womens-Cr...|Creative Women|        0|We are almost alw...|               0|CO-WORKING for WR...|           0.0|          -1|         5|    upcoming|2017-12-18 18:00:00|2016-08-19 03:03:51|    -21600|3103 W. Logan Blvd|      not_found|   Chicago|           us|41.927906|                         USA|-87.705089|New Wave Coffee|         -1|             0|         IL|       -1|    public|             0|not_found|             1|3103 W. Logan Blvd|Chicago|     us|     0.0|41.927906|                   USA|-87.705089|New Wave Coffee|  4.53|        34.0|   IL|60647|              4.4|\n",
            "|  843188|dnkfxlyxcbcb|2016-08-19 03:03:51|Whether you're wo...|   10800|     others|       0.0|   not_found|     per person|    Price|           0|2012-12-13 10:00:26|      41.919998|     -87.699997| 6224252|       approval|Chicago Womens Cr...|Chicago-Womens-Cr...|Creative Women|        0|We are almost alw...|               0|CO-WORKING for WR...|           0.0|          -1|         5|    upcoming|2018-01-01 18:00:00|2016-08-19 03:03:51|    -21600|3103 W. Logan Blvd|      not_found|   Chicago|           us|41.927906|                         USA|-87.705089|New Wave Coffee|         -1|             0|         IL|       -1|    public|             0|not_found|             1|3103 W. Logan Blvd|Chicago|     us|     0.0|41.927906|                   USA|-87.705089|New Wave Coffee|  4.53|        34.0|   IL|60647|              4.4|\n",
            "|  843188|dnkfxlyxcbdc|2016-08-19 03:03:51|Whether you're wo...|   10800|     others|       0.0|   not_found|     per person|    Price|           0|2012-12-13 10:00:26|      41.919998|     -87.699997| 6224252|       approval|Chicago Womens Cr...|Chicago-Womens-Cr...|Creative Women|        0|We are almost alw...|               0|CO-WORKING for WR...|           0.0|          -1|         5|    upcoming|2018-01-22 18:00:00|2016-08-19 03:03:51|    -21600|3103 W. Logan Blvd|      not_found|   Chicago|           us|41.927906|                         USA|-87.705089|New Wave Coffee|         -1|             0|         IL|       -1|    public|             0|not_found|             1|3103 W. Logan Blvd|Chicago|     us|     0.0|41.927906|                   USA|-87.705089|New Wave Coffee|  4.53|        34.0|   IL|60647|              4.4|\n",
            "|  843188|dnkfxlyxcblb|2016-08-19 03:03:51|Whether you're wo...|   10800|     others|       0.0|   not_found|     per person|    Price|           0|2012-12-13 10:00:26|      41.919998|     -87.699997| 6224252|       approval|Chicago Womens Cr...|Chicago-Womens-Cr...|Creative Women|        0|We are almost alw...|               0|CO-WORKING for WR...|           0.0|          -1|         5|    upcoming|2018-01-08 18:00:00|2016-08-19 03:03:51|    -21600|3103 W. Logan Blvd|      not_found|   Chicago|           us|41.927906|                         USA|-87.705089|New Wave Coffee|         -1|             0|         IL|       -1|    public|             0|not_found|             1|3103 W. Logan Blvd|Chicago|     us|     0.0|41.927906|                   USA|-87.705089|New Wave Coffee|  4.53|        34.0|   IL|60647|              4.4|\n",
            "|  843188|dnkfxlyxcbmc|2016-08-19 03:03:51|Whether you're wo...|   10800|     others|       0.0|   not_found|     per person|    Price|           0|2012-12-13 10:00:26|      41.919998|     -87.699997| 6224252|       approval|Chicago Womens Cr...|Chicago-Womens-Cr...|Creative Women|        0|We are almost alw...|               0|CO-WORKING for WR...|           0.0|          -1|         5|    upcoming|2018-01-29 18:00:00|2016-08-19 03:03:51|    -21600|3103 W. Logan Blvd|      not_found|   Chicago|           us|41.927906|                         USA|-87.705089|New Wave Coffee|         -1|             0|         IL|       -1|    public|             0|not_found|             1|3103 W. Logan Blvd|Chicago|     us|     0.0|41.927906|                   USA|-87.705089|New Wave Coffee|  4.53|        34.0|   IL|60647|              4.4|\n",
            "|  843188|dnkfxlyxcbtb|2016-08-19 03:03:51|Whether you're wo...|   10800|     others|       0.0|   not_found|     per person|    Price|           0|2012-12-13 10:00:26|      41.919998|     -87.699997| 6224252|       approval|Chicago Womens Cr...|Chicago-Womens-Cr...|Creative Women|        0|We are almost alw...|               0|CO-WORKING for WR...|           0.0|          -1|         5|    upcoming|2018-01-15 18:00:00|2016-08-19 03:03:51|    -21600|3103 W. Logan Blvd|      not_found|   Chicago|           us|41.927906|                         USA|-87.705089|New Wave Coffee|         -1|             0|         IL|       -1|    public|             0|not_found|             1|3103 W. Logan Blvd|Chicago|     us|     0.0|41.927906|                   USA|-87.705089|New Wave Coffee|  4.53|        34.0|   IL|60647|              4.4|\n",
            "|  843188|dnkfxlyxdbhb|2016-08-19 03:03:51|Whether you're wo...|   10800|     others|       0.0|   not_found|     per person|    Price|           0|2012-12-13 10:00:26|      41.919998|     -87.699997| 6224252|       approval|Chicago Womens Cr...|Chicago-Womens-Cr...|Creative Women|        0|We are almost alw...|               0|CO-WORKING for WR...|           0.0|          -1|         5|    upcoming|2018-02-05 18:00:00|2016-08-19 03:03:51|    -21600|3103 W. Logan Blvd|      not_found|   Chicago|           us|41.927906|                         USA|-87.705089|New Wave Coffee|         -1|             0|         IL|       -1|    public|             0|not_found|             1|3103 W. Logan Blvd|Chicago|     us|     0.0|41.927906|                   USA|-87.705089|New Wave Coffee|  4.53|        34.0|   IL|60647|              4.4|\n",
            "|  843188|dnkfxlyxdbjc|2016-08-19 03:03:51|Whether you're wo...|   10800|     others|       0.0|   not_found|     per person|    Price|           0|2012-12-13 10:00:26|      41.919998|     -87.699997| 6224252|       approval|Chicago Womens Cr...|Chicago-Womens-Cr...|Creative Women|        0|We are almost alw...|               0|CO-WORKING for WR...|           0.0|          -1|         5|    upcoming|2018-02-26 18:00:00|2016-08-19 03:03:51|    -21600|3103 W. Logan Blvd|      not_found|   Chicago|           us|41.927906|                         USA|-87.705089|New Wave Coffee|         -1|             0|         IL|       -1|    public|             0|not_found|             1|3103 W. Logan Blvd|Chicago|     us|     0.0|41.927906|                   USA|-87.705089|New Wave Coffee|  4.53|        34.0|   IL|60647|              4.4|\n",
            "|  843188|dnkfxlyxdbqb|2016-08-19 03:03:51|Whether you're wo...|   10800|     others|       0.0|   not_found|     per person|    Price|           0|2012-12-13 10:00:26|      41.919998|     -87.699997| 6224252|       approval|Chicago Womens Cr...|Chicago-Womens-Cr...|Creative Women|        0|We are almost alw...|               0|CO-WORKING for WR...|           0.0|          -1|         5|    upcoming|2018-02-12 18:00:00|2016-08-19 03:03:51|    -21600|3103 W. Logan Blvd|      not_found|   Chicago|           us|41.927906|                         USA|-87.705089|New Wave Coffee|         -1|             0|         IL|       -1|    public|             0|not_found|             1|3103 W. Logan Blvd|Chicago|     us|     0.0|41.927906|                   USA|-87.705089|New Wave Coffee|  4.53|        34.0|   IL|60647|              4.4|\n",
            "|  843188|dnkfxlyxdbzb|2016-08-19 03:03:51|Whether you're wo...|   10800|     others|       0.0|   not_found|     per person|    Price|           0|2012-12-13 10:00:26|      41.919998|     -87.699997| 6224252|       approval|Chicago Womens Cr...|Chicago-Womens-Cr...|Creative Women|        0|We are almost alw...|               0|CO-WORKING for WR...|           0.0|          -1|         5|    upcoming|2018-02-19 18:00:00|2016-08-19 03:03:51|    -21600|3103 W. Logan Blvd|      not_found|   Chicago|           us|41.927906|                         USA|-87.705089|New Wave Coffee|         -1|             0|         IL|       -1|    public|             0|not_found|             1|3103 W. Logan Blvd|Chicago|     us|     0.0|41.927906|                   USA|-87.705089|New Wave Coffee|  4.53|        34.0|   IL|60647|              4.4|\n",
            "|  843188|dnkfxlyxfbhb|2016-08-19 03:03:51|Whether you're wo...|   10800|     others|       0.0|   not_found|     per person|    Price|           0|2012-12-13 10:00:26|      41.919998|     -87.699997| 6224252|       approval|Chicago Womens Cr...|Chicago-Womens-Cr...|Creative Women|        0|We are almost alw...|               0|CO-WORKING for WR...|           0.0|          -1|         5|    upcoming|2018-03-05 18:00:00|2016-08-19 03:03:51|    -21600|3103 W. Logan Blvd|      not_found|   Chicago|           us|41.927906|                         USA|-87.705089|New Wave Coffee|         -1|             0|         IL|       -1|    public|             0|not_found|             1|3103 W. Logan Blvd|Chicago|     us|     0.0|41.927906|                   USA|-87.705089|New Wave Coffee|  4.53|        34.0|   IL|60647|              4.4|\n",
            "|  843188|dnkfxlyxfbjc|2016-08-19 03:03:51|Whether you're wo...|   10800|     others|       0.0|   not_found|     per person|    Price|           0|2012-12-13 10:00:26|      41.919998|     -87.699997| 6224252|       approval|Chicago Womens Cr...|Chicago-Womens-Cr...|Creative Women|        0|We are almost alw...|               0|CO-WORKING for WR...|           0.0|          -1|         5|    upcoming|2018-03-26 17:00:00|2016-08-19 03:03:51|    -18000|3103 W. Logan Blvd|      not_found|   Chicago|           us|41.927906|                         USA|-87.705089|New Wave Coffee|         -1|             0|         IL|       -1|    public|             0|not_found|             1|3103 W. Logan Blvd|Chicago|     us|     0.0|41.927906|                   USA|-87.705089|New Wave Coffee|  4.53|        34.0|   IL|60647|              4.4|\n",
            "+--------+------------+-------------------+--------------------+--------+-----------+----------+------------+---------------+---------+------------+-------------------+---------------+---------------+--------+---------------+--------------------+--------------------+--------------+---------+--------------------+----------------+--------------------+--------------+------------+----------+------------+-------------------+-------------------+----------+------------------+---------------+----------+-------------+---------+----------------------------+----------+---------------+-----------+--------------+-----------+---------+----------+--------------+---------+--------------+------------------+-------+-------+--------+---------+----------------------+----------+---------------+------+------------+-----+-----+-----------------+\n",
            "only showing top 20 rows\n",
            "\n"
          ]
        }
      ]
    },
    {
      "cell_type": "code",
      "metadata": {
        "id": "-9hlVpt96OuF"
      },
      "source": [
        "DF3=join(data_groupsTopics, data_topics, cond=['topic_id'], how ='left')"
      ],
      "execution_count": 106,
      "outputs": []
    },
    {
      "cell_type": "code",
      "metadata": {
        "colab": {
          "base_uri": "https://localhost:8080/"
        },
        "id": "x2TJG42p685c",
        "outputId": "3e25edb5-0449-4ca0-af34-d0d1935aef50"
      },
      "source": [
        "DF3.show()"
      ],
      "execution_count": 107,
      "outputs": [
        {
          "output_type": "stream",
          "name": "stdout",
          "text": [
            "+--------+----------+----------+--------+--------------------+-------+----------+-------------+\n",
            "|topic_id| topic_key|topic_name|group_id|         description|members|    urlkey|main_topic_id|\n",
            "+--------+----------+----------+--------+--------------------+-------+----------+-------------+\n",
            "|      83|sportsfans|Sports Fan|  241031|Meet with others ...| 471594|sportsfans|        10451|\n",
            "|      83|sportsfans|Sports Fan|  289172|Meet with others ...| 471594|sportsfans|        10451|\n",
            "|      83|sportsfans|Sports Fan|  295444|Meet with others ...| 471594|sportsfans|        10451|\n",
            "|      83|sportsfans|Sports Fan| 1040320|Meet with others ...| 471594|sportsfans|        10451|\n",
            "|      83|sportsfans|Sports Fan| 1403055|Meet with others ...| 471594|sportsfans|        10451|\n",
            "|      83|sportsfans|Sports Fan| 1426482|Meet with others ...| 471594|sportsfans|        10451|\n",
            "|      83|sportsfans|Sports Fan| 1491757|Meet with others ...| 471594|sportsfans|        10451|\n",
            "|      83|sportsfans|Sports Fan| 1492775|Meet with others ...| 471594|sportsfans|        10451|\n",
            "|      83|sportsfans|Sports Fan| 1621920|Meet with others ...| 471594|sportsfans|        10451|\n",
            "|      83|sportsfans|Sports Fan| 1683009|Meet with others ...| 471594|sportsfans|        10451|\n",
            "|      83|sportsfans|Sports Fan| 1714061|Meet with others ...| 471594|sportsfans|        10451|\n",
            "|      83|sportsfans|Sports Fan| 1733916|Meet with others ...| 471594|sportsfans|        10451|\n",
            "|      83|sportsfans|Sports Fan| 3546292|Meet with others ...| 471594|sportsfans|        10451|\n",
            "|      83|sportsfans|Sports Fan| 3680352|Meet with others ...| 471594|sportsfans|        10451|\n",
            "|      83|sportsfans|Sports Fan| 3785922|Meet with others ...| 471594|sportsfans|        10451|\n",
            "|      83|sportsfans|Sports Fan| 3884992|Meet with others ...| 471594|sportsfans|        10451|\n",
            "|      83|sportsfans|Sports Fan| 4021122|Meet with others ...| 471594|sportsfans|        10451|\n",
            "|      83|sportsfans|Sports Fan| 4274282|Meet with others ...| 471594|sportsfans|        10451|\n",
            "|      83|sportsfans|Sports Fan| 4286742|Meet with others ...| 471594|sportsfans|        10451|\n",
            "|      83|sportsfans|Sports Fan| 4316032|Meet with others ...| 471594|sportsfans|        10451|\n",
            "+--------+----------+----------+--------+--------------------+-------+----------+-------------+\n",
            "only showing top 20 rows\n",
            "\n"
          ]
        }
      ]
    },
    {
      "cell_type": "code",
      "metadata": {
        "id": "OrcGoi157djT"
      },
      "source": [
        "DF4 = join(DF1,DF2, cond=['group_id'], how='left')"
      ],
      "execution_count": 108,
      "outputs": []
    },
    {
      "cell_type": "code",
      "metadata": {
        "colab": {
          "base_uri": "https://localhost:8080/"
        },
        "id": "awJKazUA7nbj",
        "outputId": "347e1b5e-4a06-4904-bb0f-f0e7c1ce3cea"
      },
      "source": [
        "DF4.show()"
      ],
      "execution_count": 110,
      "outputs": [
        {
          "output_type": "stream",
          "name": "stdout",
          "text": [
            "+--------+-------+-------------+-------+--------+---------+----------------------+-----------+------------+-------+-----+-----+-----------+--------------------+--------------------+-------------------+--------------------+--------------------+----------------+---------+---------+-------+--------------------+-------------------+-----------------+------------------------+--------------------+------+----------+--------------------+----------+--------------+-------------------+--------+--------+--------+-----------+----------+------------+---------------+---------+------------+-------------+---------------+---------------+---------------+----------+-------------+---------+---------+--------------+----------------+----------+--------------+------------+----------+------------+----------+-------+---------------+---------------+----------+-------------+---------+----------------------------+---------+----------+-----------+--------------+-----------+---------+--------------+----+--------------+---------+----+----------+------------+-----------------+\n",
            "|group_id|city_id|         city|country|distance| latitude|localized_country_name|  longitude|member_count|ranking|state|  zip|category_id|       category.name|  category.shortname|            created|         description|group_photo.photo_id|group_photo.type|join_mode|      lat|members|          group_name|organizer.member_id|   organizer.name|organizer.photo.photo_id|organizer.photo.type|rating|  timezone|             urlname|utc_offset|    visibility|                who|venue_id|event_id|duration|fee.accepts|fee.amount|fee.currency|fee.description|fee.label|fee.required|group.created|group.group_lat|group.group_lon|group.join_mode|group.name|group.urlname|group.who|headcount|how_to_find_us|maybe_rsvp_count|event_name|rating.average|rating.count|rsvp_limit|event_status|event_time|updated|venue.address_1|venue.address_2|venue.city|venue.country|venue.lat|venue.localized_country_name|venue.lon|venue.name|venue.phone|venue.repinned|venue.state|venue.zip|waitlist_count| why|yes_rsvp_count|address_1| lon|venue_name|rating_count|normalised_rating|\n",
            "+--------+-------+-------------+-------+--------+---------+----------------------+-----------+------------+-------+-----+-----+-----------+--------------------+--------------------+-------------------+--------------------+--------------------+----------------+---------+---------+-------+--------------------+-------------------+-----------------+------------------------+--------------------+------+----------+--------------------+----------+--------------+-------------------+--------+--------+--------+-----------+----------+------------+---------------+---------+------------+-------------+---------------+---------------+---------------+----------+-------------+---------+---------+--------------+----------------+----------+--------------+------------+----------+------------+----------+-------+---------------+---------------+----------+-------------+---------+----------------------------+---------+----------+-----------+--------------+-----------+---------+--------------+----+--------------+---------+----+----------+------------+-----------------+\n",
            "|   37146|  60601|      Chicago|     us|1798.434|41.880001|                   USA| -87.620003|       90918|      0|   IL|60290|         29|      sci-fi/fantasy|      sci-fi-fantasy|2003-02-02 17:47:47|This comic book m...|             4821334|           event|     open|41.990002|    731|The Chicago Comic...|            1910230|            Terry|               147968962|              member|   4.6|US/Central|       comicschicago|    -18000|        public|Comics Loving Geeks|    null|    null|    null|       null|      null|        null|           null|     null|        null|         null|           null|           null|           null|      null|         null|     null|     null|          null|            null|      null|          null|        null|      null|        null|      null|   null|           null|           null|      null|         null|     null|                        null|     null|      null|       null|          null|       null|     null|          null|null|          null|     null|null|      null|        null|             null|\n",
            "|  682942|  10001|     New York|     us|2526.837|    40.75|                   USA| -73.989998|      229371|      0|   NY|10001|         31|         socializing|         socializing|2007-09-14 01:33:52|Sierra Club Inspi...|             2096447|           event| approval|40.740002|    378|New York City Ins...|           12086455|     Katie George|               192376062|              member|  4.88|US/Eastern|              nycico|    -14400|public_limited|         Volunteers|    null|    null|    null|       null|      null|        null|           null|     null|        null|         null|           null|           null|           null|      null|         null|     null|     null|          null|            null|      null|          null|        null|      null|        null|      null|   null|           null|           null|      null|         null|     null|                        null|     null|      null|       null|          null|       null|     null|          null|null|          null|     null|null|      null|        null|             null|\n",
            "|  687322|  10001|     New York|     us|2526.837|    40.75|                   USA| -73.989998|      229371|      0|   NY|10001|         15|      hobbies/crafts|      hobbies-crafts|2007-09-16 01:06:38|This Meetup Group...|           144976092|           event|     open|40.759998|   1440|Business is Art &...|            9426673| Zorka Kovacevich|                24150022|              member|  4.73|US/Eastern|  Zorkas-BusinessArt|    -14400|        public|       Art$$$Makers|    null|    null|    null|       null|      null|        null|           null|     null|        null|         null|           null|           null|           null|      null|         null|     null|     null|          null|            null|      null|          null|        null|      null|        null|      null|   null|           null|           null|      null|         null|     null|                        null|     null|      null|       null|          null|       null|     null|          null|null|          null|     null|null|      null|        null|             null|\n",
            "|  807758|  10001|     New York|     us|2526.837|    40.75|                   USA| -73.989998|      229371|      0|   NY|10001|         23|  outdoors/adventure|  outdoors-adventure|2007-11-09 18:25:56|The Meetup's 500+...|           236576902|           event|     open|40.740002|   1063|The Miramar Ski Club|            2665123|             Matt|                 3065904|              member|   4.8|US/Eastern|      MiramarSkiClub|    -14400|        public|          Ski Fans!|    null|    null|    null|       null|      null|        null|           null|     null|        null|         null|           null|           null|           null|      null|         null|     null|     null|          null|            null|      null|          null|        null|      null|        null|      null|   null|           null|           null|      null|         null|     null|                        null|     null|      null|       null|          null|       null|     null|          null|null|          null|     null|null|      null|        null|             null|\n",
            "| 1288106|  94101|San Francisco|     us|  31.839|37.779999|                   USA|-122.419998|       60351|      2|   CA|94101|         10|          food/drink|          food-drink|2008-09-23 18:44:18|Meet other local ...|            91744592|           event|     open|37.799999|    897|SouthEastAsian Ex...|            7961379|          Azmeera|                 4651345|              member|  4.79|US/Pacific|          SFSEAexpat|    -25200|        public|            Members|    null|    null|    null|       null|      null|        null|           null|     null|        null|         null|           null|           null|           null|      null|         null|     null|     null|          null|            null|      null|          null|        null|      null|        null|      null|   null|           null|           null|      null|         null|     null|                        null|     null|      null|       null|          null|       null|     null|          null|null|          null|     null|null|      null|        null|             null|\n",
            "| 1308839|  94101|San Francisco|     us|  31.839|37.779999|                   USA|-122.419998|       60351|      2|   CA|94101|         26|        pets/animals|        pets-animals|2008-10-26 18:40:00|Meet other Cavali...|             6349748|           event|     open|37.799999|    638|The San Francisco...|            9817764|         Don Horn|                87255822|              member|  4.82|US/Pacific|          sfcavalier|    -25200|        public|   Cavalier CRAZIES|    null|    null|    null|       null|      null|        null|           null|     null|        null|         null|           null|           null|           null|      null|         null|     null|     null|          null|            null|      null|          null|        null|      null|        null|      null|   null|           null|           null|      null|         null|     null|                        null|     null|      null|       null|          null|       null|     null|          null|null|          null|     null|null|      null|        null|             null|\n",
            "| 1460361|  10001|     New York|     us|2526.837|    40.75|                   USA| -73.989998|      229371|      0|   NY|10001|         30|             singles|             singles|2009-05-22 15:07:37|This group is abo...|           403740242|           event|     open|40.759998|   1139|Heal the Loss of ...|            7098834|       Ben Oofana|                72341662|              member|  4.44|US/Eastern|Heal-the-Loss-of-...|    -14400|        public|            members|    null|    null|    null|       null|      null|        null|           null|     null|        null|         null|           null|           null|           null|      null|         null|     null|     null|          null|            null|      null|          null|        null|      null|        null|      null|   null|           null|           null|      null|         null|     null|                        null|     null|      null|       null|          null|       null|     null|          null|null|          null|     null|null|      null|        null|             null|\n",
            "| 1483633|  10001|     New York|     us|2526.837|    40.75|                   USA| -73.989998|      229371|      0|   NY|10001|         34|                tech|                tech|2009-07-03 18:50:28|The mission of Cl...|           458247654|           event|     open|40.720001|   1457|         Clojure NYC|           10527166|     Andy Parsons|                40413602|              member|  4.57|US/Eastern|         Clojure-NYC|    -14400|        public|         Clojurians|    null|    null|    null|       null|      null|        null|           null|     null|        null|         null|           null|           null|           null|      null|         null|     null|     null|          null|            null|      null|          null|        null|      null|        null|      null|   null|           null|           null|      null|         null|     null|                        null|     null|      null|       null|          null|       null|     null|          null|null|          null|     null|null|      null|        null|             null|\n",
            "| 1533340|  10001|     New York|     us|2526.837|    40.75|                   USA| -73.989998|      229371|      0|   NY|10001|         10|          food/drink|          food-drink|2009-10-01 19:35:48|This is one of a ...|           447727070|           event|     open|    40.75|    337|Hospitalented: Ne...|            3706728|Damien Duchamp II|                 7781909|              member|   4.5|US/Eastern|              Hospi1|    -14400|        public|            Members|    null|    null|    null|       null|      null|        null|           null|     null|        null|         null|           null|           null|           null|      null|         null|     null|     null|          null|            null|      null|          null|        null|      null|        null|      null|   null|           null|           null|      null|         null|     null|                        null|     null|      null|       null|          null|       null|     null|          null|null|          null|     null|null|      null|        null|             null|\n",
            "| 1539044|  60601|      Chicago|     us|1798.434|41.880001|                   USA| -87.620003|       90918|      0|   IL|60290|         34|                tech|                tech|2009-10-12 19:02:57|This group will c...|           458822127|           event|     open|41.889999|    793|Business Intellig...|          186568989|            Kathy|               245647193|              member|  4.88|US/Central|           BIChicago|    -18000|        public|            Members|    null|    null|    null|       null|      null|        null|           null|     null|        null|         null|           null|           null|           null|      null|         null|     null|     null|          null|            null|      null|          null|        null|      null|        null|      null|   null|           null|           null|      null|         null|     null|                        null|     null|      null|       null|          null|       null|     null|          null|null|          null|     null|null|      null|        null|             null|\n",
            "| 1635136|  10001|     New York|     us|2526.837|    40.75|                   USA| -73.989998|      229371|      0|   NY|10001|         16|language/ethnic i...|            language|2010-04-23 04:58:18|This group is for...|           451822325|           event| approval|40.720001|   1290|NYC Asians 30's &...|            8566611|         Benjamin|               245273353|              member|   4.8|US/Eastern|  NYC-Asians-30s-40s|    -14400|public_limited|            Members|    null|    null|    null|       null|      null|        null|           null|     null|        null|         null|           null|           null|           null|      null|         null|     null|     null|          null|            null|      null|          null|        null|      null|        null|      null|   null|           null|           null|      null|         null|     null|                        null|     null|      null|       null|          null|       null|     null|          null|null|          null|     null|null|      null|        null|             null|\n",
            "| 1707405|  10001|     New York|     us|2526.837|    40.75|                   USA| -73.989998|      229371|      0|   NY|10001|          2|     career/business|     career-business|2010-09-15 19:02:04|A group dedicated...|            18004282|           event| approval|40.759998|    125|   Automated Trading|            7460133|              Max|                10785852|              member|  4.92|US/Eastern|    AutomatedTrading|    -14400|        public|            experts|    null|    null|    null|       null|      null|        null|           null|     null|        null|         null|           null|           null|           null|      null|         null|     null|     null|          null|            null|      null|          null|        null|      null|        null|      null|   null|           null|           null|      null|         null|     null|                        null|     null|      null|       null|          null|       null|     null|          null|null|          null|     null|null|      null|        null|             null|\n",
            "| 1716311|  10001|     New York|     us|2526.837|    40.75|                   USA| -73.989998|      229371|      0|   NY|10001|          4|community/environ...|community-environ...|2010-10-03 06:36:11|MISSION\\nThe Arti...|            18424367|           event|     open|40.810001|    107|Artists' Rights M...|           13105825|     Steve Lehman|                10923033|              member|   5.0|US/Eastern|     artistsrightsny|    -14400|        public|          Activists|    null|    null|    null|       null|      null|        null|           null|     null|        null|         null|           null|           null|           null|      null|         null|     null|     null|          null|            null|      null|          null|        null|      null|        null|      null|   null|           null|           null|      null|         null|     null|                        null|     null|      null|       null|          null|       null|     null|          null|null|          null|     null|null|      null|        null|             null|\n",
            "| 1748515|  10001|     New York|     us|2526.837|    40.75|                   USA| -73.989998|      229371|      0|   NY|10001|         34|                tech|                tech|2010-12-09 14:23:53|LispNYCbrings tog...|           458373849|           event|     open|    40.75|   1548|             LispNYC|           13552250|    Arthur Smyles|                11473676|              member|  4.75|US/Eastern|             LispNYC|    -14400|        public|           Lispnycs|    null|    null|    null|       null|      null|        null|           null|     null|        null|         null|           null|           null|           null|      null|         null|     null|     null|          null|            null|      null|          null|        null|      null|        null|      null|   null|           null|           null|      null|         null|     null|                        null|     null|      null|       null|          null|       null|     null|          null|null|          null|     null|null|      null|        null|             null|\n",
            "| 1799642|  60601|      Chicago|     us|1798.434|41.880001|                   USA| -87.620003|       90918|      0|   IL|60290|         25|      parents/family|      parents-family|2011-03-16 14:42:24|Due to changes in...|                  -1|          others| approval|41.880001|      1|           Pinwheels|           14259133|      Lorena Cory|                12425883|              member|  4.97|US/Central|           Pinwheels|    -18000|public_limited|            Members|    null|    null|    null|       null|      null|        null|           null|     null|        null|         null|           null|           null|           null|      null|         null|     null|     null|          null|            null|      null|          null|        null|      null|        null|      null|   null|           null|           null|      null|         null|     null|                        null|     null|      null|       null|          null|       null|     null|          null|null|          null|     null|null|      null|        null|             null|\n",
            "| 3404082|  10001|     New York|     us|2526.837|    40.75|                   USA| -73.989998|      229371|      0|   NY|10001|         23|  outdoors/adventure|  outdoors-adventure|2012-03-02 22:58:21|Please note that ...|           459367348|           event|     open|40.799999|    606|     NYC Fun Cyclers|           31206192|  City Bike Coach|                31473962|              member|  4.37|US/Eastern|     NYC-Fun-Cyclers|    -14400|public_limited|            Members|    null|    null|    null|       null|      null|        null|           null|     null|        null|         null|           null|           null|           null|      null|         null|     null|     null|          null|            null|      null|          null|        null|      null|        null|      null|   null|           null|           null|      null|         null|     null|                        null|     null|      null|       null|          null|       null|     null|          null|null|          null|     null|null|      null|        null|             null|\n",
            "| 3695472|  10001|     New York|     us|2526.837|    40.75|                   USA| -73.989998|      229371|      0|   NY|10001|         34|                tech|                tech|2012-04-18 18:45:05|We are Developer ...|           111560842|           event| approval|    40.73|    152|New York City Dev...|           43055222|            Swift|               250913866|              member|  4.85|US/Eastern|      nycevangelists|    -14400|public_limited|        Evangelists|    null|    null|    null|       null|      null|        null|           null|     null|        null|         null|           null|           null|           null|      null|         null|     null|     null|          null|            null|      null|          null|        null|      null|        null|      null|   null|           null|           null|      null|         null|     null|                        null|     null|      null|       null|          null|       null|     null|          null|null|          null|     null|null|      null|        null|             null|\n",
            "| 3761632|  10001|     New York|     us|2526.837|    40.75|                   USA| -73.989998|      229371|      0|   NY|10001|         31|         socializing|         socializing|2012-04-29 00:50:27|We want to get to...|           185679872|           event| approval|40.720001|    320|Multi-language Co...|           20785831|              May|               111820702|              member|  4.54|US/Eastern|      NYCLangXchange|    -14400|public_limited|            Friends|    null|    null|    null|       null|      null|        null|           null|     null|        null|         null|           null|           null|           null|      null|         null|     null|     null|          null|            null|      null|          null|        null|      null|        null|      null|   null|           null|           null|      null|         null|     null|                        null|     null|      null|       null|          null|       null|     null|          null|null|          null|     null|null|      null|        null|             null|\n",
            "| 3979102|  94101|San Francisco|     us|  31.839|37.779999|                   USA|-122.419998|       60351|      2|   CA|94101|         34|                tech|                tech|2012-05-31 21:15:29|Angular meetup gr...|           463409893|           event|     open|37.790001|   4093|          Angular-SF|            7390527|       Igor Minar|                20373251|              member|  4.64|US/Pacific|          Angular-SF|    -25200|        public|            Members|    null|    null|    null|       null|      null|        null|           null|     null|        null|         null|           null|           null|           null|      null|         null|     null|     null|          null|            null|      null|          null|        null|      null|        null|      null|   null|           null|           null|      null|         null|     null|                        null|     null|      null|       null|          null|       null|     null|          null|null|          null|     null|null|      null|        null|             null|\n",
            "| 5087172|  10001|     New York|     us|2526.837|    40.75|                   USA| -73.989998|      229371|      0|   NY|10001|         34|                tech|                tech|2012-09-24 21:26:02|The NY Haskell Us...|           177507852|           event|     open|    40.75|   1830|New York Haskell ...|            5792473| Gershom Bazerman|                20820231|              member|  4.84|US/Eastern|          NY-Haskell|    -14400|        public|         Haskellers|    null|    null|    null|       null|      null|        null|           null|     null|        null|         null|           null|           null|           null|      null|         null|     null|     null|          null|            null|      null|          null|        null|      null|        null|      null|   null|           null|           null|      null|         null|     null|                        null|     null|      null|       null|          null|       null|     null|          null|null|          null|     null|null|      null|        null|             null|\n",
            "+--------+-------+-------------+-------+--------+---------+----------------------+-----------+------------+-------+-----+-----+-----------+--------------------+--------------------+-------------------+--------------------+--------------------+----------------+---------+---------+-------+--------------------+-------------------+-----------------+------------------------+--------------------+------+----------+--------------------+----------+--------------+-------------------+--------+--------+--------+-----------+----------+------------+---------------+---------+------------+-------------+---------------+---------------+---------------+----------+-------------+---------+---------+--------------+----------------+----------+--------------+------------+----------+------------+----------+-------+---------------+---------------+----------+-------------+---------+----------------------------+---------+----------+-----------+--------------+-----------+---------+--------------+----+--------------+---------+----+----------+------------+-----------------+\n",
            "only showing top 20 rows\n",
            "\n"
          ]
        }
      ]
    },
    {
      "cell_type": "code",
      "metadata": {
        "id": "9frR7VQd759x"
      },
      "source": [
        "DF5=join(DF4,DF3, cond=['group_id'], how='left')"
      ],
      "execution_count": 111,
      "outputs": []
    },
    {
      "cell_type": "code",
      "metadata": {
        "colab": {
          "base_uri": "https://localhost:8080/"
        },
        "id": "Od3due1x8H_a",
        "outputId": "ebafb727-45dd-48f7-bb45-500381873746"
      },
      "source": [
        "DF5.show()"
      ],
      "execution_count": 112,
      "outputs": [
        {
          "output_type": "stream",
          "name": "stdout",
          "text": [
            "+--------+-------+-------------+-------+--------+---------+----------------------+-----------+------------+-------+-----+-----+-----------+------------------+------------------+-------------------+--------------------+--------------------+----------------+---------+---------+-------+--------------------+-------------------+-----------------+------------------------+--------------------+------+----------+--------------------+----------+--------------+-------------------+--------+--------+--------+-----------+----------+------------+---------------+---------+------------+-------------+---------------+---------------+---------------+----------+-------------+---------+---------+--------------+----------------+----------+--------------+------------+----------+------------+----------+-------+---------------+---------------+----------+-------------+---------+----------------------------+---------+----------+-----------+--------------+-----------+---------+--------------+----+--------------+---------+----+----------+------------+-----------------+--------+--------------------+--------------------+--------------------+-------------+\n",
            "|group_id|city_id|         city|country|distance| latitude|localized_country_name|  longitude|member_count|ranking|state|  zip|category_id|     category.name|category.shortname|            created|         description|group_photo.photo_id|group_photo.type|join_mode|      lat|members|          group_name|organizer.member_id|   organizer.name|organizer.photo.photo_id|organizer.photo.type|rating|  timezone|             urlname|utc_offset|    visibility|                who|venue_id|event_id|duration|fee.accepts|fee.amount|fee.currency|fee.description|fee.label|fee.required|group.created|group.group_lat|group.group_lon|group.join_mode|group.name|group.urlname|group.who|headcount|how_to_find_us|maybe_rsvp_count|event_name|rating.average|rating.count|rsvp_limit|event_status|event_time|updated|venue.address_1|venue.address_2|venue.city|venue.country|venue.lat|venue.localized_country_name|venue.lon|venue.name|venue.phone|venue.repinned|venue.state|venue.zip|waitlist_count| why|yes_rsvp_count|address_1| lon|venue_name|rating_count|normalised_rating|topic_id|           topic_key|          topic_name|              urlkey|main_topic_id|\n",
            "+--------+-------+-------------+-------+--------+---------+----------------------+-----------+------------+-------+-----+-----+-----------+------------------+------------------+-------------------+--------------------+--------------------+----------------+---------+---------+-------+--------------------+-------------------+-----------------+------------------------+--------------------+------+----------+--------------------+----------+--------------+-------------------+--------+--------+--------+-----------+----------+------------+---------------+---------+------------+-------------+---------------+---------------+---------------+----------+-------------+---------+---------+--------------+----------------+----------+--------------+------------+----------+------------+----------+-------+---------------+---------------+----------+-------------+---------+----------------------------+---------+----------+-----------+--------------+-----------+---------+--------------+----+--------------+---------+----+----------+------------+-----------------+--------+--------------------+--------------------+--------------------+-------------+\n",
            "|   37146|  60601|      Chicago|     us|1798.434|41.880001|                   USA| -87.620003|       90918|      0|   IL|60290|         29|    sci-fi/fantasy|    sci-fi-fantasy|2003-02-02 17:47:47|This comic book m...|             4821334|           event|     open|41.990002|    731|The Chicago Comic...|            1910230|            Terry|               147968962|              member|   4.6|US/Central|       comicschicago|    -18000|        public|Comics Loving Geeks|    null|    null|    null|       null|      null|        null|           null|     null|        null|         null|           null|           null|           null|      null|         null|     null|     null|          null|            null|      null|          null|        null|      null|        null|      null|   null|           null|           null|      null|         null|     null|                        null|     null|      null|       null|          null|       null|     null|          null|null|          null|     null|null|      null|        null|             null|    null|                null|                null|                null|         null|\n",
            "|  682942|  10001|     New York|     us|2526.837|    40.75|                   USA| -73.989998|      229371|      0|   NY|10001|         31|       socializing|       socializing|2007-09-14 01:33:52|Sierra Club Inspi...|             2096447|           event| approval|40.740002|    378|New York City Ins...|           12086455|     Katie George|               192376062|              member|  4.88|US/Eastern|              nycico|    -14400|public_limited|         Volunteers|    null|    null|    null|       null|      null|        null|           null|     null|        null|         null|           null|           null|           null|      null|         null|     null|     null|          null|            null|      null|          null|        null|      null|        null|      null|   null|           null|           null|      null|         null|     null|                        null|     null|      null|       null|          null|       null|     null|          null|null|          null|     null|null|      null|        null|             null|    null|                null|                null|                null|         null|\n",
            "|  687322|  10001|     New York|     us|2526.837|    40.75|                   USA| -73.989998|      229371|      0|   NY|10001|         15|    hobbies/crafts|    hobbies-crafts|2007-09-16 01:06:38|This Meetup Group...|           144976092|           event|     open|40.759998|   1440|Business is Art &...|            9426673| Zorka Kovacevich|                24150022|              member|  4.73|US/Eastern|  Zorkas-BusinessArt|    -14400|        public|       Art$$$Makers|    null|    null|    null|       null|      null|        null|           null|     null|        null|         null|           null|           null|           null|      null|         null|     null|     null|          null|            null|      null|          null|        null|      null|        null|      null|   null|           null|           null|      null|         null|     null|                        null|     null|      null|       null|          null|       null|     null|          null|null|          null|     null|null|      null|        null|             null|   10099|           craftswap|              Crafts|           craftswap|        10099|\n",
            "|  687322|  10001|     New York|     us|2526.837|    40.75|                   USA| -73.989998|      229371|      0|   NY|10001|         15|    hobbies/crafts|    hobbies-crafts|2007-09-16 01:06:38|This Meetup Group...|           144976092|           event|     open|40.759998|   1440|Business is Art &...|            9426673| Zorka Kovacevich|                24150022|              member|  4.73|US/Eastern|  Zorkas-BusinessArt|    -14400|        public|       Art$$$Makers|    null|    null|    null|       null|      null|        null|           null|     null|        null|         null|           null|           null|           null|      null|         null|     null|     null|          null|            null|      null|          null|        null|      null|        null|      null|   null|           null|           null|      null|         null|     null|                        null|     null|      null|       null|          null|       null|     null|          null|null|          null|     null|null|      null|        null|             null|   10581|              social|              Social|              social|        10581|\n",
            "|  687322|  10001|     New York|     us|2526.837|    40.75|                   USA| -73.989998|      229371|      0|   NY|10001|         15|    hobbies/crafts|    hobbies-crafts|2007-09-16 01:06:38|This Meetup Group...|           144976092|           event|     open|40.759998|   1440|Business is Art &...|            9426673| Zorka Kovacevich|                24150022|              member|  4.73|US/Eastern|  Zorkas-BusinessArt|    -14400|        public|       Art$$$Makers|    null|    null|    null|       null|      null|        null|           null|     null|        null|         null|           null|           null|           null|      null|         null|     null|     null|          null|            null|      null|          null|        null|      null|        null|      null|   null|           null|           null|      null|         null|     null|                        null|     null|      null|       null|          null|       null|     null|          null|null|          null|     null|null|      null|        null|             null|   15043| photography-classes| Photography Classes| photography-classes|          223|\n",
            "|  687322|  10001|     New York|     us|2526.837|    40.75|                   USA| -73.989998|      229371|      0|   NY|10001|         15|    hobbies/crafts|    hobbies-crafts|2007-09-16 01:06:38|This Meetup Group...|           144976092|           event|     open|40.759998|   1440|Business is Art &...|            9426673| Zorka Kovacevich|                24150022|              member|  4.73|US/Eastern|  Zorkas-BusinessArt|    -14400|        public|       Art$$$Makers|    null|    null|    null|       null|      null|        null|           null|     null|        null|         null|           null|           null|           null|      null|         null|     null|     null|          null|            null|      null|          null|        null|      null|        null|      null|   null|           null|           null|      null|         null|     null|                        null|     null|      null|       null|          null|       null|     null|          null|null|          null|     null|null|      null|        null|             null|   21810|     mixed-media-art|     Mixed Media Art|     mixed-media-art|         1502|\n",
            "|  807758|  10001|     New York|     us|2526.837|    40.75|                   USA| -73.989998|      229371|      0|   NY|10001|         23|outdoors/adventure|outdoors-adventure|2007-11-09 18:25:56|The Meetup's 500+...|           236576902|           event|     open|40.740002|   1063|The Miramar Ski Club|            2665123|             Matt|                 3065904|              member|   4.8|US/Eastern|      MiramarSkiClub|    -14400|        public|          Ski Fans!|    null|    null|    null|       null|      null|        null|           null|     null|        null|         null|           null|           null|           null|      null|         null|     null|     null|          null|            null|      null|          null|        null|      null|        null|      null|   null|           null|           null|      null|         null|     null|                        null|     null|      null|       null|          null|       null|     null|          null|null|          null|     null|null|      null|        null|             null|    4422|       socialnetwork|   Social Networking|       socialnetwork|        10581|\n",
            "|  807758|  10001|     New York|     us|2526.837|    40.75|                   USA| -73.989998|      229371|      0|   NY|10001|         23|outdoors/adventure|outdoors-adventure|2007-11-09 18:25:56|The Meetup's 500+...|           236576902|           event|     open|40.740002|   1063|The Miramar Ski Club|            2665123|             Matt|                 3065904|              member|   4.8|US/Eastern|      MiramarSkiClub|    -14400|        public|          Ski Fans!|    null|    null|    null|       null|      null|        null|           null|     null|        null|         null|           null|           null|           null|      null|         null|     null|     null|          null|            null|      null|          null|        null|      null|        null|      null|   null|           null|           null|      null|         null|     null|                        null|     null|      null|       null|          null|       null|     null|          null|null|          null|     null|null|      null|        null|             null|   10451|              sports|Sports and Recrea...|              sports|        10451|\n",
            "|  807758|  10001|     New York|     us|2526.837|    40.75|                   USA| -73.989998|      229371|      0|   NY|10001|         23|outdoors/adventure|outdoors-adventure|2007-11-09 18:25:56|The Meetup's 500+...|           236576902|           event|     open|40.740002|   1063|The Miramar Ski Club|            2665123|             Matt|                 3065904|              member|   4.8|US/Eastern|      MiramarSkiClub|    -14400|        public|          Ski Fans!|    null|    null|    null|       null|      null|        null|           null|     null|        null|         null|           null|           null|           null|      null|         null|     null|     null|          null|            null|      null|          null|        null|      null|        null|      null|   null|           null|           null|      null|         null|     null|                        null|     null|      null|       null|          null|       null|     null|          null|null|          null|     null|null|      null|        null|             null|   15046|            outdoors|            Outdoors|            outdoors|        15046|\n",
            "| 1288106|  94101|San Francisco|     us|  31.839|37.779999|                   USA|-122.419998|       60351|      2|   CA|94101|         10|        food/drink|        food-drink|2008-09-23 18:44:18|Meet other local ...|            91744592|           event|     open|37.799999|    897|SouthEastAsian Ex...|            7961379|          Azmeera|                 4651345|              member|  4.79|US/Pacific|          SFSEAexpat|    -25200|        public|            Members|    null|    null|    null|       null|      null|        null|           null|     null|        null|         null|           null|           null|           null|      null|         null|     null|     null|          null|            null|      null|          null|        null|      null|        null|      null|   null|           null|           null|      null|         null|     null|                        null|     null|      null|       null|          null|       null|     null|          null|null|          null|     null|null|      null|        null|             null|   10454|            language|  Language & Culture|            language|        10454|\n",
            "| 1288106|  94101|San Francisco|     us|  31.839|37.779999|                   USA|-122.419998|       60351|      2|   CA|94101|         10|        food/drink|        food-drink|2008-09-23 18:44:18|Meet other local ...|            91744592|           event|     open|37.799999|    897|SouthEastAsian Ex...|            7961379|          Azmeera|                 4651345|              member|  4.79|US/Pacific|          SFSEAexpat|    -25200|        public|            Members|    null|    null|    null|       null|      null|        null|           null|     null|        null|         null|           null|           null|           null|      null|         null|     null|     null|          null|            null|      null|          null|        null|      null|        null|      null|   null|           null|           null|      null|         null|     null|                        null|     null|      null|       null|          null|       null|     null|          null|null|          null|     null|null|      null|        null|             null|   67622|    culture-exchange|    Culture Exchange|    culture-exchange|        10454|\n",
            "| 1308839|  94101|San Francisco|     us|  31.839|37.779999|                   USA|-122.419998|       60351|      2|   CA|94101|         26|      pets/animals|      pets-animals|2008-10-26 18:40:00|Meet other Cavali...|             6349748|           event|     open|37.799999|    638|The San Francisco...|            9817764|         Don Horn|                87255822|              member|  4.82|US/Pacific|          sfcavalier|    -25200|        public|   Cavalier CRAZIES|    null|    null|    null|       null|      null|        null|           null|     null|        null|         null|           null|           null|           null|      null|         null|     null|     null|          null|            null|      null|          null|        null|      null|        null|      null|   null|           null|           null|      null|         null|     null|                        null|     null|      null|       null|          null|       null|     null|          null|null|          null|     null|null|      null|        null|             null|    null|                null|                null|                null|         null|\n",
            "| 1460361|  10001|     New York|     us|2526.837|    40.75|                   USA| -73.989998|      229371|      0|   NY|10001|         30|           singles|           singles|2009-05-22 15:07:37|This group is abo...|           403740242|           event|     open|40.759998|   1139|Heal the Loss of ...|            7098834|       Ben Oofana|                72341662|              member|  4.44|US/Eastern|Heal-the-Loss-of-...|    -14400|        public|            members|    null|    null|    null|       null|      null|        null|           null|     null|        null|         null|           null|           null|           null|      null|         null|     null|     null|          null|            null|      null|          null|        null|      null|        null|      null|   null|           null|           null|      null|         null|     null|                        null|     null|      null|       null|          null|       null|     null|          null|null|          null|     null|null|      null|        null|             null|   10290|        spirituality|        Spirituality|        spirituality|        10290|\n",
            "| 1460361|  10001|     New York|     us|2526.837|    40.75|                   USA| -73.989998|      229371|      0|   NY|10001|         30|           singles|           singles|2009-05-22 15:07:37|This group is abo...|           403740242|           event|     open|40.759998|   1139|Heal the Loss of ...|            7098834|       Ben Oofana|                72341662|              member|  4.44|US/Eastern|Heal-the-Loss-of-...|    -14400|        public|            members|    null|    null|    null|       null|      null|        null|           null|     null|        null|         null|           null|           null|           null|      null|         null|     null|     null|          null|            null|      null|          null|        null|      null|        null|      null|   null|           null|           null|      null|         null|     null|                        null|     null|      null|       null|          null|       null|     null|          null|null|          null|     null|null|      null|        null|             null|   10581|              social|              Social|              social|        10581|\n",
            "| 1483633|  10001|     New York|     us|2526.837|    40.75|                   USA| -73.989998|      229371|      0|   NY|10001|         34|              tech|              tech|2009-07-03 18:50:28|The mission of Cl...|           458247654|           event|     open|40.720001|   1457|         Clojure NYC|           10527166|     Andy Parsons|                40413602|              member|  4.57|US/Eastern|         Clojure-NYC|    -14400|        public|         Clojurians|    null|    null|    null|       null|      null|        null|           null|     null|        null|         null|           null|           null|           null|      null|         null|     null|     null|          null|            null|      null|          null|        null|      null|        null|      null|   null|           null|           null|      null|         null|     null|                        null|     null|      null|       null|          null|       null|     null|          null|null|          null|     null|null|      null|        null|             null|    null|                null|                null|                null|         null|\n",
            "| 1533340|  10001|     New York|     us|2526.837|    40.75|                   USA| -73.989998|      229371|      0|   NY|10001|         10|        food/drink|        food-drink|2009-10-01 19:35:48|This is one of a ...|           447727070|           event|     open|    40.75|    337|Hospitalented: Ne...|            3706728|Damien Duchamp II|                 7781909|              member|   4.5|US/Eastern|              Hospi1|    -14400|        public|            Members|    null|    null|    null|       null|      null|        null|           null|     null|        null|         null|           null|           null|           null|      null|         null|     null|     null|          null|            null|      null|          null|        null|      null|        null|      null|   null|           null|           null|      null|         null|     null|                        null|     null|      null|       null|          null|       null|     null|          null|null|          null|     null|null|      null|        null|             null|    null|                null|                null|                null|         null|\n",
            "| 1539044|  60601|      Chicago|     us|1798.434|41.880001|                   USA| -87.620003|       90918|      0|   IL|60290|         34|              tech|              tech|2009-10-12 19:02:57|This group will c...|           458822127|           event|     open|41.889999|    793|Business Intellig...|          186568989|            Kathy|               245647193|              member|  4.88|US/Central|           BIChicago|    -18000|        public|            Members|    null|    null|    null|       null|      null|        null|           null|     null|        null|         null|           null|           null|           null|      null|         null|     null|     null|          null|            null|      null|          null|        null|      null|        null|      null|   null|           null|           null|      null|         null|     null|                        null|     null|      null|       null|          null|       null|     null|          null|null|          null|     null|null|      null|        null|             null|   15405|business-referral...|Business Referral...|business-referral...|        15236|\n",
            "| 1539044|  60601|      Chicago|     us|1798.434|41.880001|                   USA| -87.620003|       90918|      0|   IL|60290|         34|              tech|              tech|2009-10-12 19:02:57|This group will c...|           458822127|           event|     open|41.889999|    793|Business Intellig...|          186568989|            Kathy|               245647193|              member|  4.88|US/Central|           BIChicago|    -18000|        public|            Members|    null|    null|    null|       null|      null|        null|           null|     null|        null|         null|           null|           null|           null|      null|         null|     null|     null|          null|            null|      null|          null|        null|      null|        null|      null|   null|           null|           null|      null|         null|     null|                        null|     null|      null|       null|          null|       null|     null|          null|null|          null|     null|null|      null|        null|             null|   15720|professional-netw...|Professional Netw...|professional-netw...|        15236|\n",
            "| 1539044|  60601|      Chicago|     us|1798.434|41.880001|                   USA| -87.620003|       90918|      0|   IL|60290|         34|              tech|              tech|2009-10-12 19:02:57|This group will c...|           458822127|           event|     open|41.889999|    793|Business Intellig...|          186568989|            Kathy|               245647193|              member|  4.88|US/Central|           BIChicago|    -18000|        public|            Members|    null|    null|    null|       null|      null|        null|           null|     null|        null|         null|           null|           null|           null|      null|         null|     null|     null|          null|            null|      null|          null|        null|      null|        null|      null|   null|           null|           null|      null|         null|     null|                        null|     null|      null|       null|          null|       null|     null|          null|null|          null|     null|null|      null|        null|             null|   21866|microsoft-sharepo...|Microsoft SharePo...|microsoft-sharepo...|         9696|\n",
            "| 1539044|  60601|      Chicago|     us|1798.434|41.880001|                   USA| -87.620003|       90918|      0|   IL|60290|         34|              tech|              tech|2009-10-12 19:02:57|This group will c...|           458822127|           event|     open|41.889999|    793|Business Intellig...|          186568989|            Kathy|               245647193|              member|  4.88|US/Central|           BIChicago|    -18000|        public|            Members|    null|    null|    null|       null|      null|        null|           null|     null|        null|         null|           null|           null|           null|      null|         null|     null|     null|          null|            null|      null|          null|        null|      null|        null|      null|   null|           null|           null|      null|         null|     null|                        null|     null|      null|       null|          null|       null|     null|          null|null|          null|     null|null|      null|        null|             null|   88712|social-networking...|Social Networking...|social-networking...|        15236|\n",
            "+--------+-------+-------------+-------+--------+---------+----------------------+-----------+------------+-------+-----+-----+-----------+------------------+------------------+-------------------+--------------------+--------------------+----------------+---------+---------+-------+--------------------+-------------------+-----------------+------------------------+--------------------+------+----------+--------------------+----------+--------------+-------------------+--------+--------+--------+-----------+----------+------------+---------------+---------+------------+-------------+---------------+---------------+---------------+----------+-------------+---------+---------+--------------+----------------+----------+--------------+------------+----------+------------+----------+-------+---------------+---------------+----------+-------------+---------+----------------------------+---------+----------+-----------+--------------+-----------+---------+--------------+----+--------------+---------+----+----------+------------+-----------------+--------+--------------------+--------------------+--------------------+-------------+\n",
            "only showing top 20 rows\n",
            "\n"
          ]
        }
      ]
    },
    {
      "cell_type": "code",
      "metadata": {
        "id": "dyob4D-B8SXR"
      },
      "source": [
        "DF_Batch= join(DF5, data_members, cond=['group_id'], how='left')"
      ],
      "execution_count": 113,
      "outputs": []
    },
    {
      "cell_type": "code",
      "metadata": {
        "colab": {
          "base_uri": "https://localhost:8080/"
        },
        "id": "kcO3fT_58cWi",
        "outputId": "4cf1f1f6-0a9b-41a8-9e84-338a8c135b82"
      },
      "source": [
        "DF_Batch.show()"
      ],
      "execution_count": 114,
      "outputs": [
        {
          "output_type": "stream",
          "name": "stdout",
          "text": [
            "+--------+-------+-------+-------+--------+---------+----------------------+----------+------------+-------+-----+-----+-----------+--------------+------------------+-------------------+--------------------+--------------------+----------------+---------+---------+-------+--------------------+-------------------+--------------+------------------------+--------------------+------+----------+-------------+----------+----------+-------------------+--------+--------+--------+-----------+----------+------------+---------------+---------+------------+-------------+---------------+---------------+---------------+----------+-------------+---------+---------+--------------+----------------+----------+--------------+------------+----------+------------+----------+-------+---------------+---------------+----------+-------------+---------+----------------------------+---------+----------+-----------+--------------+-----------+---------+--------------+----+--------------+---------+----+----------+------------+-----------------+--------+---------+----------+------+-------------+---------+--------------------+----------+-------------------+-----------------+-------------+-------------------+\n",
            "|group_id|city_id|   city|country|distance| latitude|localized_country_name| longitude|member_count|ranking|state|  zip|category_id| category.name|category.shortname|            created|         description|group_photo.photo_id|group_photo.type|join_mode|      lat|members|          group_name|organizer.member_id|organizer.name|organizer.photo.photo_id|organizer.photo.type|rating|  timezone|      urlname|utc_offset|visibility|                who|venue_id|event_id|duration|fee.accepts|fee.amount|fee.currency|fee.description|fee.label|fee.required|group.created|group.group_lat|group.group_lon|group.join_mode|group.name|group.urlname|group.who|headcount|how_to_find_us|maybe_rsvp_count|event_name|rating.average|rating.count|rsvp_limit|event_status|event_time|updated|venue.address_1|venue.address_2|venue.city|venue.country|venue.lat|venue.localized_country_name|venue.lon|venue.name|venue.phone|venue.repinned|venue.state|venue.zip|waitlist_count| why|yes_rsvp_count|address_1| lon|venue_name|rating_count|normalised_rating|topic_id|topic_key|topic_name|urlkey|main_topic_id|member_id|                 bio|  hometown|             joined|      member_name|member_status|            visited|\n",
            "+--------+-------+-------+-------+--------+---------+----------------------+----------+------------+-------+-----+-----+-----------+--------------+------------------+-------------------+--------------------+--------------------+----------------+---------+---------+-------+--------------------+-------------------+--------------+------------------------+--------------------+------+----------+-------------+----------+----------+-------------------+--------+--------+--------+-----------+----------+------------+---------------+---------+------------+-------------+---------------+---------------+---------------+----------+-------------+---------+---------+--------------+----------------+----------+--------------+------------+----------+------------+----------+-------+---------------+---------------+----------+-------------+---------+----------------------------+---------+----------+-----------+--------------+-----------+---------+--------------+----+--------------+---------+----+----------+------------+-----------------+--------+---------+----------+------+-------------+---------+--------------------+----------+-------------------+-----------------+-------------+-------------------+\n",
            "|   37146|  60601|Chicago|     us|1798.434|41.880001|                   USA|-87.620003|       90918|      0|   IL|60290|         29|sci-fi/fantasy|    sci-fi-fantasy|2003-02-02 17:47:47|This comic book m...|             4821334|           event|     open|41.990002|    731|The Chicago Comic...|            1910230|         Terry|               147968962|              member|   4.6|US/Central|comicschicago|    -18000|    public|Comics Loving Geeks|    null|    null|    null|       null|      null|        null|           null|     null|        null|         null|           null|           null|           null|      null|         null|     null|     null|          null|            null|      null|          null|        null|      null|        null|      null|   null|           null|           null|      null|         null|     null|                        null|     null|      null|       null|          null|       null|     null|          null|null|          null|     null|null|      null|        null|             null|    null|     null|      null|  null|         null|     6688|           not_found| not_found|2012-03-16 02:03:06|      Matt Maldre|       active|2013-07-10 22:12:31|\n",
            "|   37146|  60601|Chicago|     us|1798.434|41.880001|                   USA|-87.620003|       90918|      0|   IL|60290|         29|sci-fi/fantasy|    sci-fi-fantasy|2003-02-02 17:47:47|This comic book m...|             4821334|           event|     open|41.990002|    731|The Chicago Comic...|            1910230|         Terry|               147968962|              member|   4.6|US/Central|comicschicago|    -18000|    public|Comics Loving Geeks|    null|    null|    null|       null|      null|        null|           null|     null|        null|         null|           null|           null|           null|      null|         null|     null|     null|          null|            null|      null|          null|        null|      null|        null|      null|   null|           null|           null|      null|         null|     null|                        null|     null|      null|       null|          null|       null|     null|          null|null|          null|     null|null|      null|        null|             null|    null|     null|      null|  null|         null|    10548|           not_found|   Chicago|2016-02-14 06:06:19|   Dave Schneider|       active|2016-04-15 18:10:04|\n",
            "|   37146|  60601|Chicago|     us|1798.434|41.880001|                   USA|-87.620003|       90918|      0|   IL|60290|         29|sci-fi/fantasy|    sci-fi-fantasy|2003-02-02 17:47:47|This comic book m...|             4821334|           event|     open|41.990002|    731|The Chicago Comic...|            1910230|         Terry|               147968962|              member|   4.6|US/Central|comicschicago|    -18000|    public|Comics Loving Geeks|    null|    null|    null|       null|      null|        null|           null|     null|        null|         null|           null|           null|           null|      null|         null|     null|     null|          null|            null|      null|          null|        null|      null|        null|      null|   null|           null|           null|      null|         null|     null|                        null|     null|      null|       null|          null|       null|     null|          null|null|          null|     null|null|      null|        null|             null|    null|     null|      null|  null|         null|    10600|           not_found|  Petoskey|2015-03-20 19:19:04|Kevin Buckstiegel|       active|2015-05-14 18:50:07|\n",
            "|   37146|  60601|Chicago|     us|1798.434|41.880001|                   USA|-87.620003|       90918|      0|   IL|60290|         29|sci-fi/fantasy|    sci-fi-fantasy|2003-02-02 17:47:47|This comic book m...|             4821334|           event|     open|41.990002|    731|The Chicago Comic...|            1910230|         Terry|               147968962|              member|   4.6|US/Central|comicschicago|    -18000|    public|Comics Loving Geeks|    null|    null|    null|       null|      null|        null|           null|     null|        null|         null|           null|           null|           null|      null|         null|     null|     null|          null|            null|      null|          null|        null|      null|        null|      null|   null|           null|           null|      null|         null|     null|                        null|     null|      null|       null|          null|       null|     null|          null|null|          null|     null|null|      null|        null|             null|    null|     null|      null|  null|         null|    52020|           not_found| not_found|2009-10-05 04:34:17|              Nyx|       active|2017-09-07 19:58:50|\n",
            "|   37146|  60601|Chicago|     us|1798.434|41.880001|                   USA|-87.620003|       90918|      0|   IL|60290|         29|sci-fi/fantasy|    sci-fi-fantasy|2003-02-02 17:47:47|This comic book m...|             4821334|           event|     open|41.990002|    731|The Chicago Comic...|            1910230|         Terry|               147968962|              member|   4.6|US/Central|comicschicago|    -18000|    public|Comics Loving Geeks|    null|    null|    null|       null|      null|        null|           null|     null|        null|         null|           null|           null|           null|      null|         null|     null|     null|          null|            null|      null|          null|        null|      null|        null|      null|   null|           null|           null|      null|         null|     null|                        null|     null|      null|       null|          null|       null|     null|          null|null|          null|     null|null|      null|        null|             null|    null|     null|      null|  null|         null|    86324|Eclectic tastes, ...|   Chicago|2003-10-06 22:06:03|              Ian|       active|2004-09-12 08:34:53|\n",
            "|   37146|  60601|Chicago|     us|1798.434|41.880001|                   USA|-87.620003|       90918|      0|   IL|60290|         29|sci-fi/fantasy|    sci-fi-fantasy|2003-02-02 17:47:47|This comic book m...|             4821334|           event|     open|41.990002|    731|The Chicago Comic...|            1910230|         Terry|               147968962|              member|   4.6|US/Central|comicschicago|    -18000|    public|Comics Loving Geeks|    null|    null|    null|       null|      null|        null|           null|     null|        null|         null|           null|           null|           null|      null|         null|     null|     null|          null|            null|      null|          null|        null|      null|        null|      null|   null|           null|           null|      null|         null|     null|                        null|     null|      null|       null|          null|       null|     null|          null|null|          null|     null|null|      null|        null|             null|    null|     null|      null|  null|         null|   155036|I am hoping to ne...|   Chicago|2009-10-15 03:08:56|   Keith Woodruff|       active|2009-10-15 03:08:56|\n",
            "|   37146|  60601|Chicago|     us|1798.434|41.880001|                   USA|-87.620003|       90918|      0|   IL|60290|         29|sci-fi/fantasy|    sci-fi-fantasy|2003-02-02 17:47:47|This comic book m...|             4821334|           event|     open|41.990002|    731|The Chicago Comic...|            1910230|         Terry|               147968962|              member|   4.6|US/Central|comicschicago|    -18000|    public|Comics Loving Geeks|    null|    null|    null|       null|      null|        null|           null|     null|        null|         null|           null|           null|           null|      null|         null|     null|     null|          null|            null|      null|          null|        null|      null|        null|      null|   null|           null|           null|      null|         null|     null|                        null|     null|      null|       null|          null|       null|     null|          null|null|          null|     null|null|      null|        null|             null|    null|     null|      null|  null|         null|   196475|           not_found| not_found|2003-03-06 18:04:50|        jcbart137|       active|2004-08-05 02:48:10|\n",
            "|   37146|  60601|Chicago|     us|1798.434|41.880001|                   USA|-87.620003|       90918|      0|   IL|60290|         29|sci-fi/fantasy|    sci-fi-fantasy|2003-02-02 17:47:47|This comic book m...|             4821334|           event|     open|41.990002|    731|The Chicago Comic...|            1910230|         Terry|               147968962|              member|   4.6|US/Central|comicschicago|    -18000|    public|Comics Loving Geeks|    null|    null|    null|       null|      null|        null|           null|     null|        null|         null|           null|           null|           null|      null|         null|     null|     null|          null|            null|      null|          null|        null|      null|        null|      null|   null|           null|           null|      null|         null|     null|                        null|     null|      null|       null|          null|       null|     null|          null|null|          null|     null|null|      null|        null|             null|    null|     null|      null|  null|         null|   212763|           not_found|Detroit MI|2013-02-03 16:15:04|         Lane Lee|       active|2017-08-19 23:12:54|\n",
            "|   37146|  60601|Chicago|     us|1798.434|41.880001|                   USA|-87.620003|       90918|      0|   IL|60290|         29|sci-fi/fantasy|    sci-fi-fantasy|2003-02-02 17:47:47|This comic book m...|             4821334|           event|     open|41.990002|    731|The Chicago Comic...|            1910230|         Terry|               147968962|              member|   4.6|US/Central|comicschicago|    -18000|    public|Comics Loving Geeks|    null|    null|    null|       null|      null|        null|           null|     null|        null|         null|           null|           null|           null|      null|         null|     null|     null|          null|            null|      null|          null|        null|      null|        null|      null|   null|           null|           null|      null|         null|     null|                        null|     null|      null|       null|          null|       null|     null|          null|null|          null|     null|null|      null|        null|             null|    null|     null|      null|  null|         null|   267157|           not_found| not_found|2003-05-07 02:39:11|     levresdesang|       active|2004-08-05 02:48:10|\n",
            "|   37146|  60601|Chicago|     us|1798.434|41.880001|                   USA|-87.620003|       90918|      0|   IL|60290|         29|sci-fi/fantasy|    sci-fi-fantasy|2003-02-02 17:47:47|This comic book m...|             4821334|           event|     open|41.990002|    731|The Chicago Comic...|            1910230|         Terry|               147968962|              member|   4.6|US/Central|comicschicago|    -18000|    public|Comics Loving Geeks|    null|    null|    null|       null|      null|        null|           null|     null|        null|         null|           null|           null|           null|      null|         null|     null|     null|          null|            null|      null|          null|        null|      null|        null|      null|   null|           null|           null|      null|         null|     null|                        null|     null|      null|       null|          null|       null|     null|          null|null|          null|     null|null|      null|        null|             null|    null|     null|      null|  null|         null|   274877|           not_found| not_found|2007-07-13 00:57:13|            Shane|       active|2013-10-19 23:14:28|\n",
            "|   37146|  60601|Chicago|     us|1798.434|41.880001|                   USA|-87.620003|       90918|      0|   IL|60290|         29|sci-fi/fantasy|    sci-fi-fantasy|2003-02-02 17:47:47|This comic book m...|             4821334|           event|     open|41.990002|    731|The Chicago Comic...|            1910230|         Terry|               147968962|              member|   4.6|US/Central|comicschicago|    -18000|    public|Comics Loving Geeks|    null|    null|    null|       null|      null|        null|           null|     null|        null|         null|           null|           null|           null|      null|         null|     null|     null|          null|            null|      null|          null|        null|      null|        null|      null|   null|           null|           null|      null|         null|     null|                        null|     null|      null|       null|          null|       null|     null|          null|null|          null|     null|null|      null|        null|             null|    null|     null|      null|  null|         null|   494903|Howdy,\\n\\nI do lo...|   Chicago|2007-02-22 00:11:17|             Lana|       active|2015-12-16 20:36:15|\n",
            "|   37146|  60601|Chicago|     us|1798.434|41.880001|                   USA|-87.620003|       90918|      0|   IL|60290|         29|sci-fi/fantasy|    sci-fi-fantasy|2003-02-02 17:47:47|This comic book m...|             4821334|           event|     open|41.990002|    731|The Chicago Comic...|            1910230|         Terry|               147968962|              member|   4.6|US/Central|comicschicago|    -18000|    public|Comics Loving Geeks|    null|    null|    null|       null|      null|        null|           null|     null|        null|         null|           null|           null|           null|      null|         null|     null|     null|          null|            null|      null|          null|        null|      null|        null|      null|   null|           null|           null|      null|         null|     null|                        null|     null|      null|       null|          null|       null|     null|          null|null|          null|     null|null|      null|        null|             null|    null|     null|      null|  null|         null|   554640|I'm Greg, the one...|   Chicago|2003-08-23 04:33:32|       Greg Eagel|       active|2004-08-05 02:48:10|\n",
            "|   37146|  60601|Chicago|     us|1798.434|41.880001|                   USA|-87.620003|       90918|      0|   IL|60290|         29|sci-fi/fantasy|    sci-fi-fantasy|2003-02-02 17:47:47|This comic book m...|             4821334|           event|     open|41.990002|    731|The Chicago Comic...|            1910230|         Terry|               147968962|              member|   4.6|US/Central|comicschicago|    -18000|    public|Comics Loving Geeks|    null|    null|    null|       null|      null|        null|           null|     null|        null|         null|           null|           null|           null|      null|         null|     null|     null|          null|            null|      null|          null|        null|      null|        null|      null|   null|           null|           null|      null|         null|     null|                        null|     null|      null|       null|          null|       null|     null|          null|null|          null|     null|null|      null|        null|             null|    null|     null|      null|  null|         null|   639573|Lifetime Comic Bo...| not_found|2009-06-29 15:14:40|     smallville03|       active|2014-02-10 17:46:36|\n",
            "|   37146|  60601|Chicago|     us|1798.434|41.880001|                   USA|-87.620003|       90918|      0|   IL|60290|         29|sci-fi/fantasy|    sci-fi-fantasy|2003-02-02 17:47:47|This comic book m...|             4821334|           event|     open|41.990002|    731|The Chicago Comic...|            1910230|         Terry|               147968962|              member|   4.6|US/Central|comicschicago|    -18000|    public|Comics Loving Geeks|    null|    null|    null|       null|      null|        null|           null|     null|        null|         null|           null|           null|           null|      null|         null|     null|     null|          null|            null|      null|          null|        null|      null|        null|      null|   null|           null|           null|      null|         null|     null|                        null|     null|      null|       null|          null|       null|     null|          null|null|          null|     null|null|      null|        null|             null|    null|     null|      null|  null|         null|   670302|I've been reading...|Chicago il|2013-05-07 14:10:34|         E. Oneal|       active|2015-01-10 17:24:39|\n",
            "|   37146|  60601|Chicago|     us|1798.434|41.880001|                   USA|-87.620003|       90918|      0|   IL|60290|         29|sci-fi/fantasy|    sci-fi-fantasy|2003-02-02 17:47:47|This comic book m...|             4821334|           event|     open|41.990002|    731|The Chicago Comic...|            1910230|         Terry|               147968962|              member|   4.6|US/Central|comicschicago|    -18000|    public|Comics Loving Geeks|    null|    null|    null|       null|      null|        null|           null|     null|        null|         null|           null|           null|           null|      null|         null|     null|     null|          null|            null|      null|          null|        null|      null|        null|      null|   null|           null|           null|      null|         null|     null|                        null|     null|      null|       null|          null|       null|     null|          null|null|          null|     null|null|      null|        null|             null|    null|     null|      null|  null|         null|   714621|Hello all. I was ...|   Chicago|2007-10-24 00:04:41|          Dereald|       active|2011-01-03 03:54:40|\n",
            "|   37146|  60601|Chicago|     us|1798.434|41.880001|                   USA|-87.620003|       90918|      0|   IL|60290|         29|sci-fi/fantasy|    sci-fi-fantasy|2003-02-02 17:47:47|This comic book m...|             4821334|           event|     open|41.990002|    731|The Chicago Comic...|            1910230|         Terry|               147968962|              member|   4.6|US/Central|comicschicago|    -18000|    public|Comics Loving Geeks|    null|    null|    null|       null|      null|        null|           null|     null|        null|         null|           null|           null|           null|      null|         null|     null|     null|          null|            null|      null|          null|        null|      null|        null|      null|   null|           null|           null|      null|         null|     null|                        null|     null|      null|       null|          null|       null|     null|          null|null|          null|     null|null|      null|        null|             null|    null|     null|      null|  null|         null|   719099|           not_found| not_found|2005-10-20 21:11:20|          Nel son|       active|2017-10-18 19:42:15|\n",
            "|   37146|  60601|Chicago|     us|1798.434|41.880001|                   USA|-87.620003|       90918|      0|   IL|60290|         29|sci-fi/fantasy|    sci-fi-fantasy|2003-02-02 17:47:47|This comic book m...|             4821334|           event|     open|41.990002|    731|The Chicago Comic...|            1910230|         Terry|               147968962|              member|   4.6|US/Central|comicschicago|    -18000|    public|Comics Loving Geeks|    null|    null|    null|       null|      null|        null|           null|     null|        null|         null|           null|           null|           null|      null|         null|     null|     null|          null|            null|      null|          null|        null|      null|        null|      null|   null|           null|           null|      null|         null|     null|                        null|     null|      null|       null|          null|       null|     null|          null|null|          null|     null|null|      null|        null|             null|    null|     null|      null|  null|         null|   914513|           not_found| not_found|2003-12-25 05:31:48| Craig T. Hancock|       active|2004-08-05 02:48:10|\n",
            "|   37146|  60601|Chicago|     us|1798.434|41.880001|                   USA|-87.620003|       90918|      0|   IL|60290|         29|sci-fi/fantasy|    sci-fi-fantasy|2003-02-02 17:47:47|This comic book m...|             4821334|           event|     open|41.990002|    731|The Chicago Comic...|            1910230|         Terry|               147968962|              member|   4.6|US/Central|comicschicago|    -18000|    public|Comics Loving Geeks|    null|    null|    null|       null|      null|        null|           null|     null|        null|         null|           null|           null|           null|      null|         null|     null|     null|          null|            null|      null|          null|        null|      null|        null|      null|   null|           null|           null|      null|         null|     null|                        null|     null|      null|       null|          null|       null|     null|          null|null|          null|     null|null|      null|        null|             null|    null|     null|      null|  null|         null|   921808|           not_found|   Chicago|2004-03-16 14:06:03|       Jimmy Otto|       active|2009-10-03 04:19:30|\n",
            "|   37146|  60601|Chicago|     us|1798.434|41.880001|                   USA|-87.620003|       90918|      0|   IL|60290|         29|sci-fi/fantasy|    sci-fi-fantasy|2003-02-02 17:47:47|This comic book m...|             4821334|           event|     open|41.990002|    731|The Chicago Comic...|            1910230|         Terry|               147968962|              member|   4.6|US/Central|comicschicago|    -18000|    public|Comics Loving Geeks|    null|    null|    null|       null|      null|        null|           null|     null|        null|         null|           null|           null|           null|      null|         null|     null|     null|          null|            null|      null|          null|        null|      null|        null|      null|   null|           null|           null|      null|         null|     null|                        null|     null|      null|       null|          null|       null|     null|          null|null|          null|     null|null|      null|        null|             null|    null|     null|      null|  null|         null|  1161784|           not_found| not_found|2006-10-21 23:28:50|           Justin|       active|2014-04-19 23:00:17|\n",
            "|   37146|  60601|Chicago|     us|1798.434|41.880001|                   USA|-87.620003|       90918|      0|   IL|60290|         29|sci-fi/fantasy|    sci-fi-fantasy|2003-02-02 17:47:47|This comic book m...|             4821334|           event|     open|41.990002|    731|The Chicago Comic...|            1910230|         Terry|               147968962|              member|   4.6|US/Central|comicschicago|    -18000|    public|Comics Loving Geeks|    null|    null|    null|       null|      null|        null|           null|     null|        null|         null|           null|           null|           null|      null|         null|     null|     null|          null|            null|      null|          null|        null|      null|        null|      null|   null|           null|           null|      null|         null|     null|                        null|     null|      null|       null|          null|       null|     null|          null|null|          null|     null|null|      null|        null|             null|    null|     null|      null|  null|         null|  1324258|To meet other peo...| not_found|2010-01-16 18:49:36| Boom Darklighter|       active|2013-02-11 17:38:44|\n",
            "+--------+-------+-------+-------+--------+---------+----------------------+----------+------------+-------+-----+-----+-----------+--------------+------------------+-------------------+--------------------+--------------------+----------------+---------+---------+-------+--------------------+-------------------+--------------+------------------------+--------------------+------+----------+-------------+----------+----------+-------------------+--------+--------+--------+-----------+----------+------------+---------------+---------+------------+-------------+---------------+---------------+---------------+----------+-------------+---------+---------+--------------+----------------+----------+--------------+------------+----------+------------+----------+-------+---------------+---------------+----------+-------------+---------+----------------------------+---------+----------+-----------+--------------+-----------+---------+--------------+----+--------------+---------+----+----------+------------+-----------------+--------+---------+----------+------+-------------+---------+--------------------+----------+-------------------+-----------------+-------------+-------------------+\n",
            "only showing top 20 rows\n",
            "\n"
          ]
        }
      ]
    },
    {
      "cell_type": "code",
      "metadata": {
        "colab": {
          "base_uri": "https://localhost:8080/"
        },
        "id": "MhhG0aX98ltW",
        "outputId": "e11f6de5-ab7d-4323-b5ca-3def85fa80ca"
      },
      "source": [
        "print ((DF_Batch.count() , len (DF_Batch.columns)))"
      ],
      "execution_count": 116,
      "outputs": [
        {
          "output_type": "stream",
          "name": "stdout",
          "text": [
            "(715728, 91)\n"
          ]
        }
      ]
    },
    {
      "cell_type": "code",
      "metadata": {
        "colab": {
          "base_uri": "https://localhost:8080/",
          "height": 1000
        },
        "id": "60-3WlSc9TRU",
        "outputId": "abab4872-6c38-43a3-f904-fdfed856a40b"
      },
      "source": [
        "DF_Batch.printSchema()\n",
        "DF_Batch.describe().toPandas().transpose()"
      ],
      "execution_count": 117,
      "outputs": [
        {
          "output_type": "stream",
          "name": "stdout",
          "text": [
            "root\n",
            " |-- group_id: integer (nullable = true)\n",
            " |-- city_id: integer (nullable = true)\n",
            " |-- city: string (nullable = true)\n",
            " |-- country: string (nullable = true)\n",
            " |-- distance: double (nullable = true)\n",
            " |-- latitude: double (nullable = true)\n",
            " |-- localized_country_name: string (nullable = true)\n",
            " |-- longitude: double (nullable = true)\n",
            " |-- member_count: integer (nullable = true)\n",
            " |-- ranking: integer (nullable = true)\n",
            " |-- state: string (nullable = true)\n",
            " |-- zip: integer (nullable = true)\n",
            " |-- category_id: integer (nullable = true)\n",
            " |-- category.name: string (nullable = true)\n",
            " |-- category.shortname: string (nullable = true)\n",
            " |-- created: string (nullable = true)\n",
            " |-- description: string (nullable = true)\n",
            " |-- group_photo.photo_id: integer (nullable = true)\n",
            " |-- group_photo.type: string (nullable = true)\n",
            " |-- join_mode: string (nullable = true)\n",
            " |-- lat: double (nullable = true)\n",
            " |-- members: integer (nullable = true)\n",
            " |-- group_name: string (nullable = true)\n",
            " |-- organizer.member_id: integer (nullable = true)\n",
            " |-- organizer.name: string (nullable = true)\n",
            " |-- organizer.photo.photo_id: integer (nullable = true)\n",
            " |-- organizer.photo.type: string (nullable = true)\n",
            " |-- rating: double (nullable = true)\n",
            " |-- timezone: string (nullable = true)\n",
            " |-- urlname: string (nullable = true)\n",
            " |-- utc_offset: integer (nullable = true)\n",
            " |-- visibility: string (nullable = true)\n",
            " |-- who: string (nullable = true)\n",
            " |-- venue_id: integer (nullable = true)\n",
            " |-- event_id: string (nullable = true)\n",
            " |-- duration: integer (nullable = true)\n",
            " |-- fee.accepts: string (nullable = true)\n",
            " |-- fee.amount: double (nullable = true)\n",
            " |-- fee.currency: string (nullable = true)\n",
            " |-- fee.description: string (nullable = true)\n",
            " |-- fee.label: string (nullable = true)\n",
            " |-- fee.required: integer (nullable = true)\n",
            " |-- group.created: string (nullable = true)\n",
            " |-- group.group_lat: double (nullable = true)\n",
            " |-- group.group_lon: double (nullable = true)\n",
            " |-- group.join_mode: string (nullable = true)\n",
            " |-- group.name: string (nullable = true)\n",
            " |-- group.urlname: string (nullable = true)\n",
            " |-- group.who: string (nullable = true)\n",
            " |-- headcount: integer (nullable = true)\n",
            " |-- how_to_find_us: string (nullable = true)\n",
            " |-- maybe_rsvp_count: integer (nullable = true)\n",
            " |-- event_name: string (nullable = true)\n",
            " |-- rating.average: double (nullable = true)\n",
            " |-- rating.count: integer (nullable = true)\n",
            " |-- rsvp_limit: integer (nullable = true)\n",
            " |-- event_status: string (nullable = true)\n",
            " |-- event_time: string (nullable = true)\n",
            " |-- updated: string (nullable = true)\n",
            " |-- venue.address_1: string (nullable = true)\n",
            " |-- venue.address_2: string (nullable = true)\n",
            " |-- venue.city: string (nullable = true)\n",
            " |-- venue.country: string (nullable = true)\n",
            " |-- venue.lat: double (nullable = true)\n",
            " |-- venue.localized_country_name: string (nullable = true)\n",
            " |-- venue.lon: double (nullable = true)\n",
            " |-- venue.name: string (nullable = true)\n",
            " |-- venue.phone: long (nullable = true)\n",
            " |-- venue.repinned: integer (nullable = true)\n",
            " |-- venue.state: string (nullable = true)\n",
            " |-- venue.zip: integer (nullable = true)\n",
            " |-- waitlist_count: integer (nullable = true)\n",
            " |-- why: string (nullable = true)\n",
            " |-- yes_rsvp_count: integer (nullable = true)\n",
            " |-- address_1: string (nullable = true)\n",
            " |-- lon: double (nullable = true)\n",
            " |-- venue_name: string (nullable = true)\n",
            " |-- rating_count: double (nullable = true)\n",
            " |-- normalised_rating: double (nullable = true)\n",
            " |-- topic_id: integer (nullable = true)\n",
            " |-- topic_key: string (nullable = true)\n",
            " |-- topic_name: string (nullable = true)\n",
            " |-- urlkey: string (nullable = true)\n",
            " |-- main_topic_id: integer (nullable = true)\n",
            " |-- member_id: integer (nullable = true)\n",
            " |-- bio: string (nullable = true)\n",
            " |-- hometown: string (nullable = true)\n",
            " |-- joined: string (nullable = true)\n",
            " |-- member_name: string (nullable = true)\n",
            " |-- member_status: string (nullable = true)\n",
            " |-- visited: string (nullable = true)\n",
            "\n"
          ]
        },
        {
          "output_type": "execute_result",
          "data": {
            "text/html": [
              "<div>\n",
              "<style scoped>\n",
              "    .dataframe tbody tr th:only-of-type {\n",
              "        vertical-align: middle;\n",
              "    }\n",
              "\n",
              "    .dataframe tbody tr th {\n",
              "        vertical-align: top;\n",
              "    }\n",
              "\n",
              "    .dataframe thead th {\n",
              "        text-align: right;\n",
              "    }\n",
              "</style>\n",
              "<table border=\"1\" class=\"dataframe\">\n",
              "  <thead>\n",
              "    <tr style=\"text-align: right;\">\n",
              "      <th></th>\n",
              "      <th>0</th>\n",
              "      <th>1</th>\n",
              "      <th>2</th>\n",
              "      <th>3</th>\n",
              "      <th>4</th>\n",
              "    </tr>\n",
              "  </thead>\n",
              "  <tbody>\n",
              "    <tr>\n",
              "      <th>summary</th>\n",
              "      <td>count</td>\n",
              "      <td>mean</td>\n",
              "      <td>stddev</td>\n",
              "      <td>min</td>\n",
              "      <td>max</td>\n",
              "    </tr>\n",
              "    <tr>\n",
              "      <th>group_id</th>\n",
              "      <td>715724</td>\n",
              "      <td>4538732.679820713</td>\n",
              "      <td>6461622.9582241345</td>\n",
              "      <td>6388</td>\n",
              "      <td>26378470</td>\n",
              "    </tr>\n",
              "    <tr>\n",
              "      <th>city_id</th>\n",
              "      <td>715728</td>\n",
              "      <td>47072.73769225181</td>\n",
              "      <td>35590.80183879407</td>\n",
              "      <td>7093</td>\n",
              "      <td>95712</td>\n",
              "    </tr>\n",
              "    <tr>\n",
              "      <th>city</th>\n",
              "      <td>715728</td>\n",
              "      <td>None</td>\n",
              "      <td>None</td>\n",
              "      <td>Chicago</td>\n",
              "      <td>West New York</td>\n",
              "    </tr>\n",
              "    <tr>\n",
              "      <th>country</th>\n",
              "      <td>715728</td>\n",
              "      <td>None</td>\n",
              "      <td>None</td>\n",
              "      <td>us</td>\n",
              "      <td>us</td>\n",
              "    </tr>\n",
              "    <tr>\n",
              "      <th>...</th>\n",
              "      <td>...</td>\n",
              "      <td>...</td>\n",
              "      <td>...</td>\n",
              "      <td>...</td>\n",
              "      <td>...</td>\n",
              "    </tr>\n",
              "    <tr>\n",
              "      <th>hometown</th>\n",
              "      <td>701706</td>\n",
              "      <td>95977.33903133903</td>\n",
              "      <td>9617.911658486142</td>\n",
              "      <td>-</td>\n",
              "      <td>utica</td>\n",
              "    </tr>\n",
              "    <tr>\n",
              "      <th>joined</th>\n",
              "      <td>701782</td>\n",
              "      <td>None</td>\n",
              "      <td>None</td>\n",
              "      <td>2002-06-16 17:10:32</td>\n",
              "      <td>2017-11-09 15:39:25</td>\n",
              "    </tr>\n",
              "    <tr>\n",
              "      <th>member_name</th>\n",
              "      <td>701764</td>\n",
              "      <td>NaN</td>\n",
              "      <td>NaN</td>\n",
              "      <td>*)Serafina(*</td>\n",
              "      <td>~Seleee~</td>\n",
              "    </tr>\n",
              "    <tr>\n",
              "      <th>member_status</th>\n",
              "      <td>701782</td>\n",
              "      <td>None</td>\n",
              "      <td>None</td>\n",
              "      <td>active</td>\n",
              "      <td>active</td>\n",
              "    </tr>\n",
              "    <tr>\n",
              "      <th>visited</th>\n",
              "      <td>701782</td>\n",
              "      <td>None</td>\n",
              "      <td>None</td>\n",
              "      <td>2004-08-05 02:48:10</td>\n",
              "      <td>2017-11-09 18:16:09</td>\n",
              "    </tr>\n",
              "  </tbody>\n",
              "</table>\n",
              "<p>92 rows × 5 columns</p>\n",
              "</div>"
            ],
            "text/plain": [
              "                    0  ...                    4\n",
              "summary         count  ...                  max\n",
              "group_id       715724  ...             26378470\n",
              "city_id        715728  ...                95712\n",
              "city           715728  ...        West New York\n",
              "country        715728  ...                   us\n",
              "...               ...  ...                  ...\n",
              "hometown       701706  ...                utica\n",
              "joined         701782  ...  2017-11-09 15:39:25\n",
              "member_name    701764  ...             ~Seleee~\n",
              "member_status  701782  ...               active\n",
              "visited        701782  ...  2017-11-09 18:16:09\n",
              "\n",
              "[92 rows x 5 columns]"
            ]
          },
          "metadata": {},
          "execution_count": 117
        }
      ]
    }
  ]
}